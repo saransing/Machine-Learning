{
 "cells": [
  {
   "cell_type": "markdown",
   "metadata": {},
   "source": [
    "# 1. Introduction"
   ]
  },
  {
   "cell_type": "markdown",
   "metadata": {},
   "source": [
    "**Title** <br>Predicting Movie Success <br><br>\n",
    "**Participants** <br>Aleksandra Adamczak, and Saran Singh <br><br>\n",
    "\n",
    "**Overview** <br>\n",
    "With this assignment, our goal is to develop a machine learning model to predict movie revenue based on key features.\n",
    "\n",
    "We aim to predict a movie's financial success, which is crucial for production and marketing decisions.\n",
    "<br>\n",
    "Many factors affect the success of a movie, and this project aims to explore and identify those key factors."
   ]
  },
  {
   "cell_type": "markdown",
   "metadata": {},
   "source": [
    "# 2. Data Exploration\n",
    "\n",
    "We have two different data sources, both from Kaggle. \n",
    "- **Primary Data Source**: https://www.kaggle.com/datasets/asaniczka/tmdb-movies-dataset-2023-930k-movies/data\n",
    "- **Additional Data Source**: https://www.kaggle.com/datasets/phiitm/late-night-talk-show-youtube-dataset\n",
    "---\n",
    "\n",
    "<h4 style=\"margin-bottom: 0;\">Primary Data Source:</h4>\n",
    "This dataset contains a collection of 1,000,000 movies from the TMDB database.\n",
    "\n",
    "We will use the following CSV files as our primary data sources:\n",
    "1. `tmdb_5000_credits.csv`: Contains information about the cast and crew of each movie.  \n",
    "2. `tmdb_5000_movies.csv`: Contains information about the movies.  \n",
    "---\n",
    "\n",
    "<h4 style=\"margin-bottom: 0;\">Additional Data Source:</h4>\n",
    "Both <b>Youtube</b>, and <b>Late Night Talk Shows</b> are very popular, we will use YouTube data from the Talk Shows to explore specific hypotheses, like does late-night promotions impact metrics like opening weekend revenue, etc.\n",
    "\n",
    "We have data from the following six talk shows:\n",
    "- Conan\n",
    "- James Corden  \n",
    "- Jimmy Fallon  \n",
    "- Jimmy Kimmel  \n",
    "- Seth Meyers  \n",
    "- Stephen Colbert\n",
    "\n",
    "---\n"
   ]
  },
  {
   "cell_type": "markdown",
   "metadata": {},
   "source": [
    "### 2.1 Understand - Primary Dataset"
   ]
  },
  {
   "cell_type": "code",
   "execution_count": 1342,
   "metadata": {},
   "outputs": [
    {
     "name": "stdout",
     "output_type": "stream",
     "text": [
      "<class 'pandas.core.frame.DataFrame'>\n",
      "RangeIndex: 4803 entries, 0 to 4802\n",
      "Data columns (total 20 columns):\n",
      " #   Column                Non-Null Count  Dtype  \n",
      "---  ------                --------------  -----  \n",
      " 0   budget                4803 non-null   int64  \n",
      " 1   genres                4803 non-null   object \n",
      " 2   homepage              1712 non-null   object \n",
      " 3   id                    4803 non-null   int64  \n",
      " 4   keywords              4803 non-null   object \n",
      " 5   original_language     4803 non-null   object \n",
      " 6   original_title        4803 non-null   object \n",
      " 7   overview              4800 non-null   object \n",
      " 8   popularity            4803 non-null   float64\n",
      " 9   production_companies  4803 non-null   object \n",
      " 10  production_countries  4803 non-null   object \n",
      " 11  release_date          4802 non-null   object \n",
      " 12  revenue               4803 non-null   int64  \n",
      " 13  runtime               4801 non-null   float64\n",
      " 14  spoken_languages      4803 non-null   object \n",
      " 15  status                4803 non-null   object \n",
      " 16  tagline               3959 non-null   object \n",
      " 17  title                 4803 non-null   object \n",
      " 18  vote_average          4803 non-null   float64\n",
      " 19  vote_count            4803 non-null   int64  \n",
      "dtypes: float64(3), int64(4), object(13)\n",
      "memory usage: 750.6+ KB\n",
      "None\n",
      "<class 'pandas.core.frame.DataFrame'>\n",
      "RangeIndex: 4803 entries, 0 to 4802\n",
      "Data columns (total 4 columns):\n",
      " #   Column    Non-Null Count  Dtype \n",
      "---  ------    --------------  ----- \n",
      " 0   movie_id  4803 non-null   int64 \n",
      " 1   title     4803 non-null   object\n",
      " 2   cast      4803 non-null   object\n",
      " 3   crew      4803 non-null   object\n",
      "dtypes: int64(1), object(3)\n",
      "memory usage: 150.2+ KB\n",
      "None\n"
     ]
    }
   ],
   "source": [
    "import pandas as pd\n",
    "credits_df = pd.read_csv('Data- movies/Movies/tmdb_5000_credits.csv')\n",
    "movies_df = pd.read_csv('Data- movies/Movies/tmdb_5000_movies.csv')\n",
    "\n",
    "# Data structure overview\n",
    "print(movies_df.info())\n",
    "print(credits_df.info())"
   ]
  },
  {
   "cell_type": "markdown",
   "metadata": {},
   "source": [
    "Key Observations:\n",
    "<br>\n",
    "We have two datasets:\n",
    "<br>\n",
    "- Dataset 1: `movies_df`\n",
    "    - This dataset seems to contain attributes related to movies.\n",
    "    - **Shape**: 4,803 rows and 20 columns.\n",
    "    - **Columns**: We have a mix of numerical like `budget`, `revenue`, `runtime` and categorical values like `genres`, `original_language`.\n",
    "<br>\n",
    "<br>\n",
    "- Dataset 2: `credits_df`\n",
    "    - This dataset contains cast, and crew information.\n",
    "    - **Shape**: 4,803 rows and 4 columns.\n",
    "    - **Columns**: `movie_id`, `title`, `cast`, and `crew`. `movie_id` contains numerical values, and rest cateogrical. \n",
    "<br>\n",
    "- Both datasets seem to be connected via shared key which is <b> id </b> in `movies_df` and <b> movie_id </b> in `credits_df`, we will explore this further as this will help merge data easier.\n"
   ]
  },
  {
   "cell_type": "markdown",
   "metadata": {},
   "source": [
    "2.2 Potential target variables"
   ]
  },
  {
   "cell_type": "code",
   "execution_count": 1343,
   "metadata": {},
   "outputs": [
    {
     "name": "stdout",
     "output_type": "stream",
     "text": [
      "Potential target variables:\n",
      "       revenue  vote_count  popularity     budget\n",
      "0  2787965087       11800  150.437577  237000000\n",
      "1   961000000        4500  139.082615  300000000\n",
      "2   880674609        4466  107.376788  245000000\n",
      "3  1084939099        9106  112.312950  250000000\n",
      "4   284139100        2124   43.926995  260000000\n"
     ]
    }
   ],
   "source": [
    "print(\"Potential target variables:\\n\", movies_df[['revenue', 'vote_count', 'popularity', 'budget']].head())"
   ]
  },
  {
   "cell_type": "markdown",
   "metadata": {},
   "source": [
    "### 2.3 Missing values"
   ]
  },
  {
   "cell_type": "code",
   "execution_count": 1344,
   "metadata": {},
   "outputs": [
    {
     "name": "stdout",
     "output_type": "stream",
     "text": [
      "Movies- Columns with missing values:\n",
      "homepage        3091\n",
      "overview           3\n",
      "release_date       1\n",
      "runtime            2\n",
      "tagline          844\n",
      "dtype: int64\n",
      "Crew- Columns with missing values:\n",
      "Series([], dtype: int64)\n"
     ]
    }
   ],
   "source": [
    "movies_missing_values = movies_df.isnull().sum()\n",
    "credits_missing_values = credits_df.isnull().sum()\n",
    "\n",
    "\n",
    "movies_missing_values = movies_missing_values[movies_missing_values > 0]\n",
    "credits_missing_values = credits_missing_values[credits_missing_values > 0]\n",
    "\n",
    "print(\"Movies- Columns with missing values:\")\n",
    "print(movies_missing_values)\n",
    "\n",
    "print(\"Crew- Columns with missing values:\")\n",
    "print(credits_missing_values)\n"
   ]
  },
  {
   "cell_type": "markdown",
   "metadata": {},
   "source": [
    "### 2.4 Zero values"
   ]
  },
  {
   "cell_type": "code",
   "execution_count": 1345,
   "metadata": {},
   "outputs": [
    {
     "name": "stdout",
     "output_type": "stream",
     "text": [
      "Columns with zero values - Movies:\n",
      "{'budget': np.int64(1037), 'popularity': np.int64(1), 'revenue': np.int64(1427), 'runtime': np.int64(35), 'vote_average': np.int64(63), 'vote_count': np.int64(62)}\n",
      "\n",
      "Columns with zero values - Credits:\n",
      "{}\n"
     ]
    }
   ],
   "source": [
    "zero_values_movies = {}\n",
    "\n",
    "for column in movies_df.columns:\n",
    "    zero_count = (movies_df[column] == 0).sum()\n",
    "    zero_values_movies[column] = zero_count\n",
    "\n",
    "zero_values_movies = {key: value for key, value in zero_values_movies.items() if value > 0}\n",
    "\n",
    "print(\"Columns with zero values - Movies:\")\n",
    "print(zero_values_movies)\n",
    "\n",
    "# Let's do it for credits as well\n",
    "zero_values_credits = {}\n",
    "\n",
    "for column in credits_df.columns:\n",
    "    zero_count = (credits_df[column] == 0).sum()\n",
    "    zero_values_credits[column] = zero_count\n",
    "\n",
    "zero_values_credits = {key: value for key, value in zero_values_credits.items() if value > 0}\n",
    "\n",
    "print(\"\\nColumns with zero values - Credits:\")\n",
    "print(zero_values_credits)"
   ]
  },
  {
   "cell_type": "markdown",
   "metadata": {},
   "source": [
    "Observation:\n",
    "\n",
    "We have a significant amount of zero values and missing values in the movies dataframe, while the credits dataframe does not contain any missing or zero values. However, given the large dataset available, we still have a very good amount of usable data.\n",
    "We will further investigate these columns to decide on an action plan for handling them"
   ]
  },
  {
   "cell_type": "markdown",
   "metadata": {},
   "source": [
    "### 2.5 Combine Datasets"
   ]
  },
  {
   "cell_type": "markdown",
   "metadata": {},
   "source": [
    "We currently have two datasets in our Primary dataset: one containing movie details and the other with cast and crew information.\n",
    "\n",
    "We also have another 5 data sources as our additonal datasets which are related to the talk shows.\n",
    "\n",
    "Our goal is to merge these datasets into a single dataframe by extracting valuable insights. We will do it now since the next step is Splitting the data for test/train.\n",
    "\n",
    "We will first explore this dataset to understand its structure and contents, then decide what specific information to extract and combine with the movie dataset."
   ]
  },
  {
   "cell_type": "markdown",
   "metadata": {},
   "source": [
    "We will start with the `credits_df`"
   ]
  },
  {
   "cell_type": "code",
   "execution_count": 1346,
   "metadata": {},
   "outputs": [
    {
     "name": "stdout",
     "output_type": "stream",
     "text": [
      "First 5 rows of credits dataset:\n",
      "      movie_id                                     title  \\\n",
      "0        19995                                    Avatar   \n",
      "1          285  Pirates of the Caribbean: At World's End   \n",
      "2       206647                                   Spectre   \n",
      "3        49026                     The Dark Knight Rises   \n",
      "4        49529                               John Carter   \n",
      "...        ...                                       ...   \n",
      "4798      9367                               El Mariachi   \n",
      "4799     72766                                 Newlyweds   \n",
      "4800    231617                 Signed, Sealed, Delivered   \n",
      "4801    126186                          Shanghai Calling   \n",
      "4802     25975                         My Date with Drew   \n",
      "\n",
      "                                                   cast  \\\n",
      "0     [{\"cast_id\": 242, \"character\": \"Jake Sully\", \"...   \n",
      "1     [{\"cast_id\": 4, \"character\": \"Captain Jack Spa...   \n",
      "2     [{\"cast_id\": 1, \"character\": \"James Bond\", \"cr...   \n",
      "3     [{\"cast_id\": 2, \"character\": \"Bruce Wayne / Ba...   \n",
      "4     [{\"cast_id\": 5, \"character\": \"John Carter\", \"c...   \n",
      "...                                                 ...   \n",
      "4798  [{\"cast_id\": 1, \"character\": \"El Mariachi\", \"c...   \n",
      "4799  [{\"cast_id\": 1, \"character\": \"Buzzy\", \"credit_...   \n",
      "4800  [{\"cast_id\": 8, \"character\": \"Oliver O\\u2019To...   \n",
      "4801  [{\"cast_id\": 3, \"character\": \"Sam\", \"credit_id...   \n",
      "4802  [{\"cast_id\": 3, \"character\": \"Herself\", \"credi...   \n",
      "\n",
      "                                                   crew  \n",
      "0     [{\"credit_id\": \"52fe48009251416c750aca23\", \"de...  \n",
      "1     [{\"credit_id\": \"52fe4232c3a36847f800b579\", \"de...  \n",
      "2     [{\"credit_id\": \"54805967c3a36829b5002c41\", \"de...  \n",
      "3     [{\"credit_id\": \"52fe4781c3a36847f81398c3\", \"de...  \n",
      "4     [{\"credit_id\": \"52fe479ac3a36847f813eaa3\", \"de...  \n",
      "...                                                 ...  \n",
      "4798  [{\"credit_id\": \"52fe44eec3a36847f80b280b\", \"de...  \n",
      "4799  [{\"credit_id\": \"52fe487dc3a368484e0fb013\", \"de...  \n",
      "4800  [{\"credit_id\": \"52fe4df3c3a36847f8275ecf\", \"de...  \n",
      "4801  [{\"credit_id\": \"52fe4ad9c3a368484e16a36b\", \"de...  \n",
      "4802  [{\"credit_id\": \"58ce021b9251415a390165d9\", \"de...  \n",
      "\n",
      "[4803 rows x 4 columns]\n"
     ]
    }
   ],
   "source": [
    "# Preview the credits dataset\n",
    "print(\"First 5 rows of credits dataset:\")\n",
    "print(credits_df) "
   ]
  },
  {
   "cell_type": "markdown",
   "metadata": {},
   "source": [
    "Obervations:\n",
    "- `movie_id`:\n",
    "    - This will be useful for merging with the main movies dataset.\n",
    "- `title`:\n",
    "    - We could also use the title for merging, but its more reliable to use the  id.\n",
    "- `cast`: Contains JSON-like strings detailing the cast members."
   ]
  },
  {
   "cell_type": "markdown",
   "metadata": {},
   "source": [
    "Lets expand the cast column to visualize the data better and understand it."
   ]
  },
  {
   "cell_type": "code",
   "execution_count": 1347,
   "metadata": {},
   "outputs": [
    {
     "name": "stdout",
     "output_type": "stream",
     "text": [
      "\"[{\\\"cast_id\\\": 242, \\\"character\\\": \\\"Jake Sully\\\", \\\"credit_id\\\": \\\"5602a8a7c3a3685532001c9a\\\", \\\"gender\\\": 2, \\\"id\\\": 65731, \\\"name\\\": \\\"Sam Worthington\\\", \\\"order\\\": 0}, {\\\"cast_id\\\": 3, \\\"character\\\": \\\"Neytiri\\\", \\\"credit_id\\\": \\\"52fe48009251416c750ac9cb\\\", \\\"gender\\\": 1, \\\"id\\\": 8691, \\\"name\\\": \\\"Zoe Saldana\\\", \\\"order\\\": 1}, {\\\"cast_id\\\": 25, \\\"character\\\": \\\"Dr. Grace Augustine\\\", \\\"credit_id\\\": \\\"52fe48009251416c750aca39\\\", \\\"gender\\\": 1, \\\"id\\\": 10205, \\\"name\\\": \\\"Sigourney Weaver\\\", \\\"order\\\": 2}, {\\\"cast_id\\\": 4, \\\"character\\\": \\\"Col. Quaritch\\\", \\\"credit_id\\\": \\\"52fe48009251416c750ac9cf\\\", \\\"gender\\\": 2, \\\"id\\\": 32747, \\\"name\\\": \\\"Stephen Lang\\\", \\\"order\\\": 3}, {\\\"cast_id\\\": 5, \\\"character\\\": \\\"Trudy Chacon\\\", \\\"credit_id\\\": \\\"52fe48009251416c750ac9d3\\\", \\\"gender\\\": 1, \\\"id\\\": 17647, \\\"name\\\": \\\"Michelle Rodriguez\\\", \\\"order\\\": 4}, {\\\"cast_id\\\": 8, \\\"character\\\": \\\"Selfridge\\\", \\\"credit_id\\\": \\\"52fe48009251416c750ac9e1\\\", \\\"gender\\\": 2, \\\"id\\\": 1771, \\\"name\\\": \\\"Giovanni Ribisi\\\", \\\"order\\\": 5}, {\\\"cast_id\\\": 7, \\\"character\\\": \\\"Norm Spellman\\\", \\\"credit_id\\\": \\\"52fe48009251416c750ac9dd\\\", \\\"gender\\\": 2, \\\"id\\\": 59231, \\\"name\\\": \\\"Joel David Moore\\\", \\\"order\\\": 6}, {\\\"cast_id\\\": 9, \\\"character\\\": \\\"Moat\\\", \\\"credit_id\\\": \\\"52fe48009251416c750ac9e5\\\", \\\"gender\\\": 1, \\\"id\\\": 30485, \\\"name\\\": \\\"CCH Pounder\\\", \\\"order\\\": 7}, {\\\"cast_id\\\": 11, \\\"character\\\": \\\"Eytukan\\\", \\\"credit_id\\\": \\\"52fe48009251416c750ac9ed\\\", \\\"gender\\\": 2, \\\"id\\\": 15853, \\\"name\\\": \\\"Wes Studi\\\", \\\"order\\\": 8}, {\\\"cast_id\\\": 10, \\\"character\\\": \\\"Tsu'Tey\\\", \\\"credit_id\\\": \\\"52fe48009251416c750ac9e9\\\", \\\"gender\\\": 2, \\\"id\\\": 10964, \\\"name\\\": \\\"Laz Alonso\\\", \\\"order\\\": 9}, {\\\"cast_id\\\": 12, \\\"character\\\": \\\"Dr. Max Patel\\\", \\\"credit_id\\\": \\\"52fe48009251416c750ac9f1\\\", \\\"gender\\\": 2, \\\"id\\\": 95697, \\\"name\\\": \\\"Dileep Rao\\\", \\\"order\\\": 10}, {\\\"cast_id\\\": 13, \\\"character\\\": \\\"Lyle Wainfleet\\\", \\\"credit_id\\\": \\\"52fe48009251416c750ac9f5\\\", \\\"gender\\\": 2, \\\"id\\\": 98215, \\\"name\\\": \\\"Matt Gerald\\\", \\\"order\\\": 11}, {\\\"cast_id\\\": 32, \\\"character\\\": \\\"Private Fike\\\", \\\"credit_id\\\": \\\"52fe48009251416c750aca5b\\\", \\\"gender\\\": 2, \\\"id\\\": 154153, \\\"name\\\": \\\"Sean Anthony Moran\\\", \\\"order\\\": 12}, {\\\"cast_id\\\": 33, \\\"character\\\": \\\"Cryo Vault Med Tech\\\", \\\"credit_id\\\": \\\"52fe48009251416c750aca5f\\\", \\\"gender\\\": 2, \\\"id\\\": 397312, \\\"name\\\": \\\"Jason Whyte\\\", \\\"order\\\": 13}, {\\\"cast_id\\\": 34, \\\"character\\\": \\\"Venture Star Crew Chief\\\", \\\"credit_id\\\": \\\"52fe48009251416c750aca63\\\", \\\"gender\\\": 2, \\\"id\\\": 42317, \\\"name\\\": \\\"Scott Lawrence\\\", \\\"order\\\": 14}, {\\\"cast_id\\\": 35, \\\"character\\\": \\\"Lock Up Trooper\\\", \\\"credit_id\\\": \\\"52fe48009251416c750aca67\\\", \\\"gender\\\": 2, \\\"id\\\": 986734, \\\"name\\\": \\\"Kelly Kilgour\\\", \\\"order\\\": 15}, {\\\"cast_id\\\": 36, \\\"character\\\": \\\"Shuttle Pilot\\\", \\\"credit_id\\\": \\\"52fe48009251416c750aca6b\\\", \\\"gender\\\": 0, \\\"id\\\": 1207227, \\\"name\\\": \\\"James Patrick Pitt\\\", \\\"order\\\": 16}, {\\\"cast_id\\\": 37, \\\"character\\\": \\\"Shuttle Co-Pilot\\\", \\\"credit_id\\\": \\\"52fe48009251416c750aca6f\\\", \\\"gender\\\": 0, \\\"id\\\": 1180936, \\\"name\\\": \\\"Sean Patrick Murphy\\\", \\\"order\\\": 17}, {\\\"cast_id\\\": 38, \\\"character\\\": \\\"Shuttle Crew Chief\\\", \\\"credit_id\\\": \\\"52fe48009251416c750aca73\\\", \\\"gender\\\": 2, \\\"id\\\": 1019578, \\\"name\\\": \\\"Peter Dillon\\\", \\\"order\\\": 18}, {\\\"cast_id\\\": 39, \\\"character\\\": \\\"Tractor Operator / Troupe\\\", \\\"credit_id\\\": \\\"52fe48009251416c750aca77\\\", \\\"gender\\\": 0, \\\"id\\\": 91443, \\\"name\\\": \\\"Kevin Dorman\\\", \\\"order\\\": 19}, {\\\"cast_id\\\": 40, \\\"character\\\": \\\"Dragon Gunship Pilot\\\", \\\"credit_id\\\": \\\"52fe48009251416c750aca7b\\\", \\\"gender\\\": 2, \\\"id\\\": 173391, \\\"name\\\": \\\"Kelson Henderson\\\", \\\"order\\\": 20}, {\\\"cast_id\\\": 41, \\\"character\\\": \\\"Dragon Gunship Gunner\\\", \\\"credit_id\\\": \\\"52fe48009251416c750aca7f\\\", \\\"gender\\\": 0, \\\"id\\\": 1207236, \\\"name\\\": \\\"David Van Horn\\\", \\\"order\\\": 21}, {\\\"cast_id\\\": 42, \\\"character\\\": \\\"Dragon Gunship Navigator\\\", \\\"credit_id\\\": \\\"52fe48009251416c750aca83\\\", \\\"gender\\\": 0, \\\"id\\\": 215913, \\\"name\\\": \\\"Jacob Tomuri\\\", \\\"order\\\": 22}, {\\\"cast_id\\\": 43, \\\"character\\\": \\\"Suit #1\\\", \\\"credit_id\\\": \\\"52fe48009251416c750aca87\\\", \\\"gender\\\": 0, \\\"id\\\": 143206, \\\"name\\\": \\\"Michael Blain-Rozgay\\\", \\\"order\\\": 23}, {\\\"cast_id\\\": 44, \\\"character\\\": \\\"Suit #2\\\", \\\"credit_id\\\": \\\"52fe48009251416c750aca8b\\\", \\\"gender\\\": 2, \\\"id\\\": 169676, \\\"name\\\": \\\"Jon Curry\\\", \\\"order\\\": 24}, {\\\"cast_id\\\": 46, \\\"character\\\": \\\"Ambient Room Tech\\\", \\\"credit_id\\\": \\\"52fe48009251416c750aca8f\\\", \\\"gender\\\": 0, \\\"id\\\": 1048610, \\\"name\\\": \\\"Luke Hawker\\\", \\\"order\\\": 25}, {\\\"cast_id\\\": 47, \\\"character\\\": \\\"Ambient Room Tech / Troupe\\\", \\\"credit_id\\\": \\\"52fe48009251416c750aca93\\\", \\\"gender\\\": 0, \\\"id\\\": 42288, \\\"name\\\": \\\"Woody Schultz\\\", \\\"order\\\": 26}, {\\\"cast_id\\\": 48, \\\"character\\\": \\\"Horse Clan Leader\\\", \\\"credit_id\\\": \\\"52fe48009251416c750aca97\\\", \\\"gender\\\": 2, \\\"id\\\": 68278, \\\"name\\\": \\\"Peter Mensah\\\", \\\"order\\\": 27}, {\\\"cast_id\\\": 49, \\\"character\\\": \\\"Link Room Tech\\\", \\\"credit_id\\\": \\\"52fe48009251416c750aca9b\\\", \\\"gender\\\": 0, \\\"id\\\": 1207247, \\\"name\\\": \\\"Sonia Yee\\\", \\\"order\\\": 28}, {\\\"cast_id\\\": 50, \\\"character\\\": \\\"Basketball Avatar / Troupe\\\", \\\"credit_id\\\": \\\"52fe48009251416c750aca9f\\\", \\\"gender\\\": 1, \\\"id\\\": 1207248, \\\"name\\\": \\\"Jahnel Curfman\\\", \\\"order\\\": 29}, {\\\"cast_id\\\": 51, \\\"character\\\": \\\"Basketball Avatar\\\", \\\"credit_id\\\": \\\"52fe48009251416c750acaa3\\\", \\\"gender\\\": 0, \\\"id\\\": 89714, \\\"name\\\": \\\"Ilram Choi\\\", \\\"order\\\": 30}, {\\\"cast_id\\\": 52, \\\"character\\\": \\\"Na'vi Child\\\", \\\"credit_id\\\": \\\"52fe48009251416c750acaa7\\\", \\\"gender\\\": 0, \\\"id\\\": 1207249, \\\"name\\\": \\\"Kyla Warren\\\", \\\"order\\\": 31}, {\\\"cast_id\\\": 53, \\\"character\\\": \\\"Troupe\\\", \\\"credit_id\\\": \\\"52fe48009251416c750acaab\\\", \\\"gender\\\": 0, \\\"id\\\": 1207250, \\\"name\\\": \\\"Lisa Roumain\\\", \\\"order\\\": 32}, {\\\"cast_id\\\": 54, \\\"character\\\": \\\"Troupe\\\", \\\"credit_id\\\": \\\"52fe48009251416c750acaaf\\\", \\\"gender\\\": 1, \\\"id\\\": 83105, \\\"name\\\": \\\"Debra Wilson\\\", \\\"order\\\": 33}, {\\\"cast_id\\\": 57, \\\"character\\\": \\\"Troupe\\\", \\\"credit_id\\\": \\\"52fe48009251416c750acabb\\\", \\\"gender\\\": 0, \\\"id\\\": 1207253, \\\"name\\\": \\\"Chris Mala\\\", \\\"order\\\": 34}, {\\\"cast_id\\\": 55, \\\"character\\\": \\\"Troupe\\\", \\\"credit_id\\\": \\\"52fe48009251416c750acab3\\\", \\\"gender\\\": 0, \\\"id\\\": 1207251, \\\"name\\\": \\\"Taylor Kibby\\\", \\\"order\\\": 35}, {\\\"cast_id\\\": 56, \\\"character\\\": \\\"Troupe\\\", \\\"credit_id\\\": \\\"52fe48009251416c750acab7\\\", \\\"gender\\\": 0, \\\"id\\\": 1207252, \\\"name\\\": \\\"Jodie Landau\\\", \\\"order\\\": 36}, {\\\"cast_id\\\": 58, \\\"character\\\": \\\"Troupe\\\", \\\"credit_id\\\": \\\"52fe48009251416c750acabf\\\", \\\"gender\\\": 0, \\\"id\\\": 1207254, \\\"name\\\": \\\"Julie Lamm\\\", \\\"order\\\": 37}, {\\\"cast_id\\\": 59, \\\"character\\\": \\\"Troupe\\\", \\\"credit_id\\\": \\\"52fe48009251416c750acac3\\\", \\\"gender\\\": 0, \\\"id\\\": 1207257, \\\"name\\\": \\\"Cullen B. Madden\\\", \\\"order\\\": 38}, {\\\"cast_id\\\": 60, \\\"character\\\": \\\"Troupe\\\", \\\"credit_id\\\": \\\"52fe48009251416c750acac7\\\", \\\"gender\\\": 0, \\\"id\\\": 1207259, \\\"name\\\": \\\"Joseph Brady Madden\\\", \\\"order\\\": 39}, {\\\"cast_id\\\": 61, \\\"character\\\": \\\"Troupe\\\", \\\"credit_id\\\": \\\"52fe48009251416c750acacb\\\", \\\"gender\\\": 0, \\\"id\\\": 1207262, \\\"name\\\": \\\"Frankie Torres\\\", \\\"order\\\": 40}, {\\\"cast_id\\\": 62, \\\"character\\\": \\\"Troupe\\\", \\\"credit_id\\\": \\\"52fe48009251416c750acacf\\\", \\\"gender\\\": 1, \\\"id\\\": 1158600, \\\"name\\\": \\\"Austin Wilson\\\", \\\"order\\\": 41}, {\\\"cast_id\\\": 63, \\\"character\\\": \\\"Troupe\\\", \\\"credit_id\\\": \\\"52fe48019251416c750acad3\\\", \\\"gender\\\": 1, \\\"id\\\": 983705, \\\"name\\\": \\\"Sara Wilson\\\", \\\"order\\\": 42}, {\\\"cast_id\\\": 64, \\\"character\\\": \\\"Troupe\\\", \\\"credit_id\\\": \\\"52fe48019251416c750acad7\\\", \\\"gender\\\": 0, \\\"id\\\": 1207263, \\\"name\\\": \\\"Tamica Washington-Miller\\\", \\\"order\\\": 43}, {\\\"cast_id\\\": 65, \\\"character\\\": \\\"Op Center Staff\\\", \\\"credit_id\\\": \\\"52fe48019251416c750acadb\\\", \\\"gender\\\": 1, \\\"id\\\": 1145098, \\\"name\\\": \\\"Lucy Briant\\\", \\\"order\\\": 44}, {\\\"cast_id\\\": 66, \\\"character\\\": \\\"Op Center Staff\\\", \\\"credit_id\\\": \\\"52fe48019251416c750acadf\\\", \\\"gender\\\": 2, \\\"id\\\": 33305, \\\"name\\\": \\\"Nathan Meister\\\", \\\"order\\\": 45}, {\\\"cast_id\\\": 67, \\\"character\\\": \\\"Op Center Staff\\\", \\\"credit_id\\\": \\\"52fe48019251416c750acae3\\\", \\\"gender\\\": 0, \\\"id\\\": 1207264, \\\"name\\\": \\\"Gerry Blair\\\", \\\"order\\\": 46}, {\\\"cast_id\\\": 68, \\\"character\\\": \\\"Op Center Staff\\\", \\\"credit_id\\\": \\\"52fe48019251416c750acae7\\\", \\\"gender\\\": 2, \\\"id\\\": 33311, \\\"name\\\": \\\"Matthew Chamberlain\\\", \\\"order\\\": 47}, {\\\"cast_id\\\": 69, \\\"character\\\": \\\"Op Center Staff\\\", \\\"credit_id\\\": \\\"52fe48019251416c750acaeb\\\", \\\"gender\\\": 0, \\\"id\\\": 1207265, \\\"name\\\": \\\"Paul Yates\\\", \\\"order\\\": 48}, {\\\"cast_id\\\": 70, \\\"character\\\": \\\"Op Center Duty Officer\\\", \\\"credit_id\\\": \\\"52fe48019251416c750acaef\\\", \\\"gender\\\": 0, \\\"id\\\": 1207266, \\\"name\\\": \\\"Wray Wilson\\\", \\\"order\\\": 49}, {\\\"cast_id\\\": 71, \\\"character\\\": \\\"Op Center Staff\\\", \\\"credit_id\\\": \\\"52fe48019251416c750acaf3\\\", \\\"gender\\\": 2, \\\"id\\\": 54492, \\\"name\\\": \\\"James Gaylyn\\\", \\\"order\\\": 50}, {\\\"cast_id\\\": 72, \\\"character\\\": \\\"Dancer\\\", \\\"credit_id\\\": \\\"52fe48019251416c750acaf7\\\", \\\"gender\\\": 0, \\\"id\\\": 1207267, \\\"name\\\": \\\"Melvin Leno Clark III\\\", \\\"order\\\": 51}, {\\\"cast_id\\\": 73, \\\"character\\\": \\\"Dancer\\\", \\\"credit_id\\\": \\\"52fe48019251416c750acafb\\\", \\\"gender\\\": 0, \\\"id\\\": 1207268, \\\"name\\\": \\\"Carvon Futrell\\\", \\\"order\\\": 52}, {\\\"cast_id\\\": 74, \\\"character\\\": \\\"Dancer\\\", \\\"credit_id\\\": \\\"52fe48019251416c750acaff\\\", \\\"gender\\\": 0, \\\"id\\\": 1207269, \\\"name\\\": \\\"Brandon Jelkes\\\", \\\"order\\\": 53}, {\\\"cast_id\\\": 75, \\\"character\\\": \\\"Dancer\\\", \\\"credit_id\\\": \\\"52fe48019251416c750acb03\\\", \\\"gender\\\": 0, \\\"id\\\": 1207270, \\\"name\\\": \\\"Micah Moch\\\", \\\"order\\\": 54}, {\\\"cast_id\\\": 76, \\\"character\\\": \\\"Dancer\\\", \\\"credit_id\\\": \\\"52fe48019251416c750acb07\\\", \\\"gender\\\": 0, \\\"id\\\": 1207271, \\\"name\\\": \\\"Hanniyah Muhammad\\\", \\\"order\\\": 55}, {\\\"cast_id\\\": 77, \\\"character\\\": \\\"Dancer\\\", \\\"credit_id\\\": \\\"52fe48019251416c750acb0b\\\", \\\"gender\\\": 0, \\\"id\\\": 1207272, \\\"name\\\": \\\"Christopher Nolen\\\", \\\"order\\\": 56}, {\\\"cast_id\\\": 78, \\\"character\\\": \\\"Dancer\\\", \\\"credit_id\\\": \\\"52fe48019251416c750acb0f\\\", \\\"gender\\\": 0, \\\"id\\\": 1207273, \\\"name\\\": \\\"Christa Oliver\\\", \\\"order\\\": 57}, {\\\"cast_id\\\": 79, \\\"character\\\": \\\"Dancer\\\", \\\"credit_id\\\": \\\"52fe48019251416c750acb13\\\", \\\"gender\\\": 0, \\\"id\\\": 1207274, \\\"name\\\": \\\"April Marie Thomas\\\", \\\"order\\\": 58}, {\\\"cast_id\\\": 80, \\\"character\\\": \\\"Dancer\\\", \\\"credit_id\\\": \\\"52fe48019251416c750acb17\\\", \\\"gender\\\": 0, \\\"id\\\": 1207275, \\\"name\\\": \\\"Bravita A. Threatt\\\", \\\"order\\\": 59}, {\\\"cast_id\\\": 81, \\\"character\\\": \\\"Mining Chief (uncredited)\\\", \\\"credit_id\\\": \\\"52fe48019251416c750acb1b\\\", \\\"gender\\\": 0, \\\"id\\\": 1207276, \\\"name\\\": \\\"Colin Bleasdale\\\", \\\"order\\\": 60}, {\\\"cast_id\\\": 82, \\\"character\\\": \\\"Veteran Miner (uncredited)\\\", \\\"credit_id\\\": \\\"52fe48019251416c750acb1f\\\", \\\"gender\\\": 0, \\\"id\\\": 107969, \\\"name\\\": \\\"Mike Bodnar\\\", \\\"order\\\": 61}, {\\\"cast_id\\\": 83, \\\"character\\\": \\\"Richard (uncredited)\\\", \\\"credit_id\\\": \\\"52fe48019251416c750acb23\\\", \\\"gender\\\": 0, \\\"id\\\": 1207278, \\\"name\\\": \\\"Matt Clayton\\\", \\\"order\\\": 62}, {\\\"cast_id\\\": 84, \\\"character\\\": \\\"Nav'i (uncredited)\\\", \\\"credit_id\\\": \\\"52fe48019251416c750acb27\\\", \\\"gender\\\": 1, \\\"id\\\": 147898, \\\"name\\\": \\\"Nicole Dionne\\\", \\\"order\\\": 63}, {\\\"cast_id\\\": 85, \\\"character\\\": \\\"Trooper (uncredited)\\\", \\\"credit_id\\\": \\\"52fe48019251416c750acb2b\\\", \\\"gender\\\": 0, \\\"id\\\": 1207280, \\\"name\\\": \\\"Jamie Harrison\\\", \\\"order\\\": 64}, {\\\"cast_id\\\": 86, \\\"character\\\": \\\"Trooper (uncredited)\\\", \\\"credit_id\\\": \\\"52fe48019251416c750acb2f\\\", \\\"gender\\\": 0, \\\"id\\\": 1207281, \\\"name\\\": \\\"Allan Henry\\\", \\\"order\\\": 65}, {\\\"cast_id\\\": 87, \\\"character\\\": \\\"Ground Technician (uncredited)\\\", \\\"credit_id\\\": \\\"52fe48019251416c750acb33\\\", \\\"gender\\\": 2, \\\"id\\\": 1207282, \\\"name\\\": \\\"Anthony Ingruber\\\", \\\"order\\\": 66}, {\\\"cast_id\\\": 88, \\\"character\\\": \\\"Flight Crew Mechanic (uncredited)\\\", \\\"credit_id\\\": \\\"52fe48019251416c750acb37\\\", \\\"gender\\\": 0, \\\"id\\\": 1207283, \\\"name\\\": \\\"Ashley Jeffery\\\", \\\"order\\\": 67}, {\\\"cast_id\\\": 14, \\\"character\\\": \\\"Samson Pilot\\\", \\\"credit_id\\\": \\\"52fe48009251416c750ac9f9\\\", \\\"gender\\\": 0, \\\"id\\\": 98216, \\\"name\\\": \\\"Dean Knowsley\\\", \\\"order\\\": 68}, {\\\"cast_id\\\": 89, \\\"character\\\": \\\"Trooper (uncredited)\\\", \\\"credit_id\\\": \\\"52fe48019251416c750acb3b\\\", \\\"gender\\\": 0, \\\"id\\\": 1201399, \\\"name\\\": \\\"Joseph Mika-Hunt\\\", \\\"order\\\": 69}, {\\\"cast_id\\\": 90, \\\"character\\\": \\\"Banshee (uncredited)\\\", \\\"credit_id\\\": \\\"52fe48019251416c750acb3f\\\", \\\"gender\\\": 0, \\\"id\\\": 236696, \\\"name\\\": \\\"Terry Notary\\\", \\\"order\\\": 70}, {\\\"cast_id\\\": 91, \\\"character\\\": \\\"Soldier (uncredited)\\\", \\\"credit_id\\\": \\\"52fe48019251416c750acb43\\\", \\\"gender\\\": 0, \\\"id\\\": 1207287, \\\"name\\\": \\\"Kai Pantano\\\", \\\"order\\\": 71}, {\\\"cast_id\\\": 92, \\\"character\\\": \\\"Blast Technician (uncredited)\\\", \\\"credit_id\\\": \\\"52fe48019251416c750acb47\\\", \\\"gender\\\": 0, \\\"id\\\": 1207288, \\\"name\\\": \\\"Logan Pithyou\\\", \\\"order\\\": 72}, {\\\"cast_id\\\": 93, \\\"character\\\": \\\"Vindum Raah (uncredited)\\\", \\\"credit_id\\\": \\\"52fe48019251416c750acb4b\\\", \\\"gender\\\": 0, \\\"id\\\": 1207289, \\\"name\\\": \\\"Stuart Pollock\\\", \\\"order\\\": 73}, {\\\"cast_id\\\": 94, \\\"character\\\": \\\"Hero (uncredited)\\\", \\\"credit_id\\\": \\\"52fe48019251416c750acb4f\\\", \\\"gender\\\": 0, \\\"id\\\": 584868, \\\"name\\\": \\\"Raja\\\", \\\"order\\\": 74}, {\\\"cast_id\\\": 95, \\\"character\\\": \\\"Ops Centreworker (uncredited)\\\", \\\"credit_id\\\": \\\"52fe48019251416c750acb53\\\", \\\"gender\\\": 0, \\\"id\\\": 1207290, \\\"name\\\": \\\"Gareth Ruck\\\", \\\"order\\\": 75}, {\\\"cast_id\\\": 96, \\\"character\\\": \\\"Engineer (uncredited)\\\", \\\"credit_id\\\": \\\"52fe48019251416c750acb57\\\", \\\"gender\\\": 0, \\\"id\\\": 1062463, \\\"name\\\": \\\"Rhian Sheehan\\\", \\\"order\\\": 76}, {\\\"cast_id\\\": 97, \\\"character\\\": \\\"Col. Quaritch's Mech Suit (uncredited)\\\", \\\"credit_id\\\": \\\"52fe48019251416c750acb5b\\\", \\\"gender\\\": 0, \\\"id\\\": 60656, \\\"name\\\": \\\"T. J. Storm\\\", \\\"order\\\": 77}, {\\\"cast_id\\\": 98, \\\"character\\\": \\\"Female Marine (uncredited)\\\", \\\"credit_id\\\": \\\"52fe48019251416c750acb5f\\\", \\\"gender\\\": 0, \\\"id\\\": 1207291, \\\"name\\\": \\\"Jodie Taylor\\\", \\\"order\\\": 78}, {\\\"cast_id\\\": 99, \\\"character\\\": \\\"Ikran Clan Leader (uncredited)\\\", \\\"credit_id\\\": \\\"52fe48019251416c750acb63\\\", \\\"gender\\\": 1, \\\"id\\\": 1186027, \\\"name\\\": \\\"Alicia Vela-Bailey\\\", \\\"order\\\": 79}, {\\\"cast_id\\\": 100, \\\"character\\\": \\\"Geologist (uncredited)\\\", \\\"credit_id\\\": \\\"52fe48019251416c750acb67\\\", \\\"gender\\\": 0, \\\"id\\\": 1207292, \\\"name\\\": \\\"Richard Whiteside\\\", \\\"order\\\": 80}, {\\\"cast_id\\\": 101, \\\"character\\\": \\\"Na'vi (uncredited)\\\", \\\"credit_id\\\": \\\"52fe48019251416c750acb6b\\\", \\\"gender\\\": 0, \\\"id\\\": 103259, \\\"name\\\": \\\"Nikie Zambo\\\", \\\"order\\\": 81}, {\\\"cast_id\\\": 102, \\\"character\\\": \\\"Ambient Room Tech / Troupe\\\", \\\"credit_id\\\": \\\"52fe48019251416c750acb6f\\\", \\\"gender\\\": 1, \\\"id\\\": 42286, \\\"name\\\": \\\"Julene Renee\\\", \\\"order\\\": 82}]\"\n"
     ]
    }
   ],
   "source": [
    "# View a single row's JSON content\n",
    "import json\n",
    "\n",
    "json_data = credits_df['cast'].iloc[0]  # First row\n",
    "print(json.dumps(json_data, indent=4))  # Pretty-print JSON"
   ]
  },
  {
   "cell_type": "markdown",
   "metadata": {},
   "source": [
    "Observation:\n",
    "<br>\n",
    "The JSON data above contains a list of cast members, with following details:\n",
    "<br>\n",
    "`cast_id:` A unique identifier for the cast memebers.\n",
    "<br>\n",
    "`character:` The character name played by the actor in the movie.\n",
    "<br>\n",
    "`credit_id:` A unique identifier for the credit record.\n",
    "<br>\n",
    "`gender:` Represents the gender of the actor (1 = female, 2 = male, 0 = unspecified/unknown).\n",
    "<br>\n",
    "`id:` A unique ID for the actor.\n",
    "<br>\n",
    "`name:` The name of the actor.\n",
    "<br>\n",
    "`order:` The billing order of the actor in the movie credits.\n"
   ]
  },
  {
   "cell_type": "markdown",
   "metadata": {},
   "source": [
    "We have decided to extract following for each movie:\n",
    "<br>\n",
    "- Crew information:\n",
    "    - Director's name.\n",
    "    - Writers' names.\n",
    "    - Producers' names.\n",
    "    - Total crew size.\n",
    "<br>\n",
    "- Main actors:\n",
    "    - Names of up to 3 main actors.\n",
    "    - Genders of those actors."
   ]
  },
  {
   "cell_type": "code",
   "execution_count": 1348,
   "metadata": {},
   "outputs": [
    {
     "name": "stdout",
     "output_type": "stream",
     "text": [
      "   movie_id                                  main_actor_names  \\\n",
      "0     19995  [Sam Worthington, Zoe Saldana, Sigourney Weaver]   \n",
      "1       285     [Johnny Depp, Orlando Bloom, Keira Knightley]   \n",
      "2    206647      [Daniel Craig, Christoph Waltz, Léa Seydoux]   \n",
      "3     49026      [Christian Bale, Michael Caine, Gary Oldman]   \n",
      "4     49529    [Taylor Kitsch, Lynn Collins, Samantha Morton]   \n",
      "\n",
      "  main_actor_genders  \n",
      "0          [2, 1, 1]  \n",
      "1          [2, 2, 1]  \n",
      "2          [2, 2, 1]  \n",
      "3          [2, 2, 2]  \n",
      "4          [2, 1, 1]  \n"
     ]
    }
   ],
   "source": [
    "# Extraction of Main Actors data\n",
    "import ast\n",
    "\n",
    "def extract_main_actors(cast_column, max_actors=3):\n",
    "    \"\"\"\n",
    "    Extracts the names and genders of the main actors from the cast column.\n",
    "    \"\"\"\n",
    "    actor_names = []\n",
    "    actor_genders = []\n",
    "    \n",
    "    for entry in cast_column:\n",
    "        try:\n",
    "            cast_data = ast.literal_eval(entry)\n",
    "            cast_data = sorted(cast_data, key=lambda x: x.get('order', float('inf')))\n",
    "            \n",
    "            # Extract actor names and genders\n",
    "            names = [cast_data[i].get('name', None) for i in range(min(len(cast_data), max_actors))]\n",
    "            genders = [cast_data[i].get('gender', None) for i in range(min(len(cast_data), max_actors))]\n",
    "            \n",
    "            # Pad with None if fewer than max_actors\n",
    "            while len(names) < max_actors:\n",
    "                names.append(None)\n",
    "                genders.append(None)\n",
    "        except (ValueError, SyntaxError):\n",
    "            # Handle invalid JSON-like strings\n",
    "            names = [None] * max_actors\n",
    "            genders = [None] * max_actors\n",
    "        \n",
    "        actor_names.append(names)\n",
    "        actor_genders.append(genders)\n",
    "    \n",
    "    return actor_names, actor_genders\n",
    "\n",
    "# Apply the function to the `credits_df`\n",
    "actor_names, actor_genders = extract_main_actors(credits_df['cast'], max_actors=3)\n",
    "\n",
    "# Add the results as separate columns\n",
    "credits_df['main_actor_names'] = actor_names\n",
    "credits_df['main_actor_genders'] = actor_genders\n",
    "\n",
    "# Verify results\n",
    "print(credits_df[['movie_id', 'main_actor_names', 'main_actor_genders']].head())\n"
   ]
  },
  {
   "cell_type": "code",
   "execution_count": 1349,
   "metadata": {},
   "outputs": [
    {
     "name": "stdout",
     "output_type": "stream",
     "text": [
      "   movie_id            directors          writers  \\\n",
      "0     19995      [James Cameron]  [James Cameron]   \n",
      "1       285     [Gore Verbinski]               []   \n",
      "2    206647         [Sam Mendes]               []   \n",
      "3     49026  [Christopher Nolan]               []   \n",
      "4     49529     [Andrew Stanton]               []   \n",
      "\n",
      "                                           producers  crew_size  \n",
      "0                        [James Cameron, Jon Landau]        153  \n",
      "1  [Jerry Bruckheimer, Eric McLeod, Chad Oman, Pe...         32  \n",
      "2              [Barbara Broccoli, Michael G. Wilson]        155  \n",
      "3    [Charles Roven, Christopher Nolan, Emma Thomas]        217  \n",
      "4        [Colin Wilson, Jim Morris, Lindsey Collins]        132  \n"
     ]
    }
   ],
   "source": [
    "# Extraction of crew data\n",
    "\n",
    "import ast\n",
    "\n",
    "def extract_crew_info(crew_list, job_title):\n",
    "    \"\"\"Extract crew member names based on their job title.\"\"\"\n",
    "    try:\n",
    "        crew = ast.literal_eval(crew_list)\n",
    "        return [member['name'] for member in crew if member['job'] == job_title]\n",
    "    except (ValueError, SyntaxError):\n",
    "        return []\n",
    "\n",
    "def calculate_crew_size(crew_list):\n",
    "    \"\"\"Calculate the total number of crew members.\"\"\"\n",
    "    try:\n",
    "        crew = ast.literal_eval(crew_list)\n",
    "        return len(crew)\n",
    "    except (ValueError, SyntaxError):\n",
    "        return 0\n",
    "\n",
    "# Extract Directors\n",
    "credits_df['directors'] = credits_df['crew'].apply(lambda x: extract_crew_info(x, 'Director'))\n",
    "\n",
    "# Extract Writers\n",
    "credits_df['writers'] = credits_df['crew'].apply(lambda x: extract_crew_info(x, 'Writer'))\n",
    "\n",
    "# Extract Producers\n",
    "credits_df['producers'] = credits_df['crew'].apply(lambda x: extract_crew_info(x, 'Producer'))\n",
    "\n",
    "# Calculate Crew Size\n",
    "credits_df['crew_size'] = credits_df['crew'].apply(calculate_crew_size)\n",
    "\n",
    "# Display the first few rows of the new columns\n",
    "print(credits_df[['movie_id', 'directors', 'writers', 'producers', 'crew_size']].head())\n",
    "\n"
   ]
  },
  {
   "cell_type": "markdown",
   "metadata": {},
   "source": [
    "Obeservation:\n",
    "<br>\n",
    "We notice that most movies have a single director, as expected. We also notice that the writers column is empty for some rows, which might indicate missing data, if it is indeed empty, we can tag it unknown.\n",
    "Crew size vary significantly, reflecting the scale of production for each movie, this column helps provide a peak into the resourcess allocated for each movie which we would explore further.\n",
    "<br>\n",
    "<br>\n",
    "Since some of the writers rows were empty. Lets first check for empty values in the extracted columns."
   ]
  },
  {
   "cell_type": "code",
   "execution_count": 1350,
   "metadata": {},
   "outputs": [
    {
     "name": "stdout",
     "output_type": "stream",
     "text": [
      "main_actor_names: 0 missing rows\n",
      "main_actor_genders: 0 missing rows\n",
      "directors: 30 missing rows\n",
      "writers: 3252 missing rows\n",
      "producers: 1023 missing rows\n"
     ]
    }
   ],
   "source": [
    "# Columns to check for missing or empty data\n",
    "columns_to_check = ['main_actor_names', 'main_actor_genders', 'directors', 'writers', 'producers']\n",
    "\n",
    "# Function to count missing or empty values\n",
    "def count_missing_or_empty(column):\n",
    "    return credits_df[column].apply(lambda x: len(x) == 0 if isinstance(x, list) else pd.isnull(x)).sum()\n",
    "\n",
    "# Check all specified columns\n",
    "missing_data_summary = {col: count_missing_or_empty(col) for col in columns_to_check}\n",
    "\n",
    "# Display the results\n",
    "for column, count in missing_data_summary.items():\n",
    "    print(f\"{column}: {count} missing rows\")\n"
   ]
  },
  {
   "cell_type": "markdown",
   "metadata": {},
   "source": [
    "Observations:\n",
    "<br>\n",
    "We do have some significat missing data.\n",
    "\n",
    "- For features like writers, directors, and producers, we will be replacing missing values with placeholders  \"Unknown\".\n",
    "\n",
    "Let's proceed with replacing the missing values."
   ]
  },
  {
   "cell_type": "code",
   "execution_count": 1351,
   "metadata": {},
   "outputs": [
    {
     "name": "stdout",
     "output_type": "stream",
     "text": [
      "Updated 'writers', 'directors', and 'producers' columns:\n",
      "           writers            directors  \\\n",
      "0  [James Cameron]      [James Cameron]   \n",
      "1        [Unknown]     [Gore Verbinski]   \n",
      "2        [Unknown]         [Sam Mendes]   \n",
      "3        [Unknown]  [Christopher Nolan]   \n",
      "4        [Unknown]     [Andrew Stanton]   \n",
      "\n",
      "                                           producers  \n",
      "0                        [James Cameron, Jon Landau]  \n",
      "1  [Jerry Bruckheimer, Eric McLeod, Chad Oman, Pe...  \n",
      "2              [Barbara Broccoli, Michael G. Wilson]  \n",
      "3    [Charles Roven, Christopher Nolan, Emma Thomas]  \n",
      "4        [Colin Wilson, Jim Morris, Lindsey Collins]  \n"
     ]
    }
   ],
   "source": [
    "# Replace missing values in the specified columns with \"Unknown\"\n",
    "columns_to_replace = ['writers', 'directors', 'producers']\n",
    "\n",
    "for column in columns_to_replace:\n",
    "    credits_df[column] = credits_df[column].apply(lambda x: x if len(x) > 0 else [\"Unknown\"])\n",
    "\n",
    "# Verify the changes\n",
    "print(\"Updated 'writers', 'directors', and 'producers' columns:\")\n",
    "print(credits_df[['writers', 'directors', 'producers']].head())\n"
   ]
  },
  {
   "cell_type": "code",
   "execution_count": 1352,
   "metadata": {},
   "outputs": [
    {
     "name": "stdout",
     "output_type": "stream",
     "text": [
      "main_actor_names: 0 missing rows\n",
      "main_actor_genders: 0 missing rows\n",
      "directors: 0 missing rows\n",
      "writers: 0 missing rows\n",
      "producers: 0 missing rows\n",
      "Unknown directors: 30\n",
      "Unknown writers: 3252\n",
      "Unknown producers: 1023\n"
     ]
    }
   ],
   "source": [
    "#  Lets confirm that it worked.\n",
    "\n",
    "# Columns to check for missing or empty data\n",
    "columns_to_check = ['main_actor_names', 'main_actor_genders', 'directors', 'writers', 'producers']\n",
    "\n",
    "# Function to count missing or empty values\n",
    "def count_missing_or_empty(column):\n",
    "    return credits_df[column].apply(lambda x: len(x) == 0 if isinstance(x, list) else pd.isnull(x)).sum()\n",
    "\n",
    "# Check all specified columns\n",
    "missing_data_summary = {col: count_missing_or_empty(col) for col in columns_to_check}\n",
    "\n",
    "# Display the results\n",
    "for column, count in missing_data_summary.items():\n",
    "    print(f\"{column}: {count} missing rows\")\n",
    "\n",
    "# Count how many unknowns are there- just to sure that it matches the missing values we had before.\n",
    "unknown_directors = credits_df['directors'].apply(lambda x: 'Unknown' in x).sum()\n",
    "unknown_writers = credits_df['writers'].apply(lambda x: 'Unknown' in x).sum()\n",
    "unknown_producers = credits_df['producers'].apply(lambda x: 'Unknown' in x).sum()\n",
    "print(f\"Unknown directors: {unknown_directors}\")\n",
    "print(f\"Unknown writers: {unknown_writers}\")\n",
    "print(f\"Unknown producers: {unknown_producers}\")"
   ]
  },
  {
   "cell_type": "markdown",
   "metadata": {},
   "source": [
    "Lets proceed with merging the datasets.  \n",
    "We need to ensure that we only merge the movies that are currently present in out movies dataframe since some of the rows were removed."
   ]
  },
  {
   "cell_type": "code",
   "execution_count": 1353,
   "metadata": {},
   "outputs": [
    {
     "name": "stdout",
     "output_type": "stream",
     "text": [
      "Merged DataFrame shape: (4803, 30)\n",
      "Merged DataFrame preview:\n",
      "      budget                                             genres  \\\n",
      "0  237000000  [{\"id\": 28, \"name\": \"Action\"}, {\"id\": 12, \"nam...   \n",
      "1  300000000  [{\"id\": 12, \"name\": \"Adventure\"}, {\"id\": 14, \"...   \n",
      "2  245000000  [{\"id\": 28, \"name\": \"Action\"}, {\"id\": 12, \"nam...   \n",
      "3  250000000  [{\"id\": 28, \"name\": \"Action\"}, {\"id\": 80, \"nam...   \n",
      "4  260000000  [{\"id\": 28, \"name\": \"Action\"}, {\"id\": 12, \"nam...   \n",
      "\n",
      "                                       homepage      id  \\\n",
      "0                   http://www.avatarmovie.com/   19995   \n",
      "1  http://disney.go.com/disneypictures/pirates/     285   \n",
      "2   http://www.sonypictures.com/movies/spectre/  206647   \n",
      "3            http://www.thedarkknightrises.com/   49026   \n",
      "4          http://movies.disney.com/john-carter   49529   \n",
      "\n",
      "                                            keywords original_language  \\\n",
      "0  [{\"id\": 1463, \"name\": \"culture clash\"}, {\"id\":...                en   \n",
      "1  [{\"id\": 270, \"name\": \"ocean\"}, {\"id\": 726, \"na...                en   \n",
      "2  [{\"id\": 470, \"name\": \"spy\"}, {\"id\": 818, \"name...                en   \n",
      "3  [{\"id\": 849, \"name\": \"dc comics\"}, {\"id\": 853,...                en   \n",
      "4  [{\"id\": 818, \"name\": \"based on novel\"}, {\"id\":...                en   \n",
      "\n",
      "                             original_title  \\\n",
      "0                                    Avatar   \n",
      "1  Pirates of the Caribbean: At World's End   \n",
      "2                                   Spectre   \n",
      "3                     The Dark Knight Rises   \n",
      "4                               John Carter   \n",
      "\n",
      "                                            overview  popularity  \\\n",
      "0  In the 22nd century, a paraplegic Marine is di...  150.437577   \n",
      "1  Captain Barbossa, long believed to be dead, ha...  139.082615   \n",
      "2  A cryptic message from Bond’s past sends him o...  107.376788   \n",
      "3  Following the death of District Attorney Harve...  112.312950   \n",
      "4  John Carter is a war-weary, former military ca...   43.926995   \n",
      "\n",
      "                                production_companies  ... movie_id  \\\n",
      "0  [{\"name\": \"Ingenious Film Partners\", \"id\": 289...  ...    19995   \n",
      "1  [{\"name\": \"Walt Disney Pictures\", \"id\": 2}, {\"...  ...      285   \n",
      "2  [{\"name\": \"Columbia Pictures\", \"id\": 5}, {\"nam...  ...   206647   \n",
      "3  [{\"name\": \"Legendary Pictures\", \"id\": 923}, {\"...  ...    49026   \n",
      "4        [{\"name\": \"Walt Disney Pictures\", \"id\": 2}]  ...    49529   \n",
      "\n",
      "                                    title_y  \\\n",
      "0                                    Avatar   \n",
      "1  Pirates of the Caribbean: At World's End   \n",
      "2                                   Spectre   \n",
      "3                     The Dark Knight Rises   \n",
      "4                               John Carter   \n",
      "\n",
      "                                                cast  \\\n",
      "0  [{\"cast_id\": 242, \"character\": \"Jake Sully\", \"...   \n",
      "1  [{\"cast_id\": 4, \"character\": \"Captain Jack Spa...   \n",
      "2  [{\"cast_id\": 1, \"character\": \"James Bond\", \"cr...   \n",
      "3  [{\"cast_id\": 2, \"character\": \"Bruce Wayne / Ba...   \n",
      "4  [{\"cast_id\": 5, \"character\": \"John Carter\", \"c...   \n",
      "\n",
      "                                                crew  \\\n",
      "0  [{\"credit_id\": \"52fe48009251416c750aca23\", \"de...   \n",
      "1  [{\"credit_id\": \"52fe4232c3a36847f800b579\", \"de...   \n",
      "2  [{\"credit_id\": \"54805967c3a36829b5002c41\", \"de...   \n",
      "3  [{\"credit_id\": \"52fe4781c3a36847f81398c3\", \"de...   \n",
      "4  [{\"credit_id\": \"52fe479ac3a36847f813eaa3\", \"de...   \n",
      "\n",
      "                                   main_actor_names main_actor_genders  \\\n",
      "0  [Sam Worthington, Zoe Saldana, Sigourney Weaver]          [2, 1, 1]   \n",
      "1     [Johnny Depp, Orlando Bloom, Keira Knightley]          [2, 2, 1]   \n",
      "2      [Daniel Craig, Christoph Waltz, Léa Seydoux]          [2, 2, 1]   \n",
      "3      [Christian Bale, Michael Caine, Gary Oldman]          [2, 2, 2]   \n",
      "4    [Taylor Kitsch, Lynn Collins, Samantha Morton]          [2, 1, 1]   \n",
      "\n",
      "             directors          writers  \\\n",
      "0      [James Cameron]  [James Cameron]   \n",
      "1     [Gore Verbinski]        [Unknown]   \n",
      "2         [Sam Mendes]        [Unknown]   \n",
      "3  [Christopher Nolan]        [Unknown]   \n",
      "4     [Andrew Stanton]        [Unknown]   \n",
      "\n",
      "                                           producers  crew_size  \n",
      "0                        [James Cameron, Jon Landau]        153  \n",
      "1  [Jerry Bruckheimer, Eric McLeod, Chad Oman, Pe...         32  \n",
      "2              [Barbara Broccoli, Michael G. Wilson]        155  \n",
      "3    [Charles Roven, Christopher Nolan, Emma Thomas]        217  \n",
      "4        [Colin Wilson, Jim Morris, Lindsey Collins]        132  \n",
      "\n",
      "[5 rows x 30 columns]\n",
      "\n",
      "Number of unmatched movies: 0\n"
     ]
    }
   ],
   "source": [
    "# Merge the cleaned_movies_df with the processed credits_df\n",
    "movies_df = pd.merge(movies_df, credits_df, left_on='id', right_on='movie_id', how='inner')\n",
    "\n",
    "# Verify the results of the merge\n",
    "print(\"Merged DataFrame shape:\", movies_df.shape)\n",
    "print(\"Merged DataFrame preview:\")\n",
    "print(movies_df.head())\n",
    "\n",
    "# Check for any movies in movies_df that did not have matching records in credits_df\n",
    "unmatched_movies = movies_df[~movies_df['id'].isin(credits_df['movie_id'])]\n",
    "print(f\"\\nNumber of unmatched movies: {unmatched_movies.shape[0]}\")"
   ]
  },
  {
   "cell_type": "markdown",
   "metadata": {},
   "source": [
    "Now lets look at the talk shows dataset.\n",
    "\n",
    "We will begin with `Conan`."
   ]
  },
  {
   "cell_type": "code",
   "execution_count": 1416,
   "metadata": {},
   "outputs": [
    {
     "name": "stdout",
     "output_type": "stream",
     "text": [
      "     publishedAtSQL                                         videoTitle  \\\n",
      "0  12-06-2020 12:00  Deon Cole On White Protester Signs That Missed...   \n",
      "1  11-06-2020 23:34  Nicole Byer On Finding Humor In Pain - CONAN o...   \n",
      "2  11-06-2020 23:32  Sona Crashes Conan's Interview With Nicole Bye...   \n",
      "3  11-06-2020 00:00  Senator Cory Booker On This Crossroads In Amer...   \n",
      "4  10-06-2020 21:03  Senator Cory Booker Wants This To Be A Moral M...   \n",
      "\n",
      "                                    videoDescription videoCategoryId  \\\n",
      "0  Deon Cole shares some white protester signs th...              23   \n",
      "1  Nicole Byer on racial inequality in healthcare...              23   \n",
      "2  Sona is a huge fan of Nicole Byer, “Nailed It!...              23   \n",
      "3  Senator Cory Booker discusses the killing of G...              23   \n",
      "4  Senator Cory Booker discusses President Trump’...              23   \n",
      "\n",
      "  videoCategoryLabel durationSec definition caption  licensedContent  \\\n",
      "0             Comedy         124         hd   False              1.0   \n",
      "1             Comedy        1200         hd    True              1.0   \n",
      "2             Comedy          52         hd    True              1.0   \n",
      "3             Comedy        1917         hd   False              1.0   \n",
      "4             Comedy         447         hd    True              1.0   \n",
      "\n",
      "   viewCount  likeCount  dislikeCount  commentCount  \n",
      "0    98817.0     3161.0         186.0         368.0  \n",
      "1    48337.0     1884.0         115.0         318.0  \n",
      "2    57277.0     1992.0          47.0         147.0  \n",
      "3    26466.0      796.0         338.0         399.0  \n",
      "4    19033.0      491.0         336.0         264.0  \n"
     ]
    }
   ],
   "source": [
    "conan_df = pd.read_csv('Data- movies/Talk_Show/Conan.csv')\n",
    "\n",
    "# print a few rows for each column\n",
    "print(conan_df.head())"
   ]
  },
  {
   "cell_type": "markdown",
   "metadata": {},
   "source": [
    "The data here seems fairly new. Let's find the oldest record in the dataset to determine if we can match it with movies in our existing dataset released during the same period. If not, it may not be as useful and could introduce bias."
   ]
  },
  {
   "cell_type": "code",
   "execution_count": 1435,
   "metadata": {},
   "outputs": [
    {
     "name": "stdout",
     "output_type": "stream",
     "text": [
      "\n",
      "Earliest published dates in Conan dataset:\n",
      "8724   2010-08-19 15:57:00\n",
      "8723   2010-08-23 22:34:00\n",
      "8722   2010-08-25 23:06:00\n",
      "8721   2010-08-26 00:21:00\n",
      "8720   2010-08-27 00:47:00\n",
      "Name: publishedAtSQL, dtype: datetime64[ns]\n",
      "\n",
      "Newest published dates in Conan dataset:\n",
      "       publishedAtSQL\n",
      "0 2020-06-12 12:00:00\n",
      "1 2020-06-11 23:34:00\n",
      "2 2020-06-11 23:32:00\n",
      "3 2020-06-11 00:00:00\n",
      "4 2020-06-10 21:03:00\n",
      "\n",
      "Earliest release dates in movies dataset:\n",
      "4592    1916-09-04\n",
      "4661    1925-11-05\n",
      "2638    1927-01-10\n",
      "4457    1929-01-30\n",
      "4594    1929-02-08\n",
      "Name: release_date, dtype: object\n",
      "\n",
      "Newest release dates in movies dataset:\n",
      "     release_date\n",
      "4255   2017-02-03\n",
      "3408   2016-10-02\n",
      "3302   2016-09-16\n",
      "4720   2016-09-09\n",
      "3249   2016-09-09\n"
     ]
    }
   ],
   "source": [
    "# Convert 'publishedAtSQL' to datetime format with dayfirst=True\n",
    "try:\n",
    "    conan_df['publishedAtSQL'] = pd.to_datetime(conan_df['publishedAtSQL'], dayfirst=True)\n",
    "except Exception as e:\n",
    "    raise\n",
    "\n",
    "# Display the first 5 records of the 'publishedAtSQL' column sorted by earliest date for Conan dataset\n",
    "sorted_published_dates = conan_df.sort_values(by='publishedAtSQL', ascending=True)['publishedAtSQL'].head()\n",
    "print (\"\\nEarliest published dates in Conan dataset:\")\n",
    "print(sorted_published_dates)\n",
    "\n",
    "# Sort by 'publishedAtSQL' in descending order and display the first 5 rows\n",
    "newest_published_dates = conan_df.sort_values(by='publishedAtSQL', ascending=False)[['publishedAtSQL']].head()\n",
    "print(\"\\nNewest published dates in Conan dataset:\")\n",
    "print(newest_published_dates)\n",
    "\n",
    "# Display the first 5 records of the 'release_date' column sorted by earliest date for Movies dataset\n",
    "sorted_release_dates1 = movies_df.sort_values(by='release_date', ascending=True)['release_date'].head()\n",
    "print(\"\\nEarliest release dates in movies dataset:\")\n",
    "print(sorted_release_dates1)\n",
    "\n",
    "# Sort by 'release_date' in descending order and display the first 5 rows\n",
    "newest_release_dates = movies_df.sort_values(by='release_date', ascending=False)[['release_date']].head()\n",
    "print(\"\\nNewest release dates in movies dataset:\")\n",
    "print(newest_release_dates)"
   ]
  },
  {
   "cell_type": "markdown",
   "metadata": {},
   "source": [
    "Our movie data is much older, and its not very new as compared to the talk show. Lets look at other talk shows."
   ]
  },
  {
   "cell_type": "code",
   "execution_count": 1430,
   "metadata": {},
   "outputs": [
    {
     "name": "stdout",
     "output_type": "stream",
     "text": [
      "\n",
      "Earliest 5 records for James_Corden:\n",
      "4138   2015-02-07 22:30:00\n",
      "4137   2015-02-09 03:48:00\n",
      "4136   2015-03-10 14:00:00\n",
      "4135   2015-03-16 19:11:00\n",
      "4134   2015-03-17 22:25:00\n",
      "Name: publishedAtSQL, dtype: datetime64[ns]\n",
      "\n",
      "Earliest 5 records for Jimmy_Fallon:\n",
      "5979   2012-04-13 04:34:00\n",
      "5978   2012-04-25 02:19:00\n",
      "5977   2012-04-25 03:14:00\n",
      "5976   2012-04-25 05:21:00\n",
      "5975   2012-05-25 04:35:00\n",
      "Name: publishedAtSQL, dtype: datetime64[ns]\n",
      "\n",
      "Earliest 5 records for Jimmy_Kimmel:\n",
      "4733   2009-01-16 14:30:00\n",
      "4732   2009-01-16 14:37:00\n",
      "4731   2009-06-04 07:16:00\n",
      "4730   2009-08-27 22:48:00\n",
      "4728   2009-10-02 05:57:00\n",
      "Name: publishedAtSQL, dtype: datetime64[ns]\n",
      "\n",
      "Earliest 5 records for Seth_Meyers:\n",
      "3337   2014-02-21 23:30:00\n",
      "3336   2014-02-21 23:36:00\n",
      "3335   2014-02-26 05:31:00\n",
      "3334   2014-02-28 05:27:00\n",
      "3333   2014-03-01 06:34:00\n",
      "Name: publishedAtSQL, dtype: datetime64[ns]\n",
      "\n",
      "Earliest 5 records for Stephen_Colbert:\n",
      "6754   2015-06-03 17:00:00\n",
      "6753   2015-06-04 17:36:00\n",
      "6752   2015-06-08 21:05:00\n",
      "6751   2015-06-17 01:21:00\n",
      "6750   2015-06-22 17:00:00\n",
      "Name: publishedAtSQL, dtype: datetime64[ns]\n"
     ]
    }
   ],
   "source": [
    "# List of files and dataframes\n",
    "file_names = [\n",
    "    'Data- movies/Talk_Show/James_Corden.csv',\n",
    "    'Data- movies/Talk_Show/Jimmy_Fallon.csv',\n",
    "    'Data- movies/Talk_Show/Jimmy_Kimmel.csv',\n",
    "    'Data- movies/Talk_Show/Seth_Meyers.csv',\n",
    "    'Data- movies/Talk_Show/Stephen_Colbert.csv'\n",
    "]\n",
    "\n",
    "dataframes = {}\n",
    "\n",
    "# Load and process each dataframe\n",
    "for file_name in file_names:\n",
    "    df_name = file_name.split('/')[-1].split('.')[0]\n",
    "    dataframes[df_name] = pd.read_csv(file_name)\n",
    "    try:\n",
    "        # Convert 'publishedAtSQL' to datetime\n",
    "        dataframes[df_name]['publishedAtSQL'] = pd.to_datetime(\n",
    "            dataframes[df_name]['publishedAtSQL'], dayfirst=True, errors='coerce'\n",
    "        )\n",
    "    except Exception as e:\n",
    "        print(f\"Error processing {df_name}: {e}\")\n",
    "        continue\n",
    "    \n",
    "    # Display the earliest 5 dates for each dataset\n",
    "    print(f\"\\nEarliest 5 records for {df_name}:\")\n",
    "    print(dataframes[df_name].sort_values(by='publishedAtSQL', ascending=True)['publishedAtSQL'].head())"
   ]
  },
  {
   "cell_type": "markdown",
   "metadata": {},
   "source": [
    "Overvations: \n",
    "- The talk show data is significantly newer compared to the movies dataset, which spans over a century. This mismatch would make it challenging to draw meaningful insights\n",
    "- Using the talk show data could introduce signification bias because only modern movies will likely be represented. This would lead to concludions that do not generalize well.\n",
    "\n",
    "\n",
    "The talk show data comes from a different source than the movies dataset. That is reason for this mismatch, it could introduce errors, misinterpretations.\n",
    "<br>\n",
    "We have decided not to use the talk show data "
   ]
  },
  {
   "cell_type": "markdown",
   "metadata": {},
   "source": [
    "# 3. Data Cleaning"
   ]
  },
  {
   "cell_type": "markdown",
   "metadata": {},
   "source": [
    "### 3.1 Handle Missing data and Zero values  <h5>[Link to analysis](#analysis1)</h5>  <a id=\"#analysis2\"></a>"
   ]
  },
  {
   "cell_type": "markdown",
   "metadata": {},
   "source": [
    "- Budget and Revenue:\n",
    "    - We have signification amount of zero values for both (1037 for budget, 1427 for revenue). For our model, these two are very important features: <br> Since we are working with a very large amount of dataset which contains 4803 rows, we have decided that we <b>drop</b> these rows that contain missing information as replacing these with placehodler values would create bias, and provide little to no value. <br>\n",
    "\n",
    "- Homepage: Contains 3091 missing values, this column does not provide any value. We have decided to drop it this column.\n",
    "\n",
    "- release_date, popularity, and runtime: These columns contain a few missing values/zeros we will drop these rows it will have very minimal impact.\n",
    "\n",
    "- Both vote_average and vote count have zero values \n",
    "    - A zero value likely indicates that no meaningful votes were recorded for the movie. We are leaving them as-is as they don't form a large portion of the dataset.\n",
    "    - It might have been also okay to drop both vote_average, vote_count since we don't know the source of these votes. But we have decided to keep it for now\n",
    "     \n",
    "- Tagline contains 844 missing values. Let's understand what it represents first\n",
    "- Lets also understand what overview contains as it contains missing values"
   ]
  },
  {
   "cell_type": "code",
   "execution_count": 1354,
   "metadata": {},
   "outputs": [
    {
     "name": "stdout",
     "output_type": "stream",
     "text": [
      "0                       Enter the World of Pandora.\n",
      "1    At the end of the world, the adventure begins.\n",
      "2                             A Plan No One Escapes\n",
      "3                                   The Legend Ends\n",
      "4              Lost in our world, found in another.\n",
      "Name: tagline, dtype: object\n",
      "0    In the 22nd century, a paraplegic Marine is di...\n",
      "1    Captain Barbossa, long believed to be dead, ha...\n",
      "2    A cryptic message from Bond’s past sends him o...\n",
      "3    Following the death of District Attorney Harve...\n",
      "4    John Carter is a war-weary, former military ca...\n",
      "Name: overview, dtype: object\n"
     ]
    }
   ],
   "source": [
    "# Pring first 5 rows of tagline\n",
    "print(movies_df['tagline'].head())\n",
    "\n",
    "# Print first 5 rows of overview\n",
    "print(movies_df['overview'].head())"
   ]
  },
  {
   "cell_type": "markdown",
   "metadata": {},
   "source": [
    "- We haev decided to drop tagline and overview column as well, as it will have no impact in our analysis."
   ]
  },
  {
   "cell_type": "code",
   "execution_count": 1355,
   "metadata": {},
   "outputs": [],
   "source": [
    "# Drop rows with zero or missing values in important columns\n",
    "columns_to_check = ['budget', 'revenue', 'release_date', 'popularity', 'runtime']\n",
    "cleaned_movies_df = movies_df.copy()\n",
    "for col in columns_to_check:\n",
    "    if col in ['budget', 'revenue']:\n",
    "        cleaned_movies_df = cleaned_movies_df[cleaned_movies_df[col] != 0]\n",
    "    else:\n",
    "        cleaned_movies_df = cleaned_movies_df.dropna(subset=[col])\n",
    "        if cleaned_movies_df[col].dtype in ['int64', 'float64']:\n",
    "            cleaned_movies_df = cleaned_movies_df[cleaned_movies_df[col] != 0]"
   ]
  },
  {
   "cell_type": "markdown",
   "metadata": {},
   "source": [
    "### 3.2 Split test data\n",
    "\n",
    "Before proceeding to further data processing. Lets split the training test data."
   ]
  },
  {
   "cell_type": "code",
   "execution_count": 1356,
   "metadata": {},
   "outputs": [
    {
     "name": "stdout",
     "output_type": "stream",
     "text": [
      "Training data shape: (3842, 30)\n",
      "Test data shape: (961, 30)\n"
     ]
    }
   ],
   "source": [
    "#Split data for training\n",
    "from sklearn.model_selection import train_test_split\n",
    "\n",
    "# 1. Separate features and target variable\n",
    "target_column = 'revenue'  # 'revenue' is our target\n",
    "X = movies_df.drop(columns=[target_column])\n",
    "y = movies_df[target_column]\n",
    "\n",
    "# 2. Split the data\n",
    "X_train, X_test, y_train, y_test = train_test_split(\n",
    "    X, y, test_size=0.2, random_state=42 \n",
    ")\n",
    "\n",
    "# Merge `y` back for easier manipulation in training set\n",
    "train_df = X_train.copy()\n",
    "train_df[target_column] = y_train\n",
    "\n",
    "test_df = X_test.copy()\n",
    "test_df[target_column] = y_test\n",
    "\n",
    "# Verify the split\n",
    "print(f\"Training data shape: {train_df.shape}\")\n",
    "print(f\"Test data shape: {test_df.shape}\")"
   ]
  },
  {
   "cell_type": "code",
   "execution_count": 1357,
   "metadata": {},
   "outputs": [],
   "source": [
    "# Drop irrelevant columns\n",
    "columns_to_drop = ['homepage', 'tagline', 'overview']\n",
    "cleaned_movies_df = cleaned_movies_df.drop(columns=columns_to_drop)"
   ]
  },
  {
   "cell_type": "code",
   "execution_count": 1358,
   "metadata": {},
   "outputs": [
    {
     "name": "stdout",
     "output_type": "stream",
     "text": [
      "Remaining rows after cleaning: 3229\n",
      "Remaining columns after cleaning: 27\n"
     ]
    }
   ],
   "source": [
    "# Verify the results\n",
    "print(\"Remaining rows after cleaning:\", cleaned_movies_df.shape[0])\n",
    "print(\"Remaining columns after cleaning:\", cleaned_movies_df.shape[1])"
   ]
  },
  {
   "cell_type": "markdown",
   "metadata": {},
   "source": [
    "### 3.3 Outlier analysis"
   ]
  },
  {
   "cell_type": "markdown",
   "metadata": {},
   "source": [
    "#### Budget"
   ]
  },
  {
   "cell_type": "code",
   "execution_count": 1359,
   "metadata": {},
   "outputs": [
    {
     "name": "stdout",
     "output_type": "stream",
     "text": [
      "Summary statistics for 'budget':\n",
      "count    3.229000e+03\n",
      "mean     4.065444e+07\n",
      "std      4.439674e+07\n",
      "min      1.000000e+00\n",
      "25%      1.050000e+07\n",
      "50%      2.500000e+07\n",
      "75%      5.500000e+07\n",
      "max      3.800000e+08\n",
      "Name: budget, dtype: float64\n"
     ]
    },
    {
     "data": {
      "image/png": "[encoded data removed]",
      "text/plain": [
       "<Figure size 1000x500 with 1 Axes>"
      ]
     },
     "metadata": {},
     "output_type": "display_data"
    },
    {
     "data": {
      "image/png": "[encoded data removed]",
      "text/plain": [
       "<Figure size 1000x500 with 1 Axes>"
      ]
     },
     "metadata": {},
     "output_type": "display_data"
    },
    {
     "name": "stdout",
     "output_type": "stream",
     "text": [
      "Lower bound for outliers: -56250000.0\n",
      "Upper bound for outliers: 121750000.0\n",
      "Number of outliers in 'budget': 216\n",
      "Examples of outliers:\n",
      "                                    title_y     budget\n",
      "0                                    Avatar  237000000\n",
      "1  Pirates of the Caribbean: At World's End  300000000\n",
      "2                                   Spectre  245000000\n",
      "3                     The Dark Knight Rises  250000000\n",
      "4                               John Carter  260000000\n"
     ]
    }
   ],
   "source": [
    "import matplotlib.pyplot as plt\n",
    "import seaborn as sns\n",
    "\n",
    "# Summary statistics\n",
    "print(\"Summary statistics for 'budget':\")\n",
    "print(cleaned_movies_df['budget'].describe())\n",
    "\n",
    "# Boxplot\n",
    "plt.figure(figsize=(10, 5))\n",
    "sns.boxplot(x=cleaned_movies_df['budget'])\n",
    "plt.title('Boxplot for Budget', fontsize=14)\n",
    "plt.xlabel('Budget', fontsize=12)\n",
    "plt.show()\n",
    "\n",
    "# Histogram\n",
    "plt.figure(figsize=(10, 5))\n",
    "sns.histplot(cleaned_movies_df['budget'], bins=30, kde=True)\n",
    "plt.title('Histogram for Budget', fontsize=14)\n",
    "plt.xlabel('Budget', fontsize=12)\n",
    "plt.ylabel('Frequency', fontsize=12)\n",
    "plt.show()\n",
    "\n",
    "# Identify potential outliers []\n",
    "q1 = cleaned_movies_df['budget'].quantile(0.25)\n",
    "q3 = cleaned_movies_df['budget'].quantile(0.75)\n",
    "iqr = q3 - q1\n",
    "lower_bound = q1 - 1.5 * iqr\n",
    "upper_bound = q3 + 1.5 * iqr\n",
    "\n",
    "# Q1 (25th percentile): The value below which 25% of the data lies.\n",
    "# Q3 (75th percentile): The value below which 75% of the data lies.\n",
    "# IQR = Q3 - Q1.    \n",
    "\n",
    "print(f\"Lower bound for outliers: {lower_bound}\")\n",
    "print(f\"Upper bound for outliers: {upper_bound}\")\n",
    "\n",
    "outliers = cleaned_movies_df[(cleaned_movies_df['budget'] < lower_bound) | (cleaned_movies_df['budget'] > upper_bound)]\n",
    "print(f\"Number of outliers in 'budget': {len(outliers)}\")\n",
    "print(\"Examples of outliers:\")\n",
    "print(outliers[['title_y', 'budget']].head())\n"
   ]
  },
  {
   "cell_type": "markdown",
   "metadata": {},
   "source": [
    "Observation from the Boxplot:\n",
    "- The upper threshold for outliers is 120 million (120,000,000).\n",
    "- Any movie with a budget above this is considered an outlier.\n",
    "- There are 216 outliers (movies with extremely high budgets) in our dataset which makes sense.\n",
    "\n",
    "Observations from the Histrogram:\n",
    "- The histogram shows a long tail on the right side, meaning there are a few movies with extremely high budgets.\n",
    "- Most of the budget values are concentrated on the left (lower budgets), while only a small number of movies have very high budgets (outliers).\n",
    "- y-axis in the histogram represent number of movies, and x-axis the budget.\n",
    "- x-axis in the histogram is scaled in scientific notation because the budget values are very large."
   ]
  },
  {
   "cell_type": "markdown",
   "metadata": {},
   "source": [
    "Summary:\n",
    "Given that Budget will be one of the most important features for our model training, removing or transforming these budget outliers could erase valuable insights how these big-budget movies like avatar impact\n",
    "revenue. A log transformation would reduce the budget values, which might supress meaningful variations between small, mid-range, and high-budget movies. We will keep these outlier, and train our model to learn from this instead of discarding it.\n"
   ]
  },
  {
   "cell_type": "markdown",
   "metadata": {},
   "source": [
    "#### Revenue"
   ]
  },
  {
   "cell_type": "code",
   "execution_count": 1360,
   "metadata": {},
   "outputs": [
    {
     "name": "stdout",
     "output_type": "stream",
     "text": [
      "Summary statistics for 'revenue':\n",
      "count    3.229000e+03\n",
      "mean     1.212430e+08\n",
      "std      1.863029e+08\n",
      "min      5.000000e+00\n",
      "25%      1.700000e+07\n",
      "50%      5.518472e+07\n",
      "75%      1.462920e+08\n",
      "max      2.787965e+09\n",
      "Name: revenue, dtype: float64\n"
     ]
    },
    {
     "data": {
      "image/png": "[encoded data removed]",
      "text/plain": [
       "<Figure size 800x600 with 1 Axes>"
      ]
     },
     "metadata": {},
     "output_type": "display_data"
    },
    {
     "data": {
      "image/png": "[encoded data removed]",
      "text/plain": [
       "<Figure size 800x600 with 1 Axes>"
      ]
     },
     "metadata": {},
     "output_type": "display_data"
    },
    {
     "name": "stdout",
     "output_type": "stream",
     "text": [
      "\n",
      "Lower bound for outliers: -176938013.5\n",
      "Upper bound for outliers: 340230022.5\n",
      "Number of outliers in 'revenue': 285\n",
      "\n",
      "Examples of outliers:\n",
      "                                    title_y     revenue\n",
      "0                                    Avatar  2787965087\n",
      "1  Pirates of the Caribbean: At World's End   961000000\n",
      "2                                   Spectre   880674609\n",
      "3                     The Dark Knight Rises  1084939099\n",
      "5                              Spider-Man 3   890871626\n"
     ]
    }
   ],
   "source": [
    "# Step 1: Summary Statistics for Revenue\n",
    "revenue_summary = cleaned_movies_df['revenue'].describe()\n",
    "print(\"Summary statistics for 'revenue':\")\n",
    "print(revenue_summary)\n",
    "\n",
    "# Step 2: Boxplot to Visualize Outliers\n",
    "plt.figure(figsize=(8, 6))\n",
    "sns.boxplot(cleaned_movies_df['revenue'])\n",
    "plt.title(\"Boxplot for Revenue\")\n",
    "plt.xlabel(\"Revenue\")\n",
    "plt.show()\n",
    "\n",
    "# Step 3: Histogram to Visualize Distribution\n",
    "plt.figure(figsize=(8, 6))\n",
    "sns.histplot(cleaned_movies_df['revenue'], kde=True, bins=30)\n",
    "plt.title(\"Histogram for Revenue\")\n",
    "plt.xlabel(\"Revenue\")\n",
    "plt.ylabel(\"Frequency\")\n",
    "plt.show()\n",
    "\n",
    "# Step 4: Identify Outliers using IQR\n",
    "q1_revenue = cleaned_movies_df['revenue'].quantile(0.25)\n",
    "q3_revenue = cleaned_movies_df['revenue'].quantile(0.75)\n",
    "iqr_revenue = q3_revenue - q1_revenue\n",
    "\n",
    "lower_bound = q1_revenue - 1.5 * iqr_revenue\n",
    "upper_bound = q3_revenue + 1.5 * iqr_revenue\n",
    "\n",
    "outliers_revenue = cleaned_movies_df[(cleaned_movies_df['revenue'] < lower_bound) | \n",
    "                                     (cleaned_movies_df['revenue'] > upper_bound)]\n",
    "\n",
    "print(f\"\\nLower bound for outliers: {lower_bound}\")\n",
    "print(f\"Upper bound for outliers: {upper_bound}\")\n",
    "print(f\"Number of outliers in 'revenue': {len(outliers_revenue)}\")\n",
    "\n",
    "# Step 5: Examples of Outliers\n",
    "print(\"\\nExamples of outliers:\")\n",
    "print(outliers_revenue[['title_y', 'revenue']].head())\n"
   ]
  },
  {
   "cell_type": "markdown",
   "metadata": {},
   "source": [
    "Summary:\n",
    "<br>\n",
    "The boxplot and histogram for revenue show a heavily right-skewed distribution with numerous outliers on the higher end. These outliers represent blockbuster movies like Avatar, which have exceptionally high revenues similar to what we saw with Budget.\n",
    "<br>\n",
    "- Skewness:\n",
    "    - The revenue data is positively skewed, as the majority of movies have relatively low revenue, and only a few movies have extremely high revenue.\n",
    "<br>\n",
    "- Outliers:\n",
    "<br>\n",
    "    - A significant number of outliers appear above the upper whisker in the boxplot.\n",
    "    - These outliers are movies with extraordinarily high revenues, representing major hits."
   ]
  },
  {
   "cell_type": "markdown",
   "metadata": {},
   "source": [
    "Similar to the budget column, outliers in revenue represent critical data points since they indicate blockbuster hits. Removing these outliers might distort the analysis because:\n",
    "Since our goal is to predict revenue, so high-value outliers provide essential insights into what makes movies financially successful. We will keep these outliers as well.\n"
   ]
  },
  {
   "cell_type": "markdown",
   "metadata": {},
   "source": [
    "#### Popularity"
   ]
  },
  {
   "cell_type": "code",
   "execution_count": 1361,
   "metadata": {},
   "outputs": [
    {
     "name": "stdout",
     "output_type": "stream",
     "text": [
      "Summary statistics for 'popularity':\n",
      "count    3229.000000\n",
      "mean       29.033689\n",
      "std        36.165730\n",
      "min         0.019984\n",
      "25%        10.446722\n",
      "50%        20.410354\n",
      "75%        37.335721\n",
      "max       875.581305\n",
      "Name: popularity, dtype: float64\n"
     ]
    },
    {
     "data": {
      "image/png": "[encoded data removed]",
      "text/plain": [
       "<Figure size 1000x600 with 1 Axes>"
      ]
     },
     "metadata": {},
     "output_type": "display_data"
    },
    {
     "name": "stdout",
     "output_type": "stream",
     "text": [
      "Lower bound for outliers: -29.886776499999996\n",
      "Upper bound for outliers: 77.6692195\n",
      "Number of outliers in 'popularity': 175\n",
      "Examples of outliers:\n",
      "                                    title_y  popularity\n",
      "0                                    Avatar  150.437577\n",
      "1  Pirates of the Caribbean: At World's End  139.082615\n",
      "2                                   Spectre  107.376788\n",
      "3                     The Dark Knight Rises  112.312950\n",
      "5                              Spider-Man 3  115.699814\n"
     ]
    },
    {
     "data": {
      "image/png": "[encoded data removed]",
      "text/plain": [
       "<Figure size 1000x600 with 1 Axes>"
      ]
     },
     "metadata": {},
     "output_type": "display_data"
    }
   ],
   "source": [
    "# Summary statistics\n",
    "print(\"Summary statistics for 'popularity':\")\n",
    "print(cleaned_movies_df['popularity'].describe())\n",
    "\n",
    "# Boxplot for popularity\n",
    "plt.figure(figsize=(10, 6))\n",
    "sns.boxplot(x=cleaned_movies_df['popularity'], color='skyblue')\n",
    "plt.title(\"Boxplot for Popularity\")\n",
    "plt.xlabel(\"Popularity\")\n",
    "plt.show()\n",
    "\n",
    "# Calculate outlier thresholds\n",
    "q1 = cleaned_movies_df['popularity'].quantile(0.25)\n",
    "q3 = cleaned_movies_df['popularity'].quantile(0.75)\n",
    "iqr = q3 - q1\n",
    "lower_bound = q1 - 1.5 * iqr\n",
    "upper_bound = q3 + 1.5 * iqr\n",
    "\n",
    "# Find outliers\n",
    "outliers = cleaned_movies_df[(cleaned_movies_df['popularity'] < lower_bound) | \n",
    "                             (cleaned_movies_df['popularity'] > upper_bound)]\n",
    "\n",
    "print(f\"Lower bound for outliers: {lower_bound}\")\n",
    "print(f\"Upper bound for outliers: {upper_bound}\")\n",
    "print(f\"Number of outliers in 'popularity': {outliers.shape[0]}\")\n",
    "\n",
    "# Examples of outliers\n",
    "print(\"Examples of outliers:\")\n",
    "print(outliers[['title_y', 'popularity']].head())\n",
    "\n",
    "# Histogram for popularity\n",
    "plt.figure(figsize=(10, 6))\n",
    "sns.histplot(cleaned_movies_df['popularity'], bins=30, kde=True, color='skyblue')\n",
    "plt.title(\"Histogram for Popularity\")\n",
    "plt.xlabel(\"Popularity\")\n",
    "plt.ylabel(\"Frequency\")\n",
    "plt.show()"
   ]
  },
  {
   "cell_type": "markdown",
   "metadata": {},
   "source": [
    "Summary:\n",
    "The popularity distribution is highly right-skewed, with the majority of movies having a low popularity score. There are significant outliers above 78.5\n",
    "\n",
    "We decided to not transform or remove these outliers for following reasons:\n",
    "- High popularity might be one of the strongest signals for predicting high revenue. By excluding or transforming it, we would risk diminishing the relationship between popularity and revenue.\n",
    "- We can later group movies by popularity tiers like low, medium, high to analyze their influence on revenue without discarding data."
   ]
  },
  {
   "cell_type": "markdown",
   "metadata": {},
   "source": [
    "#### Runtime"
   ]
  },
  {
   "cell_type": "code",
   "execution_count": 1362,
   "metadata": {},
   "outputs": [
    {
     "data": {
      "image/png": "[encoded data removed]",
      "text/plain": [
       "<Figure size 1000x600 with 1 Axes>"
      ]
     },
     "metadata": {},
     "output_type": "display_data"
    },
    {
     "name": "stdout",
     "output_type": "stream",
     "text": [
      "Summary statistics for 'runtime':\n",
      "count    3229.000000\n",
      "mean      110.724373\n",
      "std        20.965694\n",
      "min        41.000000\n",
      "25%        96.000000\n",
      "50%       107.000000\n",
      "75%       121.000000\n",
      "max       338.000000\n",
      "Name: runtime, dtype: float64\n"
     ]
    },
    {
     "data": {
      "image/png": "[encoded data removed]",
      "text/plain": [
       "<Figure size 1000x600 with 1 Axes>"
      ]
     },
     "metadata": {},
     "output_type": "display_data"
    },
    {
     "name": "stdout",
     "output_type": "stream",
     "text": [
      "Lower bound for outliers: 58.5\n",
      "Upper bound for outliers: 158.5\n",
      "Number of outliers in 'runtime': 99\n",
      "Examples of outliers:\n",
      "                                     title_y  runtime\n",
      "0                                     Avatar    162.0\n",
      "1   Pirates of the Caribbean: At World's End    169.0\n",
      "3                      The Dark Knight Rises    165.0\n",
      "22       The Hobbit: The Desolation of Smaug    161.0\n",
      "24                                 King Kong    187.0\n"
     ]
    }
   ],
   "source": [
    "# Boxplot for runtime\n",
    "plt.figure(figsize=(10, 6))\n",
    "sns.boxplot(x=cleaned_movies_df['runtime'], color=\"skyblue\")\n",
    "plt.title(\"Boxplot for Runtime\", fontsize=14)\n",
    "plt.xlabel(\"Runtime\", fontsize=12)\n",
    "plt.show()\n",
    "\n",
    "# Summary statistics for runtime\n",
    "runtime_summary = cleaned_movies_df['runtime'].describe()\n",
    "print(\"Summary statistics for 'runtime':\")\n",
    "print(runtime_summary)\n",
    "\n",
    "# Histogram for runtime\n",
    "plt.figure(figsize=(10, 6))\n",
    "sns.histplot(cleaned_movies_df['runtime'], kde=True, bins=30, color=\"skyblue\")\n",
    "plt.title(\"Histogram for Runtime\", fontsize=14)\n",
    "plt.xlabel(\"Runtime\", fontsize=12)\n",
    "plt.ylabel(\"Frequency\", fontsize=12)\n",
    "plt.show()\n",
    "\n",
    "# Calculate IQR for runtime\n",
    "Q1 = cleaned_movies_df['runtime'].quantile(0.25)\n",
    "Q3 = cleaned_movies_df['runtime'].quantile(0.75)\n",
    "IQR = Q3 - Q1\n",
    "\n",
    "lower_bound = Q1 - 1.5 * IQR\n",
    "upper_bound = Q3 + 1.5 * IQR\n",
    "\n",
    "# Identify outliers\n",
    "outliers_runtime = cleaned_movies_df[(cleaned_movies_df['runtime'] < lower_bound) | (cleaned_movies_df['runtime'] > upper_bound)]\n",
    "print(\"Lower bound for outliers:\", lower_bound)\n",
    "print(\"Upper bound for outliers:\", upper_bound)\n",
    "print(f\"Number of outliers in 'runtime': {len(outliers_runtime)}\")\n",
    "print(\"Examples of outliers:\")\n",
    "print(outliers_runtime[['title_y', 'runtime']].head())"
   ]
  },
  {
   "cell_type": "markdown",
   "metadata": {},
   "source": [
    "Summary:\n",
    "- The mean runtime is around 110 minutes, with a standard deviation of 20.73 minutes.\n",
    "- Most movies have a runtime between 96 (25th percentile) and 121 (75th percentile) minutes.\n",
    "- Outliers exist, with runtimes below 58.5 minutes (unusually short) or above 158.5 minutes (unusually long).\n",
    "<br>\n",
    "Box Plot:\n",
    "- A significant number of movies falls within the interquartile range (IQR).\n",
    "- Some extreme outliers, such as \"King Kong\" (187 minutes), extend well beyond the upper bound.\n",
    "<br>\n",
    "Histrogram:\n",
    "- The distribution appears roughly normal, centered around the mean, but there is a slight right skew due to longer movies.\n",
    "- A large proportion of movies have runtimes between 90 and 120 minutes.\n",
    "\n",
    "Runtime is a meaningful feature for audience engagement for us, so retaining the outliers is important to understand these patterns. If required we could group the runtimes into categories like (short, standard, long) for better interpetability.\n",
    "\n",
    "We have decided to keep it as it is."
   ]
  },
  {
   "cell_type": "markdown",
   "metadata": {},
   "source": [
    "#### Vote Average"
   ]
  },
  {
   "cell_type": "code",
   "execution_count": 1363,
   "metadata": {},
   "outputs": [
    {
     "name": "stdout",
     "output_type": "stream",
     "text": [
      "Summary statistics for 'vote_average':\n",
      "count    3229.000000\n",
      "mean        6.309353\n",
      "std         0.873891\n",
      "min         0.000000\n",
      "25%         5.800000\n",
      "50%         6.300000\n",
      "75%         6.900000\n",
      "max         8.500000\n",
      "Name: vote_average, dtype: float64\n",
      "\n",
      "Lower bound for outliers: 4.149999999999999\n",
      "Upper bound for outliers: 8.55\n",
      "Number of outliers in 'vote_average': 43\n",
      "Examples of outliers:\n",
      "                                  title_y  vote_average\n",
      "259               Speed 2: Cruise Control           4.1\n",
      "272                        Town & Country           3.7\n",
      "480                     Battlefield Earth           3.0\n",
      "499                         Jack and Jill           4.1\n",
      "503  The Adventures of Rocky & Bullwinkle           3.9\n"
     ]
    },
    {
     "data": {
      "image/png": "[encoded data removed]",
      "text/plain": [
       "<Figure size 800x600 with 1 Axes>"
      ]
     },
     "metadata": {},
     "output_type": "display_data"
    },
    {
     "data": {
      "image/png": "[encoded data removed]",
      "text/plain": [
       "<Figure size 800x600 with 1 Axes>"
      ]
     },
     "metadata": {},
     "output_type": "display_data"
    }
   ],
   "source": [
    "# Calculate summary statistics for vote_average\n",
    "vote_avg_summary = cleaned_movies_df['vote_average'].describe()\n",
    "print(\"Summary statistics for 'vote_average':\")\n",
    "print(vote_avg_summary)\n",
    "\n",
    "# Calculate IQR and outliers\n",
    "q1_vote_avg = vote_avg_summary['25%']\n",
    "q3_vote_avg = vote_avg_summary['75%']\n",
    "iqr_vote_avg = q3_vote_avg - q1_vote_avg\n",
    "\n",
    "lower_bound_vote_avg = q1_vote_avg - 1.5 * iqr_vote_avg\n",
    "upper_bound_vote_avg = q3_vote_avg + 1.5 * iqr_vote_avg\n",
    "\n",
    "outliers_vote_avg = cleaned_movies_df[\n",
    "    (cleaned_movies_df['vote_average'] < lower_bound_vote_avg) |\n",
    "    (cleaned_movies_df['vote_average'] > upper_bound_vote_avg)\n",
    "]\n",
    "\n",
    "print(f\"\\nLower bound for outliers: {lower_bound_vote_avg}\")\n",
    "print(f\"Upper bound for outliers: {upper_bound_vote_avg}\")\n",
    "print(f\"Number of outliers in 'vote_average': {len(outliers_vote_avg)}\")\n",
    "print(\"Examples of outliers:\")\n",
    "print(outliers_vote_avg[['title_y', 'vote_average']].head())\n",
    "\n",
    "# Plot boxplot for vote_average\n",
    "plt.figure(figsize=(8, 6))\n",
    "sns.boxplot(x=cleaned_movies_df['vote_average'])\n",
    "plt.title(\"Boxplot for Vote Average\")\n",
    "plt.xlabel(\"Vote Average\")\n",
    "plt.show()\n",
    "\n",
    "# Plot histogram for vote_average\n",
    "plt.figure(figsize=(8, 6))\n",
    "sns.histplot(cleaned_movies_df['vote_average'], kde=True, bins=20)\n",
    "plt.title(\"Histogram for Vote Average\")\n",
    "plt.xlabel(\"Vote Average\")\n",
    "plt.ylabel(\"Frequency\")\n",
    "plt.show()\n"
   ]
  },
  {
   "cell_type": "markdown",
   "metadata": {},
   "source": [
    "Boxplot: Outliers are present on both ends, these represent movies with extremely low or high audience ratings.\n",
    "<br><br>\n",
    "Histogram: The distribution appears approximately normal, centered around the mean, but with some skewness due to the presence of extreme low values\n",
    "<br>\n",
    "<br>\n",
    "Summary:\n",
    "- 75% of movies have a vote average below 6.9.\n",
    "- Vote averages are values reflecting audience or critic opinion. These values might provide critical insights into extreme cases like universally liked or widely disliked movies.\n",
    "- These might also correlate with other features like revenue or popularity, adding value to the analysis.\n",
    "<br>\n",
    "<br>\n",
    "Since the distribution is almost normal, a transformation like log scaling is unnecessary. We will keep it as it is."
   ]
  },
  {
   "cell_type": "markdown",
   "metadata": {},
   "source": [
    "#### Vote Count"
   ]
  },
  {
   "cell_type": "code",
   "execution_count": 1364,
   "metadata": {},
   "outputs": [
    {
     "name": "stdout",
     "output_type": "stream",
     "text": [
      "Summary statistics for 'vote_count':\n",
      "count     3229.000000\n",
      "mean       977.287395\n",
      "std       1414.309577\n",
      "min          0.000000\n",
      "25%        178.000000\n",
      "50%        471.000000\n",
      "75%       1148.000000\n",
      "max      13752.000000\n",
      "Name: vote_count, dtype: float64\n",
      "\n",
      "Lower bound for outliers: -1277.0\n",
      "Upper bound for outliers: 2603.0\n",
      "Number of outliers in 'vote_count': 305\n",
      "Examples of outliers:\n",
      "                                    title_y  vote_count\n",
      "0                                    Avatar       11800\n",
      "1  Pirates of the Caribbean: At World's End        4500\n",
      "2                                   Spectre        4466\n",
      "3                     The Dark Knight Rises        9106\n",
      "5                              Spider-Man 3        3576\n"
     ]
    },
    {
     "data": {
      "image/png": "[encoded data removed]",
      "text/plain": [
       "<Figure size 1000x600 with 1 Axes>"
      ]
     },
     "metadata": {},
     "output_type": "display_data"
    },
    {
     "data": {
      "image/png": "[encoded data removed]",
      "text/plain": [
       "<Figure size 1000x600 with 1 Axes>"
      ]
     },
     "metadata": {},
     "output_type": "display_data"
    }
   ],
   "source": [
    "# Summary statistics\n",
    "print(\"Summary statistics for 'vote_count':\")\n",
    "print(cleaned_movies_df['vote_count'].describe())\n",
    "\n",
    "# Identify outliers using IQR\n",
    "Q1 = cleaned_movies_df['vote_count'].quantile(0.25)\n",
    "Q3 = cleaned_movies_df['vote_count'].quantile(0.75)\n",
    "IQR = Q3 - Q1\n",
    "lower_bound = Q1 - 1.5 * IQR\n",
    "upper_bound = Q3 + 1.5 * IQR\n",
    "\n",
    "outliers = cleaned_movies_df[(cleaned_movies_df['vote_count'] < lower_bound) | (cleaned_movies_df['vote_count'] > upper_bound)]\n",
    "print(f\"\\nLower bound for outliers: {lower_bound}\")\n",
    "print(f\"Upper bound for outliers: {upper_bound}\")\n",
    "print(f\"Number of outliers in 'vote_count': {len(outliers)}\")\n",
    "print(\"Examples of outliers:\")\n",
    "print(outliers[['title_y', 'vote_count']].head())\n",
    "\n",
    "# Boxplot for vote_count\n",
    "plt.figure(figsize=(10, 6))\n",
    "sns.boxplot(x=cleaned_movies_df['vote_count'], color=\"skyblue\")\n",
    "plt.title(\"Boxplot for Vote Count\", fontsize=14)\n",
    "plt.xlabel(\"Vote Count\", fontsize=12)\n",
    "plt.show()\n",
    "\n",
    "# Histogram for vote_count\n",
    "plt.figure(figsize=(10, 6))\n",
    "sns.histplot(cleaned_movies_df['vote_count'], bins=30, kde=True, color=\"skyblue\")\n",
    "plt.title(\"Histogram for Vote Count\", fontsize=14)\n",
    "plt.xlabel(\"Vote Count\", fontsize=12)\n",
    "plt.ylabel(\"Frequency\", fontsize=12)\n",
    "plt.show()\n"
   ]
  },
  {
   "cell_type": "markdown",
   "metadata": {},
   "source": [
    "Summary:\n",
    "- Outliers like Avatar and Pirates of the Caribbean are expected because hits naturally attract more audience interaction.\n",
    "- Movies with high vote counts are not data errors but instead exceptional cases. Removing them would eliminate valuable insights into audience engagement. \n",
    "\n",
    "We decided to perform <b> log transformation </b> on this feature as it is extremely skewed: most movies have very few votes, while a small number have exceptionally high counts and this creates an imbalance that can dominate model training and hinder its ability to generalize across all movies."
   ]
  },
  {
   "cell_type": "code",
   "execution_count": 1365,
   "metadata": {},
   "outputs": [
    {
     "name": "stdout",
     "output_type": "stream",
     "text": [
      "Summary statistics for 'log_vote_count':\n",
      "count    3229.000000\n",
      "mean        6.035145\n",
      "std         1.453596\n",
      "min         0.000000\n",
      "25%         5.187386\n",
      "50%         6.156979\n",
      "75%         7.046647\n",
      "max         9.529012\n",
      "Name: log_vote_count, dtype: float64\n"
     ]
    }
   ],
   "source": [
    "import numpy as np\n",
    "\n",
    "# Apply log transformation to 'vote_count'\n",
    "cleaned_movies_df['log_vote_count'] = np.log1p(cleaned_movies_df['vote_count'])\n",
    "\n",
    "# Display a summary of the transformed feature\n",
    "print(\"Summary statistics for 'log_vote_count':\")\n",
    "print(cleaned_movies_df['log_vote_count'].describe())\n"
   ]
  },
  {
   "cell_type": "code",
   "execution_count": 1366,
   "metadata": {},
   "outputs": [
    {
     "data": {
      "image/png": "[encoded data removed]",
      "text/plain": [
       "<Figure size 800x500 with 1 Axes>"
      ]
     },
     "metadata": {},
     "output_type": "display_data"
    },
    {
     "data": {
      "image/png": "[encoded data removed]",
      "text/plain": [
       "<Figure size 800x500 with 1 Axes>"
      ]
     },
     "metadata": {},
     "output_type": "display_data"
    }
   ],
   "source": [
    "#Visualize it\n",
    "\n",
    "# Histogram of log-transformed 'vote_count'\n",
    "plt.figure(figsize=(8, 5))\n",
    "sns.histplot(cleaned_movies_df['log_vote_count'], bins=30, kde=True, color='blue', alpha=0.6)\n",
    "plt.title('Histogram for Log-Transformed Vote Count', fontsize=14)\n",
    "plt.xlabel('Log(Vote Count)', fontsize=12)\n",
    "plt.ylabel('Frequency', fontsize=12)\n",
    "plt.show()\n",
    "\n",
    "# Boxplot of log-transformed 'vote_count'\n",
    "plt.figure(figsize=(8, 5))\n",
    "sns.boxplot(cleaned_movies_df['log_vote_count'], color='blue')\n",
    "plt.title('Boxplot for Log-Transformed Vote Count', fontsize=14)\n",
    "plt.xlabel('Log(Vote Count)', fontsize=12)\n",
    "plt.show()\n"
   ]
  },
  {
   "cell_type": "markdown",
   "metadata": {},
   "source": [
    "Summary after the transformation:\n",
    "<br>\n",
    "As per above, the transformation appears to have worked well:\n",
    "<br>\n",
    "- Histogram: The log-transformed histogram now indicates that the extreme skewness of the original data has been reduced significantly\n",
    "\n",
    "- Boxplot: The range of values is now compressed, and the boxplot shows a much tighter interquartile range. While there are still outliers, they are less extreme in terms of deviation from the bulk of the data."
   ]
  },
  {
   "cell_type": "code",
   "execution_count": 1367,
   "metadata": {},
   "outputs": [],
   "source": [
    "# lets drop the original vote_count column\n",
    "cleaned_movies_df = cleaned_movies_df.drop(columns=['vote_count'])\n",
    "\n",
    "# Rename the log-transformed column to 'vote_count'\n",
    "cleaned_movies_df.rename(columns={'log_vote_count': 'vote_count'}, inplace=True)"
   ]
  },
  {
   "cell_type": "markdown",
   "metadata": {},
   "source": [
    "## Feature selection, and Engineering"
   ]
  },
  {
   "cell_type": "markdown",
   "metadata": {},
   "source": [
    "### 5.1 Categorical columns"
   ]
  },
  {
   "cell_type": "markdown",
   "metadata": {},
   "source": [
    "Identify Categorical columns"
   ]
  },
  {
   "cell_type": "markdown",
   "metadata": {},
   "source": [
    "<p>Lets first print the first 5 rows to understand some of the columns</p>"
   ]
  },
  {
   "cell_type": "code",
   "execution_count": 1368,
   "metadata": {},
   "outputs": [
    {
     "name": "stdout",
     "output_type": "stream",
     "text": [
      "First 5 rows of categorical columns:\n",
      "\n",
      "Column: genres\n",
      "0    [{\"id\": 28, \"name\": \"Action\"}, {\"id\": 12, \"nam...\n",
      "1    [{\"id\": 12, \"name\": \"Adventure\"}, {\"id\": 14, \"...\n",
      "2    [{\"id\": 28, \"name\": \"Action\"}, {\"id\": 12, \"nam...\n",
      "3    [{\"id\": 28, \"name\": \"Action\"}, {\"id\": 80, \"nam...\n",
      "4    [{\"id\": 28, \"name\": \"Action\"}, {\"id\": 12, \"nam...\n",
      "Name: genres, dtype: object\n",
      "\n",
      "Column: keywords\n",
      "0    [{\"id\": 1463, \"name\": \"culture clash\"}, {\"id\":...\n",
      "1    [{\"id\": 270, \"name\": \"ocean\"}, {\"id\": 726, \"na...\n",
      "2    [{\"id\": 470, \"name\": \"spy\"}, {\"id\": 818, \"name...\n",
      "3    [{\"id\": 849, \"name\": \"dc comics\"}, {\"id\": 853,...\n",
      "4    [{\"id\": 818, \"name\": \"based on novel\"}, {\"id\":...\n",
      "Name: keywords, dtype: object\n",
      "\n",
      "Column: original_language\n",
      "0    en\n",
      "1    en\n",
      "2    en\n",
      "3    en\n",
      "4    en\n",
      "Name: original_language, dtype: object\n",
      "\n",
      "Column: original_title\n",
      "0                                      Avatar\n",
      "1    Pirates of the Caribbean: At World's End\n",
      "2                                     Spectre\n",
      "3                       The Dark Knight Rises\n",
      "4                                 John Carter\n",
      "Name: original_title, dtype: object\n",
      "\n",
      "Column: production_companies\n",
      "0    [{\"name\": \"Ingenious Film Partners\", \"id\": 289...\n",
      "1    [{\"name\": \"Walt Disney Pictures\", \"id\": 2}, {\"...\n",
      "2    [{\"name\": \"Columbia Pictures\", \"id\": 5}, {\"nam...\n",
      "3    [{\"name\": \"Legendary Pictures\", \"id\": 923}, {\"...\n",
      "4          [{\"name\": \"Walt Disney Pictures\", \"id\": 2}]\n",
      "Name: production_companies, dtype: object\n",
      "\n",
      "Column: production_countries\n",
      "0    [{\"iso_3166_1\": \"US\", \"name\": \"United States o...\n",
      "1    [{\"iso_3166_1\": \"US\", \"name\": \"United States o...\n",
      "2    [{\"iso_3166_1\": \"GB\", \"name\": \"United Kingdom\"...\n",
      "3    [{\"iso_3166_1\": \"US\", \"name\": \"United States o...\n",
      "4    [{\"iso_3166_1\": \"US\", \"name\": \"United States o...\n",
      "Name: production_countries, dtype: object\n",
      "\n",
      "Column: release_date\n",
      "0    2009-12-10\n",
      "1    2007-05-19\n",
      "2    2015-10-26\n",
      "3    2012-07-16\n",
      "4    2012-03-07\n",
      "Name: release_date, dtype: object\n",
      "\n",
      "Column: spoken_languages\n",
      "0    [{\"iso_639_1\": \"en\", \"name\": \"English\"}, {\"iso...\n",
      "1             [{\"iso_639_1\": \"en\", \"name\": \"English\"}]\n",
      "2    [{\"iso_639_1\": \"fr\", \"name\": \"Fran\\u00e7ais\"},...\n",
      "3             [{\"iso_639_1\": \"en\", \"name\": \"English\"}]\n",
      "4             [{\"iso_639_1\": \"en\", \"name\": \"English\"}]\n",
      "Name: spoken_languages, dtype: object\n",
      "\n",
      "Column: status\n",
      "0    Released\n",
      "1    Released\n",
      "2    Released\n",
      "3    Released\n",
      "4    Released\n",
      "Name: status, dtype: object\n",
      "\n",
      "Column: title_x\n",
      "0                                      Avatar\n",
      "1    Pirates of the Caribbean: At World's End\n",
      "2                                     Spectre\n",
      "3                       The Dark Knight Rises\n",
      "4                                 John Carter\n",
      "Name: title_x, dtype: object\n",
      "\n",
      "Column: title_y\n",
      "0                                      Avatar\n",
      "1    Pirates of the Caribbean: At World's End\n",
      "2                                     Spectre\n",
      "3                       The Dark Knight Rises\n",
      "4                                 John Carter\n",
      "Name: title_y, dtype: object\n",
      "\n",
      "Column: cast\n",
      "0    [{\"cast_id\": 242, \"character\": \"Jake Sully\", \"...\n",
      "1    [{\"cast_id\": 4, \"character\": \"Captain Jack Spa...\n",
      "2    [{\"cast_id\": 1, \"character\": \"James Bond\", \"cr...\n",
      "3    [{\"cast_id\": 2, \"character\": \"Bruce Wayne / Ba...\n",
      "4    [{\"cast_id\": 5, \"character\": \"John Carter\", \"c...\n",
      "Name: cast, dtype: object\n",
      "\n",
      "Column: crew\n",
      "0    [{\"credit_id\": \"52fe48009251416c750aca23\", \"de...\n",
      "1    [{\"credit_id\": \"52fe4232c3a36847f800b579\", \"de...\n",
      "2    [{\"credit_id\": \"54805967c3a36829b5002c41\", \"de...\n",
      "3    [{\"credit_id\": \"52fe4781c3a36847f81398c3\", \"de...\n",
      "4    [{\"credit_id\": \"52fe479ac3a36847f813eaa3\", \"de...\n",
      "Name: crew, dtype: object\n",
      "\n",
      "Column: main_actor_names\n",
      "0    [Sam Worthington, Zoe Saldana, Sigourney Weaver]\n",
      "1       [Johnny Depp, Orlando Bloom, Keira Knightley]\n",
      "2        [Daniel Craig, Christoph Waltz, Léa Seydoux]\n",
      "3        [Christian Bale, Michael Caine, Gary Oldman]\n",
      "4      [Taylor Kitsch, Lynn Collins, Samantha Morton]\n",
      "Name: main_actor_names, dtype: object\n",
      "\n",
      "Column: main_actor_genders\n",
      "0    [2, 1, 1]\n",
      "1    [2, 2, 1]\n",
      "2    [2, 2, 1]\n",
      "3    [2, 2, 2]\n",
      "4    [2, 1, 1]\n",
      "Name: main_actor_genders, dtype: object\n",
      "\n",
      "Column: directors\n",
      "0        [James Cameron]\n",
      "1       [Gore Verbinski]\n",
      "2           [Sam Mendes]\n",
      "3    [Christopher Nolan]\n",
      "4       [Andrew Stanton]\n",
      "Name: directors, dtype: object\n",
      "\n",
      "Column: writers\n",
      "0    [James Cameron]\n",
      "1          [Unknown]\n",
      "2          [Unknown]\n",
      "3          [Unknown]\n",
      "4          [Unknown]\n",
      "Name: writers, dtype: object\n",
      "\n",
      "Column: producers\n",
      "0                          [James Cameron, Jon Landau]\n",
      "1    [Jerry Bruckheimer, Eric McLeod, Chad Oman, Pe...\n",
      "2                [Barbara Broccoli, Michael G. Wilson]\n",
      "3      [Charles Roven, Christopher Nolan, Emma Thomas]\n",
      "4          [Colin Wilson, Jim Morris, Lindsey Collins]\n",
      "Name: producers, dtype: object\n"
     ]
    }
   ],
   "source": [
    "# Identify the categorical columns\n",
    "categorical_columns = cleaned_movies_df.select_dtypes(include=['object']).columns\n",
    "\n",
    "# Print the first 5 rows of each categorical column\n",
    "print(\"First 5 rows of categorical columns:\")\n",
    "for column in categorical_columns:\n",
    "    print(f\"\\nColumn: {column}\")\n",
    "    print(cleaned_movies_df[column].head())\n"
   ]
  },
  {
   "cell_type": "markdown",
   "metadata": {},
   "source": [
    "Quality of Data"
   ]
  },
  {
   "cell_type": "markdown",
   "metadata": {},
   "source": [
    "After the merge, we now have two <b>title</b> columns representing the same information, lets drop one."
   ]
  },
  {
   "cell_type": "code",
   "execution_count": 1369,
   "metadata": {},
   "outputs": [
    {
     "name": "stdout",
     "output_type": "stream",
     "text": [
      "Columns after dropping 'title_y':\n",
      "Index(['budget', 'genres', 'id', 'keywords', 'original_language',\n",
      "       'original_title', 'popularity', 'production_companies',\n",
      "       'production_countries', 'release_date', 'revenue', 'runtime',\n",
      "       'spoken_languages', 'status', 'title', 'vote_average', 'movie_id',\n",
      "       'cast', 'crew', 'main_actor_names', 'main_actor_genders', 'directors',\n",
      "       'writers', 'producers', 'crew_size', 'vote_count'],\n",
      "      dtype='object')\n"
     ]
    }
   ],
   "source": [
    "# Drop the duplicate title column (title_y)\n",
    "cleaned_movies_df = cleaned_movies_df.drop(columns=['title_y'])\n",
    "\n",
    "# Rename title_x to title\n",
    "cleaned_movies_df = cleaned_movies_df.rename(columns={'title_x': 'title'})\n",
    "\n",
    "# Confirm the change\n",
    "print(\"Columns after dropping 'title_y':\")\n",
    "print(cleaned_movies_df.columns)\n"
   ]
  },
  {
   "cell_type": "markdown",
   "metadata": {},
   "source": [
    "Since both `cast` and `crew` have been extracted as new fearures. we don't need to keep these two columns. Lets drop these."
   ]
  },
  {
   "cell_type": "code",
   "execution_count": 1370,
   "metadata": {},
   "outputs": [
    {
     "name": "stdout",
     "output_type": "stream",
     "text": [
      "Columns after dropping 'cast' and 'crew':\n",
      "Index(['budget', 'genres', 'id', 'keywords', 'original_language',\n",
      "       'original_title', 'popularity', 'production_companies',\n",
      "       'production_countries', 'release_date', 'revenue', 'runtime',\n",
      "       'spoken_languages', 'status', 'title', 'vote_average', 'movie_id',\n",
      "       'main_actor_names', 'main_actor_genders', 'directors', 'writers',\n",
      "       'producers', 'crew_size', 'vote_count'],\n",
      "      dtype='object')\n"
     ]
    }
   ],
   "source": [
    "# Drop cast, and crew columns\n",
    "cleaned_movies_df = cleaned_movies_df.drop(columns=['cast', 'crew'])\n",
    "\n",
    "# Confirm the change\n",
    "print(\"Columns after dropping 'cast' and 'crew':\")\n",
    "print(cleaned_movies_df.columns)"
   ]
  },
  {
   "cell_type": "markdown",
   "metadata": {},
   "source": [
    "We might be able to drop both `keywords`, and `original_title`. Lets inspect these further, and decide whether these should be dropped."
   ]
  },
  {
   "cell_type": "code",
   "execution_count": 1371,
   "metadata": {},
   "outputs": [
    {
     "name": "stdout",
     "output_type": "stream",
     "text": [
      "keywords\n",
      "[]                                                                                                                                                                                                                                                                                                                                                                                                                                                                                                                                                                                                                                                                                                   97\n",
      "[{\"id\": 10183, \"name\": \"independent film\"}]                                                                                                                                                                                                                                                                                                                                                                                                                                                                                                                                                                                                                                                          10\n",
      "[{\"id\": 179431, \"name\": \"duringcreditsstinger\"}]                                                                                                                                                                                                                                                                                                                                                                                                                                                                                                                                                                                                                                                      9\n",
      "[{\"id\": 6075, \"name\": \"sport\"}]                                                                                                                                                                                                                                                                                                                                                                                                                                                                                                                                                                                                                                                                       6\n",
      "[{\"id\": 187056, \"name\": \"woman director\"}]                                                                                                                                                                                                                                                                                                                                                                                                                                                                                                                                                                                                                                                            5\n",
      "                                                                                                                                                                                                                                                                                                                                                                                                                                                                                                                                                                                                                                                                                                     ..\n",
      "[{\"id\": 603, \"name\": \"elves\"}, {\"id\": 604, \"name\": \"dwarves\"}, {\"id\": 606, \"name\": \"orcs\"}, {\"id\": 611, \"name\": \"hobbit\"}, {\"id\": 12554, \"name\": \"dragon\"}, {\"id\": 177912, \"name\": \"wizard\"}, {\"id\": 234213, \"name\": \"sword and sorcery\"}]                                                                                                                                                                                                                                                                                                                                                                                                                                                            1\n",
      "[{\"id\": 392, \"name\": \"england\"}, {\"id\": 1461, \"name\": \"compass\"}, {\"id\": 1706, \"name\": \"experiment\"}, {\"id\": 2596, \"name\": \"lordship\"}, {\"id\": 6464, \"name\": \"uncle\"}, {\"id\": 6678, \"name\": \"polar bear\"}, {\"id\": 13014, \"name\": \"orphan\"}, {\"id\": 18165, \"name\": \"animal\"}, {\"id\": 223438, \"name\": \"based on young adult novel\"}]                                                                                                                                                                                                                                                                                                                                                                    1\n",
      "[{\"id\": 774, \"name\": \"film business\"}, {\"id\": 776, \"name\": \"screenplay\"}, {\"id\": 837, \"name\": \"show business\"}, {\"id\": 886, \"name\": \"film making\"}, {\"id\": 887, \"name\": \"film producer\"}, {\"id\": 911, \"name\": \"exotic island\"}, {\"id\": 1299, \"name\": \"monster\"}, {\"id\": 1551, \"name\": \"indigenous\"}, {\"id\": 3799, \"name\": \"ship\"}, {\"id\": 12616, \"name\": \"dinosaur\"}]                                                                                                                                                                                                                                                                                                                                 1\n",
      "[{\"id\": 2580, \"name\": \"shipwreck\"}, {\"id\": 2984, \"name\": \"iceberg\"}, {\"id\": 3799, \"name\": \"ship\"}, {\"id\": 4210, \"name\": \"panic\"}, {\"id\": 4388, \"name\": \"titanic\"}, {\"id\": 4953, \"name\": \"ocean liner\"}, {\"id\": 6917, \"name\": \"epic\"}, {\"id\": 7579, \"name\": \"rich woman - poor man\"}, {\"id\": 9673, \"name\": \"love\"}, {\"id\": 10617, \"name\": \"disaster\"}, {\"id\": 10703, \"name\": \"tragic love\"}, {\"id\": 14514, \"name\": \"class differences\"}, {\"id\": 156395, \"name\": \"imax\"}, {\"id\": 165086, \"name\": \"star crossed lovers\"}, {\"id\": 182615, \"name\": \"steerage\"}, {\"id\": 182621, \"name\": \"salvage\"}, {\"id\": 182625, \"name\": \"rich snob\"}, {\"id\": 209714, \"name\": \"3d\"}, {\"id\": 210184, \"name\": \"1910s\"}]     1\n",
      "[{\"id\": 572, \"name\": \"sex\"}, {\"id\": 596, \"name\": \"adultery\"}, {\"id\": 931, \"name\": \"jealousy\"}, {\"id\": 2483, \"name\": \"nudity\"}, {\"id\": 3182, \"name\": \"seduction\"}, {\"id\": 6318, \"name\": \"control\"}, {\"id\": 9468, \"name\": \"liar\"}, {\"id\": 12396, \"name\": \"hollywood\"}, {\"id\": 13073, \"name\": \"fear\"}, {\"id\": 155262, \"name\": \"threesome\"}, {\"id\": 156279, \"name\": \"possessiveness\"}, {\"id\": 157154, \"name\": \"psychotherapy\"}, {\"id\": 166329, \"name\": \"film industry\"}, {\"id\": 207899, \"name\": \"snooping\"}, {\"id\": 226106, \"name\": \"mind games\"}, {\"id\": 229299, \"name\": \"affair\"}, {\"id\": 233082, \"name\": \"trust fund baby\"}]                                                                           1\n",
      "Name: count, Length: 3099, dtype: int64\n"
     ]
    }
   ],
   "source": [
    "print(cleaned_movies_df['keywords'].value_counts())"
   ]
  },
  {
   "cell_type": "markdown",
   "metadata": {},
   "source": [
    "`keywords` column seems to contain metadata related to the movies. Upon further inspecting this column, it does not contain anything valuable as we already have the required metadata in other columns. We can safely drop it."
   ]
  },
  {
   "cell_type": "code",
   "execution_count": 1372,
   "metadata": {},
   "outputs": [],
   "source": [
    "# We can drop the keywords and column as it is not useful for our analysis\n",
    "cleaned_movies_df = cleaned_movies_df.drop(columns=['keywords'])"
   ]
  },
  {
   "cell_type": "markdown",
   "metadata": {},
   "source": [
    "Now lets see how many movies contain English as orignal language ? It might help narrow our approach to just english since our secondary dataset contains talk shows that are only in English."
   ]
  },
  {
   "cell_type": "code",
   "execution_count": 1373,
   "metadata": {},
   "outputs": [
    {
     "name": "stdout",
     "output_type": "stream",
     "text": [
      "original_language\n",
      "en    3102\n",
      "fr      25\n",
      "es      15\n",
      "ja      13\n",
      "zh      13\n",
      "de       9\n",
      "hi       7\n",
      "it       6\n",
      "ru       6\n",
      "cn       5\n",
      "ko       5\n",
      "da       4\n",
      "pt       2\n",
      "th       2\n",
      "nl       2\n",
      "id       2\n",
      "te       1\n",
      "is       1\n",
      "xx       1\n",
      "nb       1\n",
      "af       1\n",
      "he       1\n",
      "pl       1\n",
      "vi       1\n",
      "ro       1\n",
      "no       1\n",
      "fa       1\n",
      "Name: count, dtype: int64\n"
     ]
    }
   ],
   "source": [
    "print(cleaned_movies_df['original_language'].value_counts())\n",
    "\n"
   ]
  },
  {
   "cell_type": "markdown",
   "metadata": {},
   "source": [
    "Majority of our data contains English as orignal language. We have decided to drop the rows for the rest, as this helps narrow our approach to English origin films."
   ]
  },
  {
   "cell_type": "code",
   "execution_count": 1374,
   "metadata": {},
   "outputs": [
    {
     "name": "stdout",
     "output_type": "stream",
     "text": [
      "original_language\n",
      "en    3102\n",
      "Name: count, dtype: int64\n"
     ]
    }
   ],
   "source": [
    "# Remove non-English movies by keeping rows where 'original_language' is 'en'\n",
    "cleaned_movies_df = cleaned_movies_df[cleaned_movies_df['original_language'] == 'en']\n",
    "\n",
    "print(cleaned_movies_df['original_language'].value_counts())\n",
    "\n",
    "# Lets now rename orignal_language to language\n",
    "cleaned_movies_df = cleaned_movies_df.rename(columns={'original_language': 'language'})\n"
   ]
  },
  {
   "cell_type": "markdown",
   "metadata": {},
   "source": [
    "Since we are focusing solely on English-origin films and do not need additional insights into translations or original names. Lets drop `original_title` as we can get the same data from `title`."
   ]
  },
  {
   "cell_type": "code",
   "execution_count": 1375,
   "metadata": {},
   "outputs": [],
   "source": [
    "cleaned_movies_df = cleaned_movies_df.drop(columns=['original_title'])"
   ]
  },
  {
   "cell_type": "markdown",
   "metadata": {},
   "source": [
    "Lets look at Unique values in genres"
   ]
  },
  {
   "cell_type": "code",
   "execution_count": 1376,
   "metadata": {},
   "outputs": [
    {
     "name": "stdout",
     "output_type": "stream",
     "text": [
      "Unique values in genres:\n",
      " ['[{\"id\": 28, \"name\": \"Action\"}, {\"id\": 12, \"name\": \"Adventure\"}, {\"id\": 14, \"name\": \"Fantasy\"}, {\"id\": 878, \"name\": \"Science Fiction\"}]'\n",
      " '[{\"id\": 12, \"name\": \"Adventure\"}, {\"id\": 14, \"name\": \"Fantasy\"}, {\"id\": 28, \"name\": \"Action\"}]'\n",
      " '[{\"id\": 28, \"name\": \"Action\"}, {\"id\": 12, \"name\": \"Adventure\"}, {\"id\": 80, \"name\": \"Crime\"}]'\n",
      " '[{\"id\": 28, \"name\": \"Action\"}, {\"id\": 80, \"name\": \"Crime\"}, {\"id\": 18, \"name\": \"Drama\"}, {\"id\": 53, \"name\": \"Thriller\"}]'\n",
      " '[{\"id\": 28, \"name\": \"Action\"}, {\"id\": 12, \"name\": \"Adventure\"}, {\"id\": 878, \"name\": \"Science Fiction\"}]'\n",
      " '[{\"id\": 14, \"name\": \"Fantasy\"}, {\"id\": 28, \"name\": \"Action\"}, {\"id\": 12, \"name\": \"Adventure\"}]'\n",
      " '[{\"id\": 16, \"name\": \"Animation\"}, {\"id\": 10751, \"name\": \"Family\"}]'\n",
      " '[{\"id\": 12, \"name\": \"Adventure\"}, {\"id\": 14, \"name\": \"Fantasy\"}, {\"id\": 10751, \"name\": \"Family\"}]'\n",
      " '[{\"id\": 28, \"name\": \"Action\"}, {\"id\": 12, \"name\": \"Adventure\"}, {\"id\": 14, \"name\": \"Fantasy\"}]'\n",
      " '[{\"id\": 12, \"name\": \"Adventure\"}, {\"id\": 14, \"name\": \"Fantasy\"}, {\"id\": 28, \"name\": \"Action\"}, {\"id\": 878, \"name\": \"Science Fiction\"}]'\n",
      " '[{\"id\": 12, \"name\": \"Adventure\"}, {\"id\": 28, \"name\": \"Action\"}, {\"id\": 53, \"name\": \"Thriller\"}, {\"id\": 80, \"name\": \"Crime\"}]'\n",
      " '[{\"id\": 28, \"name\": \"Action\"}, {\"id\": 12, \"name\": \"Adventure\"}, {\"id\": 37, \"name\": \"Western\"}]'\n",
      " '[{\"id\": 12, \"name\": \"Adventure\"}, {\"id\": 10751, \"name\": \"Family\"}, {\"id\": 14, \"name\": \"Fantasy\"}]'\n",
      " '[{\"id\": 878, \"name\": \"Science Fiction\"}, {\"id\": 28, \"name\": \"Action\"}, {\"id\": 12, \"name\": \"Adventure\"}]'\n",
      " '[{\"id\": 12, \"name\": \"Adventure\"}, {\"id\": 28, \"name\": \"Action\"}, {\"id\": 14, \"name\": \"Fantasy\"}]']\n"
     ]
    }
   ],
   "source": [
    "print(\"Unique values in genres:\\n\", cleaned_movies_df['genres'].unique()[:15])"
   ]
  },
  {
   "cell_type": "markdown",
   "metadata": {},
   "source": [
    "- Column contains JSON-like string containing lists of dictionaries, which indicates it needs parsing to extract useful information. We have decided that we will extract the Genre ex: `Action`, etc. We will create a new column with the extracted information, and finally drop the orignal genres column as it will no longer be relevant."
   ]
  },
  {
   "cell_type": "code",
   "execution_count": 1377,
   "metadata": {},
   "outputs": [
    {
     "name": "stdout",
     "output_type": "stream",
     "text": [
      "Parsed 'genres' column results:\n",
      "       id                                             genres  \\\n",
      "0   19995  [{\"id\": 28, \"name\": \"Action\"}, {\"id\": 12, \"nam...   \n",
      "1     285  [{\"id\": 12, \"name\": \"Adventure\"}, {\"id\": 14, \"...   \n",
      "2  206647  [{\"id\": 28, \"name\": \"Action\"}, {\"id\": 12, \"nam...   \n",
      "3   49026  [{\"id\": 28, \"name\": \"Action\"}, {\"id\": 80, \"nam...   \n",
      "4   49529  [{\"id\": 28, \"name\": \"Action\"}, {\"id\": 12, \"nam...   \n",
      "\n",
      "                                   parsed_genres  \n",
      "0  [Action, Adventure, Fantasy, Science Fiction]  \n",
      "1                   [Adventure, Fantasy, Action]  \n",
      "2                     [Action, Adventure, Crime]  \n",
      "3               [Action, Crime, Drama, Thriller]  \n",
      "4           [Action, Adventure, Science Fiction]  \n"
     ]
    }
   ],
   "source": [
    "import ast\n",
    "\n",
    "def parse_genres(genres_str):\n",
    "\n",
    "    try:\n",
    "        genres_list = ast.literal_eval(genres_str)\n",
    "        return [genre['name'] for genre in genres_list]\n",
    "    except (ValueError, SyntaxError):\n",
    "        return []\n",
    "\n",
    "cleaned_movies_df['parsed_genres'] = cleaned_movies_df['genres'].apply(parse_genres)\n",
    "\n",
    "# Lets verify that it worked, before we drop the original column\n",
    "print(\"Parsed 'genres' column results:\")\n",
    "print(cleaned_movies_df[['id', 'genres', 'parsed_genres']].head())\n"
   ]
  },
  {
   "cell_type": "code",
   "execution_count": 1378,
   "metadata": {},
   "outputs": [
    {
     "name": "stdout",
     "output_type": "stream",
     "text": [
      "Columns after dropping 'genres':\n",
      "Index(['budget', 'id', 'language', 'popularity', 'production_companies',\n",
      "       'production_countries', 'release_date', 'revenue', 'runtime',\n",
      "       'spoken_languages', 'status', 'title', 'vote_average', 'movie_id',\n",
      "       'main_actor_names', 'main_actor_genders', 'directors', 'writers',\n",
      "       'producers', 'crew_size', 'vote_count', 'parsed_genres'],\n",
      "      dtype='object')\n"
     ]
    }
   ],
   "source": [
    "# Lets drop the original column\n",
    "cleaned_movies_df = cleaned_movies_df.drop(columns=['genres'])\n",
    "\n",
    "# confirm the column has been dropped\n",
    "print(\"Columns after dropping 'genres':\")\n",
    "print(cleaned_movies_df.columns)\n"
   ]
  },
  {
   "cell_type": "markdown",
   "metadata": {},
   "source": [
    "The parsed_genres column contains lists of genres for each movie, a single movie can contain multiple genres. However, we need to process it further to make it more useful for analysis and modeling as machine learning models can not directly process lists."
   ]
  },
  {
   "cell_type": "markdown",
   "metadata": {},
   "source": [
    "We decided to proceed with One-Hot encoding which would create separate columns for each unique genre.\n",
    "A value of `1` indicates the movie belongs to that genre."
   ]
  },
  {
   "cell_type": "code",
   "execution_count": 1379,
   "metadata": {},
   "outputs": [
    {
     "name": "stdout",
     "output_type": "stream",
     "text": [
      "                                      title  \\\n",
      "0                                    Avatar   \n",
      "1  Pirates of the Caribbean: At World's End   \n",
      "2                                   Spectre   \n",
      "3                     The Dark Knight Rises   \n",
      "4                               John Carter   \n",
      "\n",
      "                                   parsed_genres  Action  Adventure  \\\n",
      "0  [Action, Adventure, Fantasy, Science Fiction]       1          1   \n",
      "1                   [Adventure, Fantasy, Action]       1          1   \n",
      "2                     [Action, Adventure, Crime]       1          1   \n",
      "3               [Action, Crime, Drama, Thriller]       1          0   \n",
      "4           [Action, Adventure, Science Fiction]       1          1   \n",
      "\n",
      "   Animation  Comedy  Crime  Documentary  Drama  Family  ...  Foreign  \\\n",
      "0          0       0      0            0      0       0  ...        0   \n",
      "1          0       0      0            0      0       0  ...        0   \n",
      "2          0       0      1            0      0       0  ...        0   \n",
      "3          0       0      1            0      1       0  ...        0   \n",
      "4          0       0      0            0      0       0  ...        0   \n",
      "\n",
      "   History  Horror  Music  Mystery  Romance  Science Fiction  Thriller  War  \\\n",
      "0        0       0      0        0        0                1         0    0   \n",
      "1        0       0      0        0        0                0         0    0   \n",
      "2        0       0      0        0        0                0         0    0   \n",
      "3        0       0      0        0        0                0         1    0   \n",
      "4        0       0      0        0        0                1         0    0   \n",
      "\n",
      "   Western  \n",
      "0        0  \n",
      "1        0  \n",
      "2        0  \n",
      "3        0  \n",
      "4        0  \n",
      "\n",
      "[5 rows x 21 columns]\n"
     ]
    }
   ],
   "source": [
    "from sklearn.preprocessing import MultiLabelBinarizer\n",
    "import pandas as pd\n",
    "\n",
    "mlb = MultiLabelBinarizer()\n",
    "\n",
    "# Apply one-hot encoding to the parsed_genres column\n",
    "genres_one_hot = pd.DataFrame(mlb.fit_transform(cleaned_movies_df['parsed_genres']),\n",
    "                              columns=mlb.classes_,\n",
    "                              index=cleaned_movies_df.index)\n",
    "\n",
    "# Concatenate the one-hot encoded genres back to the original DataFrame\n",
    "cleaned_movies_df = pd.concat([cleaned_movies_df, genres_one_hot], axis=1)\n",
    "\n",
    "# Verify by including the movie title alongside parsed_genres and one-hot encoded genres\n",
    "columns_to_display = ['title', 'parsed_genres'] + list(genres_one_hot.columns)\n",
    "\n",
    "# Display the first few rows\n",
    "print(cleaned_movies_df[columns_to_display].head())\n"
   ]
  },
  {
   "cell_type": "code",
   "execution_count": 1380,
   "metadata": {},
   "outputs": [
    {
     "name": "stdout",
     "output_type": "stream",
     "text": [
      "Columns after dropping 'parsed_genres':\n",
      "Index(['budget', 'id', 'language', 'popularity', 'production_companies',\n",
      "       'production_countries', 'release_date', 'revenue', 'runtime',\n",
      "       'spoken_languages', 'status', 'title', 'vote_average', 'movie_id',\n",
      "       'main_actor_names', 'main_actor_genders', 'directors', 'writers',\n",
      "       'producers', 'crew_size', 'vote_count', 'Action', 'Adventure',\n",
      "       'Animation', 'Comedy', 'Crime', 'Documentary', 'Drama', 'Family',\n",
      "       'Fantasy', 'Foreign', 'History', 'Horror', 'Music', 'Mystery',\n",
      "       'Romance', 'Science Fiction', 'Thriller', 'War', 'Western'],\n",
      "      dtype='object')\n"
     ]
    }
   ],
   "source": [
    "# Drop the parsed_genres column\n",
    "cleaned_movies_df = cleaned_movies_df.drop(columns=['parsed_genres'])\n",
    "\n",
    "# Verify that the column has been dropped\n",
    "print(\"Columns after dropping 'parsed_genres':\")\n",
    "print(cleaned_movies_df.columns)"
   ]
  },
  {
   "cell_type": "markdown",
   "metadata": {},
   "source": [
    " `production_companies` column."
   ]
  },
  {
   "cell_type": "code",
   "execution_count": 1381,
   "metadata": {},
   "outputs": [
    {
     "name": "stdout",
     "output_type": "stream",
     "text": [
      "First 5 rows of 'production_companies':\n",
      "0    [{\"name\": \"Ingenious Film Partners\", \"id\": 289...\n",
      "1    [{\"name\": \"Walt Disney Pictures\", \"id\": 2}, {\"...\n",
      "2    [{\"name\": \"Columbia Pictures\", \"id\": 5}, {\"nam...\n",
      "3    [{\"name\": \"Legendary Pictures\", \"id\": 923}, {\"...\n",
      "4          [{\"name\": \"Walt Disney Pictures\", \"id\": 2}]\n",
      "Name: production_companies, dtype: object\n"
     ]
    }
   ],
   "source": [
    "# Explore the structure of the 'production_companies' column\n",
    "print(\"First 5 rows of 'production_companies':\")\n",
    "print(cleaned_movies_df['production_companies'].head())"
   ]
  },
  {
   "cell_type": "markdown",
   "metadata": {},
   "source": [
    "It contains JSON-like strings with lists of company names. \n",
    "\n",
    "This means we need to parse the strings to extract the `name` of the production companies."
   ]
  },
  {
   "cell_type": "code",
   "execution_count": 1382,
   "metadata": {},
   "outputs": [],
   "source": [
    "# Function to parse JSON-like strings and extract production company names\n",
    "def parse_production_companies(companies_str):\n",
    "    try:\n",
    "        companies_list = ast.literal_eval(companies_str)  # Safely evaluate the string to a list of dictionaries\n",
    "        return [company['name'] for company in companies_list]  # Extract the 'name' of each company\n",
    "    except (ValueError, SyntaxError):\n",
    "        return []  # Return an empty list if parsing fails\n",
    "    \n",
    "\n",
    "# Apply the function to parse production companies\n",
    "cleaned_movies_df['parsed_production_companies'] = cleaned_movies_df['production_companies'].apply(parse_production_companies)"
   ]
  },
  {
   "cell_type": "code",
   "execution_count": 1383,
   "metadata": {},
   "outputs": [
    {
     "name": "stdout",
     "output_type": "stream",
     "text": [
      "0    [Ingenious Film Partners, Twentieth Century Fo...\n",
      "1    [Walt Disney Pictures, Jerry Bruckheimer Films...\n",
      "2                     [Columbia Pictures, Danjaq, B24]\n",
      "3    [Legendary Pictures, Warner Bros., DC Entertai...\n",
      "4                               [Walt Disney Pictures]\n",
      "Name: parsed_production_companies, dtype: object\n"
     ]
    }
   ],
   "source": [
    "# print the first 5 rows of the production_companies column\n",
    "print(cleaned_movies_df['parsed_production_companies'].head())\n",
    "\n",
    "# Drop the original column\n",
    "cleaned_movies_df = cleaned_movies_df.drop(columns=['production_companies'])"
   ]
  },
  {
   "cell_type": "markdown",
   "metadata": {},
   "source": [
    "It seems that a single movie might involves multiple production companies collaborating.\n",
    "\n",
    "Having multiple companies may correlate with higher budgets or better distribution networks, potentially impacting `revenue`."
   ]
  },
  {
   "cell_type": "markdown",
   "metadata": {},
   "source": [
    "Let's see how many unique companies are, and how frequently they appear so we can figure out an approach to deal with this."
   ]
  },
  {
   "cell_type": "code",
   "execution_count": 1384,
   "metadata": {},
   "outputs": [
    {
     "name": "stdout",
     "output_type": "stream",
     "text": [
      "Top 20 production companies by frequency:\n",
      "                                    Company  Frequency\n",
      "11                             Warner Bros.        280\n",
      "52                       Universal Pictures        272\n",
      "38                       Paramount Pictures        242\n",
      "1    Twentieth Century Fox Film Corporation        199\n",
      "7                         Columbia Pictures        164\n",
      "46                          New Line Cinema        141\n",
      "54                         Relativity Media        100\n",
      "4                      Walt Disney Pictures         96\n",
      "191                     Touchstone Pictures         93\n",
      "49                Metro-Goldwyn-Mayer (MGM)         92\n",
      "248           Columbia Pictures Corporation         86\n",
      "112               Village Roadshow Pictures         73\n",
      "80                           DreamWorks SKG         67\n",
      "371                           Miramax Films         66\n",
      "507                          United Artists         62\n",
      "287                     Regency Enterprises         58\n",
      "2                        Dune Entertainment         54\n",
      "317                        TriStar Pictures         50\n",
      "177                               Lionsgate         49\n",
      "258                    Summit Entertainment         48\n",
      "\n",
      "Number of companies that appear only once: 2201\n"
     ]
    }
   ],
   "source": [
    "from collections import Counter\n",
    "\n",
    "# Flatten the list of production companies and count their occurrences\n",
    "all_companies = [company for sublist in cleaned_movies_df['parsed_production_companies'] for company in sublist]\n",
    "company_counts = Counter(all_companies)\n",
    "\n",
    "# Convert to a DataFrame for easier analysis\n",
    "company_counts_df = pd.DataFrame(company_counts.items(), columns=['Company', 'Frequency']).sort_values(by='Frequency', ascending=False)\n",
    "\n",
    "# Display the top 20 production companies\n",
    "print(\"Top 20 production companies by frequency:\")\n",
    "print(company_counts_df.head(20))\n",
    "\n",
    "# Check how many companies occur only once\n",
    "single_occurrence_count = (company_counts_df['Frequency'] == 1).sum()\n",
    "print(f\"\\nNumber of companies that appear only once: {single_occurrence_count}\")\n"
   ]
  },
  {
   "cell_type": "markdown",
   "metadata": {},
   "source": [
    "The top 5 companies `Warner Bros`,  `Universal Pictures`, `Paramount Pictures`, `Twentieth Century Fox Film Corporation`, and `Columbia Pictures` appear most frequently across movies.\n",
    "These companies likely have a significant impact on both movie budgets and revenues.\n",
    "\n",
    "Approach:\n",
    "One-Hot Encode the most frequent (Top -7 ) and rest in two column approach. Intitally the plan was to create columns for the top 20 companies and then creating a binary column for each of these companies to indicate their involvement in a movie, and rest in the other column. But we decided to go with the two column approach given that after the top 7, the frequency significantly reduces and it will also help reduce feature bloat caused by too many binary columns. \n",
    "\n",
    "The plan is as follows:\n",
    "- Extract the top 7 companies by frequency \n",
    "- Create two binary columns indicating the presence of these companies in each movie `Top Companies` and `Other`"
   ]
  },
  {
   "cell_type": "code",
   "execution_count": 1385,
   "metadata": {},
   "outputs": [
    {
     "name": "stdout",
     "output_type": "stream",
     "text": [
      "                                      title  \\\n",
      "0                                    Avatar   \n",
      "1  Pirates of the Caribbean: At World's End   \n",
      "2                                   Spectre   \n",
      "3                     The Dark Knight Rises   \n",
      "4                               John Carter   \n",
      "\n",
      "                         parsed_production_companies  Top_Companies  \\\n",
      "0  [Ingenious Film Partners, Twentieth Century Fo...              1   \n",
      "1  [Walt Disney Pictures, Jerry Bruckheimer Films...              0   \n",
      "2                   [Columbia Pictures, Danjaq, B24]              1   \n",
      "3  [Legendary Pictures, Warner Bros., DC Entertai...              1   \n",
      "4                             [Walt Disney Pictures]              0   \n",
      "\n",
      "   Other_Companies  \n",
      "0                1  \n",
      "1                1  \n",
      "2                1  \n",
      "3                1  \n",
      "4                1  \n"
     ]
    }
   ],
   "source": [
    "# Define the top 7 companies by frequency\n",
    "top_7_companies = company_counts_df.head(7)['Company'].tolist()\n",
    "\n",
    "# Create the 'Top_Companies' column\n",
    "cleaned_movies_df['Top_Companies'] = cleaned_movies_df['parsed_production_companies'].apply(\n",
    "    lambda x: 1 if any(company in top_7_companies for company in x) else 0\n",
    ")\n",
    "\n",
    "# Create the 'Other_Companies' column\n",
    "cleaned_movies_df['Other_Companies'] = cleaned_movies_df['parsed_production_companies'].apply(\n",
    "    lambda x: 1 if any(company not in top_7_companies for company in x) else 0\n",
    ")\n",
    "\n",
    "# Verify the new columns\n",
    "columns_to_display = ['title', 'parsed_production_companies', 'Top_Companies', 'Other_Companies']\n",
    "print(cleaned_movies_df[columns_to_display].head())"
   ]
  },
  {
   "cell_type": "code",
   "execution_count": 1386,
   "metadata": {},
   "outputs": [],
   "source": [
    "# Drop the parsed_production_companies column\n",
    "cleaned_movies_df = cleaned_movies_df.drop(columns=['parsed_production_companies'])"
   ]
  },
  {
   "cell_type": "markdown",
   "metadata": {},
   "source": [
    "Lets move on to the `production_countries`\n",
    "\n",
    "Certain countries like the US may dominate movie production.<br>\n",
    "Movie production in certain countries like Canada can have an impact on the movie budget as certain countries offer Tax incentives, and lower production costs. "
   ]
  },
  {
   "cell_type": "code",
   "execution_count": 1387,
   "metadata": {},
   "outputs": [
    {
     "name": "stdout",
     "output_type": "stream",
     "text": [
      "First 5 rows of 'production_countries':\n",
      "0    [{\"iso_3166_1\": \"US\", \"name\": \"United States o...\n",
      "1    [{\"iso_3166_1\": \"US\", \"name\": \"United States o...\n",
      "2    [{\"iso_3166_1\": \"GB\", \"name\": \"United Kingdom\"...\n",
      "3    [{\"iso_3166_1\": \"US\", \"name\": \"United States o...\n",
      "4    [{\"iso_3166_1\": \"US\", \"name\": \"United States o...\n",
      "Name: production_countries, dtype: object\n",
      "\n",
      "Number of unique entries in 'production_countries': 273\n"
     ]
    }
   ],
   "source": [
    "# Inspect the first 5 rows of 'production_countries'\n",
    "print(\"First 5 rows of 'production_countries':\")\n",
    "print(cleaned_movies_df['production_countries'].head())\n",
    "\n",
    "# Analyze unique values in the column\n",
    "unique_countries = cleaned_movies_df['production_countries'].unique()\n",
    "print(\"\\nNumber of unique entries in 'production_countries':\", len(unique_countries))"
   ]
  },
  {
   "cell_type": "markdown",
   "metadata": {},
   "source": [
    "- The column also requires parsing to extract the name field\n",
    "- 273 unique entries indicate a significant variety, but it's likely dominated by a few frequent countries like US\n",
    "    - After parsing, lets count how often each country appears to identify the most frequent ones."
   ]
  },
  {
   "cell_type": "code",
   "execution_count": 1388,
   "metadata": {},
   "outputs": [
    {
     "name": "stdout",
     "output_type": "stream",
     "text": [
      "Parsed 'production_countries' column results:\n",
      "                                production_countries  \\\n",
      "0  [{\"iso_3166_1\": \"US\", \"name\": \"United States o...   \n",
      "1  [{\"iso_3166_1\": \"US\", \"name\": \"United States o...   \n",
      "2  [{\"iso_3166_1\": \"GB\", \"name\": \"United Kingdom\"...   \n",
      "3  [{\"iso_3166_1\": \"US\", \"name\": \"United States o...   \n",
      "4  [{\"iso_3166_1\": \"US\", \"name\": \"United States o...   \n",
      "\n",
      "  parsed_production_countries  \n",
      "0                    [US, GB]  \n",
      "1                        [US]  \n",
      "2                    [GB, US]  \n",
      "3                        [US]  \n",
      "4                        [US]  \n"
     ]
    }
   ],
   "source": [
    "# Parse the Column\n",
    "\n",
    "# Function to parse JSON-like strings and extract country codes\n",
    "def parse_countries(countries_str):\n",
    "    try:\n",
    "        countries_list = ast.literal_eval(countries_str)  # Safely evaluate the string to a list of dictionaries\n",
    "        return [country['iso_3166_1'] for country in countries_list]  # Extract the 'name' of each country\n",
    "    except (ValueError, SyntaxError):\n",
    "        return []  # Return an empty list if parsing fails\n",
    "\n",
    "# Apply the function to parse production countries\n",
    "cleaned_movies_df['parsed_production_countries'] = cleaned_movies_df['production_countries'].apply(parse_countries)\n",
    "\n",
    "# Verify the parsed results\n",
    "print(\"Parsed 'production_countries' column results:\")\n",
    "print(cleaned_movies_df[['production_countries', 'parsed_production_countries']].head())\n"
   ]
  },
  {
   "cell_type": "markdown",
   "metadata": {},
   "source": [
    "It appears that a movie could be producted in more than a single country. Lets now look at the frequency."
   ]
  },
  {
   "cell_type": "code",
   "execution_count": 1389,
   "metadata": {},
   "outputs": [
    {
     "name": "stdout",
     "output_type": "stream",
     "text": [
      "\n",
      "Number of countries that appear only once: 13\n"
     ]
    },
    {
     "data": {
      "image/png": "[encoded data removed]",
      "text/plain": [
       "<Figure size 1200x600 with 1 Axes>"
      ]
     },
     "metadata": {},
     "output_type": "display_data"
    }
   ],
   "source": [
    "import matplotlib.pyplot as plt\n",
    "\n",
    "# Flatten the list of country codes and count occurrences\n",
    "all_countries = [country for sublist in cleaned_movies_df['parsed_production_countries'] for country in sublist]\n",
    "country_counts = Counter(all_countries)\n",
    "\n",
    "# Convert to a DataFrame for easier analysis\n",
    "country_counts_df = pd.DataFrame(country_counts.items(), columns=['Country', 'Frequency']).sort_values(by='Frequency', ascending=False)\n",
    "\n",
    "# Check how many countries occur only once\n",
    "single_occurrence_count = (country_counts_df['Frequency'] == 1).sum()\n",
    "print(f\"\\nNumber of countries that appear only once: {single_occurrence_count}\")\n",
    "\n",
    "# Plot the top 20 countries by frequency\n",
    "plt.figure(figsize=(12, 6))\n",
    "plt.bar(country_counts_df['Country'][:20], country_counts_df['Frequency'][:20], alpha=0.8)\n",
    "plt.title('Number of Movies Produced per Country (Top 20)', fontsize=14)\n",
    "plt.xlabel('Country', fontsize=12)\n",
    "plt.ylabel('Number of Movies', fontsize=12)\n",
    "plt.xticks(rotation=45, ha='right', fontsize=10)\n",
    "plt.tight_layout()\n",
    "plt.show()"
   ]
  },
  {
   "cell_type": "markdown",
   "metadata": {},
   "source": [
    "Observation: \n",
    "- US appears in 2892 movies, making it the most dominant production country.\n",
    "- Countries like the UK, Germany, France, and Canada have significant representation but are far behind the US.\n",
    "- Only 13 appear once, indicating minimal influence.\n",
    "\n"
   ]
  },
  {
   "cell_type": "markdown",
   "metadata": {},
   "source": [
    "The dominance of US is likely correlated with other features like budget, popularity, or revenue. Lets explore that further with **Correlation Analysis**"
   ]
  },
  {
   "cell_type": "code",
   "execution_count": 1390,
   "metadata": {},
   "outputs": [
    {
     "name": "stdout",
     "output_type": "stream",
     "text": [
      "Correlation of 'is_US' with key features:\n",
      "is_US         1.000000\n",
      "budget        0.134798\n",
      "popularity    0.073939\n",
      "revenue       0.110020\n",
      "Name: is_US, dtype: float64\n"
     ]
    }
   ],
   "source": [
    "# Create a binary column for 'is_US'\n",
    "cleaned_movies_df['is_US'] = cleaned_movies_df['parsed_production_countries'].apply(lambda x: 1 if 'US' in x else 0)\n",
    "\n",
    "# Check correlations with numerical features\n",
    "correlation_with_us = cleaned_movies_df[['is_US', 'budget', 'popularity', 'revenue']].corr()\n",
    "print(\"Correlation of 'is_US' with key features:\")\n",
    "print(correlation_with_us['is_US'])\n"
   ]
  },
  {
   "cell_type": "markdown",
   "metadata": {},
   "source": [
    "The correlation is low but since US is overwhelmingly dominant here. We currently have 3102 rows, out of which 2892 movies were produced in United States (93%). Given this, the feature has little variability.\n",
    "\n",
    "Since there are movies proced in multiple countries. We have decided to **create a feature representing the number of production countries** instead, as it indicates international collaborations, which could influence revenue. "
   ]
  },
  {
   "cell_type": "code",
   "execution_count": 1391,
   "metadata": {},
   "outputs": [
    {
     "name": "stdout",
     "output_type": "stream",
     "text": [
      "First 5 rows with 'num_production_countries':\n",
      "                                      title parsed_production_countries  \\\n",
      "0                                    Avatar                    [US, GB]   \n",
      "1  Pirates of the Caribbean: At World's End                        [US]   \n",
      "2                                   Spectre                    [GB, US]   \n",
      "3                     The Dark Knight Rises                        [US]   \n",
      "4                               John Carter                        [US]   \n",
      "\n",
      "   num_production_countries  \n",
      "0                         2  \n",
      "1                         1  \n",
      "2                         2  \n",
      "3                         1  \n",
      "4                         1  \n",
      "\n",
      "Distribution of 'num_production_countries':\n",
      "num_production_countries\n",
      "1     2256\n",
      "2      582\n",
      "3      170\n",
      "4       64\n",
      "0       14\n",
      "5       12\n",
      "6        2\n",
      "12       1\n",
      "8        1\n",
      "Name: count, dtype: int64\n"
     ]
    }
   ],
   "source": [
    "# Create a feature representing the number of production countries for each movie\n",
    "cleaned_movies_df['num_production_countries'] = cleaned_movies_df['parsed_production_countries'].apply(len)\n",
    "\n",
    "# Verify the new feature\n",
    "print(\"First 5 rows with 'num_production_countries':\")\n",
    "print(cleaned_movies_df[['title', 'parsed_production_countries', 'num_production_countries']].head())\n",
    "\n",
    "# Analyze the distribution of 'num_production_countries'\n",
    "country_count_distribution = cleaned_movies_df['num_production_countries'].value_counts()\n",
    "print(\"\\nDistribution of 'num_production_countries':\")\n",
    "print(country_count_distribution)\n"
   ]
  },
  {
   "cell_type": "markdown",
   "metadata": {},
   "source": [
    "Observations\n",
    "- A majority of movies (2256) are produced in only one country. These are likely dominated by US-based productions.\n",
    "\n",
    "- Movies with 2 or more countries involved (582 with 2 countries, 170 with 3 countries) indicate international collaborations, which might have unique effects on revenue.\n",
    "\n",
    "- A few movies have a high number of production countries (6, 8, 12). These could represent co-productions across multiple regions, worth further investigation.\n",
    "\n",
    "- Missing Values: 14 movies have 0 production countries listed."
   ]
  },
  {
   "cell_type": "code",
   "execution_count": 1392,
   "metadata": {},
   "outputs": [
    {
     "name": "stdout",
     "output_type": "stream",
     "text": [
      "Columns after dropping 'production_countries':\n",
      "Index(['budget', 'id', 'language', 'popularity', 'release_date', 'revenue',\n",
      "       'runtime', 'spoken_languages', 'status', 'title', 'vote_average',\n",
      "       'movie_id', 'main_actor_names', 'main_actor_genders', 'directors',\n",
      "       'writers', 'producers', 'crew_size', 'vote_count', 'Action',\n",
      "       'Adventure', 'Animation', 'Comedy', 'Crime', 'Documentary', 'Drama',\n",
      "       'Family', 'Fantasy', 'Foreign', 'History', 'Horror', 'Music', 'Mystery',\n",
      "       'Romance', 'Science Fiction', 'Thriller', 'War', 'Western',\n",
      "       'Top_Companies', 'Other_Companies', 'num_production_countries'],\n",
      "      dtype='object')\n"
     ]
    }
   ],
   "source": [
    "# Drop rows where 'num_production_countries' is 0\n",
    "cleaned_movies_df = cleaned_movies_df[cleaned_movies_df['num_production_countries'] > 0]\n",
    "\n",
    "# drop redundant columns\n",
    "cleaned_movies_df = cleaned_movies_df.drop(columns=['production_countries'])\n",
    "cleaned_movies_df = cleaned_movies_df.drop(columns=['parsed_production_countries'])\n",
    "cleaned_movies_df = cleaned_movies_df.drop(columns=['is_US'])\n",
    "\n",
    "\n",
    "# Verify the column has been dropped\n",
    "print(\"Columns after dropping 'production_countries':\")\n",
    "print(cleaned_movies_df.columns)"
   ]
  },
  {
   "cell_type": "markdown",
   "metadata": {},
   "source": [
    "The `spoken_languages` column is another important feature to explore, as it might provide insights into a movie’s accessibility or cultural reach"
   ]
  },
  {
   "cell_type": "code",
   "execution_count": 1393,
   "metadata": {},
   "outputs": [
    {
     "name": "stdout",
     "output_type": "stream",
     "text": [
      "First 5 rows of 'spoken_languages':\n",
      "0    [{\"iso_639_1\": \"en\", \"name\": \"English\"}, {\"iso...\n",
      "1             [{\"iso_639_1\": \"en\", \"name\": \"English\"}]\n",
      "2    [{\"iso_639_1\": \"fr\", \"name\": \"Fran\\u00e7ais\"},...\n",
      "3             [{\"iso_639_1\": \"en\", \"name\": \"English\"}]\n",
      "4             [{\"iso_639_1\": \"en\", \"name\": \"English\"}]\n",
      "Name: spoken_languages, dtype: object\n",
      "\n",
      "Missing values in 'spoken_languages': 0\n",
      "\n",
      "Number of unique entries in 'spoken_languages': 383\n"
     ]
    }
   ],
   "source": [
    "# Inspect the first few rows of 'spoken_languages'\n",
    "print(\"First 5 rows of 'spoken_languages':\")\n",
    "print(cleaned_movies_df['spoken_languages'].head())\n",
    "\n",
    "# Check for missing values in 'spoken_languages'\n",
    "missing_languages = cleaned_movies_df['spoken_languages'].isnull().sum()\n",
    "print(\"\\nMissing values in 'spoken_languages':\", missing_languages)\n",
    "\n",
    "# Analyze unique values\n",
    "unique_languages = cleaned_movies_df['spoken_languages'].unique()\n",
    "print(\"\\nNumber of unique entries in 'spoken_languages':\", len(unique_languages))\n"
   ]
  },
  {
   "cell_type": "markdown",
   "metadata": {},
   "source": [
    "Obersations:\n",
    "- JSON-Like Strings\n",
    "- 383 unique entries suggest combinations of languages, not just individual ones.\n",
    "\n",
    "Approach:\n",
    "- Extract the language codes for each movie\n",
    "- Find language diversity: Add a column counting the number of spoken languages"
   ]
  },
  {
   "cell_type": "code",
   "execution_count": 1394,
   "metadata": {},
   "outputs": [
    {
     "name": "stdout",
     "output_type": "stream",
     "text": [
      "  parsed_spoken_languages\n",
      "0                [en, es]\n",
      "1                    [en]\n",
      "2    [fr, en, es, it, de]\n",
      "3                    [en]\n",
      "4                    [en]\n"
     ]
    }
   ],
   "source": [
    "\n",
    "# Function to parse JSON-like strings and extract language codes\n",
    "def parse_languages(languages_str):\n",
    "    try:\n",
    "        languages_list = ast.literal_eval(languages_str)  # Safely evaluate the string to a list of dictionaries\n",
    "        return [language['iso_639_1'] for language in languages_list]  # Extract the 'iso_639_1' code\n",
    "    except (ValueError, SyntaxError):\n",
    "        return []  # Return an empty list if parsing fails\n",
    "\n",
    "# Apply the function to parse spoken languages\n",
    "cleaned_movies_df['parsed_spoken_languages'] = cleaned_movies_df['spoken_languages'].apply(parse_languages)\n",
    "\n",
    "# Verify the parsed results\n",
    "print(cleaned_movies_df[['parsed_spoken_languages']].head())"
   ]
  },
  {
   "cell_type": "code",
   "execution_count": 1395,
   "metadata": {},
   "outputs": [
    {
     "name": "stdout",
     "output_type": "stream",
     "text": [
      "First 5 rows with 'num_spoken_languages':\n",
      "                                      title parsed_spoken_languages  \\\n",
      "0                                    Avatar                [en, es]   \n",
      "1  Pirates of the Caribbean: At World's End                    [en]   \n",
      "2                                   Spectre    [fr, en, es, it, de]   \n",
      "3                     The Dark Knight Rises                    [en]   \n",
      "4                               John Carter                    [en]   \n",
      "\n",
      "   num_spoken_languages  \n",
      "0                     2  \n",
      "1                     1  \n",
      "2                     5  \n",
      "3                     1  \n",
      "4                     1  \n"
     ]
    }
   ],
   "source": [
    "# Count the number of spoken languages for each movie\n",
    "cleaned_movies_df['parsed_spoken_languages'] = cleaned_movies_df['spoken_languages'].apply(parse_languages)\n",
    "\n",
    "# Create a feature for the number of spoken languages\n",
    "cleaned_movies_df['num_spoken_languages'] = cleaned_movies_df['parsed_spoken_languages'].apply(len)\n",
    "\n",
    "# Verify the new feature\n",
    "print(\"First 5 rows with 'num_spoken_languages':\")\n",
    "print(cleaned_movies_df[['title', 'parsed_spoken_languages', 'num_spoken_languages']].head())"
   ]
  },
  {
   "cell_type": "code",
   "execution_count": 1396,
   "metadata": {},
   "outputs": [
    {
     "name": "stdout",
     "output_type": "stream",
     "text": [
      "\n",
      "Distribution of 'num_spoken_languages':\n",
      "num_spoken_languages\n",
      "1    2128\n",
      "2     582\n",
      "3     221\n",
      "4      92\n",
      "5      39\n",
      "6      17\n",
      "7       3\n",
      "8       3\n",
      "0       2\n",
      "9       1\n",
      "Name: count, dtype: int64\n"
     ]
    }
   ],
   "source": [
    "# Analyze the distribution of 'num_spoken_languages'\n",
    "language_count_distribution = cleaned_movies_df['num_spoken_languages'].value_counts()\n",
    "print(\"\\nDistribution of 'num_spoken_languages':\")\n",
    "print(language_count_distribution)"
   ]
  },
  {
   "cell_type": "code",
   "execution_count": 1397,
   "metadata": {},
   "outputs": [
    {
     "name": "stdout",
     "output_type": "stream",
     "text": [
      "Columns after dropping 'spoken_languages':\n",
      "Index(['budget', 'id', 'language', 'popularity', 'release_date', 'revenue',\n",
      "       'runtime', 'status', 'title', 'vote_average', 'movie_id',\n",
      "       'main_actor_names', 'main_actor_genders', 'directors', 'writers',\n",
      "       'producers', 'crew_size', 'vote_count', 'Action', 'Adventure',\n",
      "       'Animation', 'Comedy', 'Crime', 'Documentary', 'Drama', 'Family',\n",
      "       'Fantasy', 'Foreign', 'History', 'Horror', 'Music', 'Mystery',\n",
      "       'Romance', 'Science Fiction', 'Thriller', 'War', 'Western',\n",
      "       'Top_Companies', 'Other_Companies', 'num_production_countries',\n",
      "       'num_spoken_languages'],\n",
      "      dtype='object')\n"
     ]
    }
   ],
   "source": [
    "# Drop the redundant columns\n",
    "cleaned_movies_df = cleaned_movies_df.drop(columns=['spoken_languages'])\n",
    "cleaned_movies_df = cleaned_movies_df.drop(columns=['parsed_spoken_languages'])\n",
    "\n",
    "# Verify the column has been dropped\n",
    "print(\"Columns after dropping 'spoken_languages':\")\n",
    "print(cleaned_movies_df.columns)"
   ]
  },
  {
   "cell_type": "markdown",
   "metadata": {},
   "source": [
    "`Status column` likely contains information about the movie's current status like released, in-production, etc.\n",
    "\n",
    "Plan:\n",
    "- Inspect the Values:\n",
    "    - Check the unique values in the column.\n",
    "\n",
    "- Analyze Distribution:\n",
    "    - Determine how many movies fall into each status category. "
   ]
  },
  {
   "cell_type": "code",
   "execution_count": 1398,
   "metadata": {},
   "outputs": [
    {
     "name": "stdout",
     "output_type": "stream",
     "text": [
      "Unique values in 'status': ['Released' 'Post Production']\n",
      "\n",
      "Distribution of 'status':\n",
      "status\n",
      "Released           3087\n",
      "Post Production       1\n",
      "Name: count, dtype: int64\n",
      "\n",
      "Missing values in 'status': 0\n"
     ]
    }
   ],
   "source": [
    "# Check the unique values in the 'status' column\n",
    "unique_status = cleaned_movies_df['status'].unique()\n",
    "print(\"Unique values in 'status':\", unique_status)\n",
    "\n",
    "# Analyze the distribution of values in the 'status' column\n",
    "status_distribution = cleaned_movies_df['status'].value_counts()\n",
    "print(\"\\nDistribution of 'status':\")\n",
    "print(status_distribution)\n",
    "\n",
    "# Check for missing values\n",
    "missing_status = cleaned_movies_df['status'].isnull().sum()\n",
    "print(\"\\nMissing values in 'status':\", missing_status)\n"
   ]
  },
  {
   "cell_type": "markdown",
   "metadata": {},
   "source": [
    "Oberservation:\n",
    "- 99.5% of the dataset is marked released which is great because we want to only include the released movies.\n",
    "- Only 1 movie is marked as Post Production, which does not provide meaningful information for predicting revenue.\n",
    "- No missing values\n",
    "\n",
    "Plan:\n",
    "- The status column is not useful for modeling and can safely be dropped.\n",
    "- We also have one row with a movie which is marked under Post Production. Lets remove it since we only need Released movies."
   ]
  },
  {
   "cell_type": "code",
   "execution_count": 1399,
   "metadata": {},
   "outputs": [],
   "source": [
    "# Remove rows where 'status' is not 'Released'\n",
    "cleaned_movies_df = cleaned_movies_df[cleaned_movies_df['status'] == 'Released']"
   ]
  },
  {
   "cell_type": "code",
   "execution_count": null,
   "metadata": {},
   "outputs": [
    {
     "name": "stdout",
     "output_type": "stream",
     "text": [
      "Columns after dropping 'status':\n",
      "Index(['budget', 'id', 'language', 'popularity', 'release_date', 'revenue',\n",
      "       'runtime', 'title', 'vote_average', 'movie_id', 'main_actor_names',\n",
      "       'main_actor_genders', 'directors', 'writers', 'producers', 'crew_size',\n",
      "       'vote_count', 'Action', 'Adventure', 'Animation', 'Comedy', 'Crime',\n",
      "       'Documentary', 'Drama', 'Family', 'Fantasy', 'Foreign', 'History',\n",
      "       'Horror', 'Music', 'Mystery', 'Romance', 'Science Fiction', 'Thriller',\n",
      "       'War', 'Western', 'Top_Companies', 'Other_Companies',\n",
      "       'num_production_countries', 'num_spoken_languages'],\n",
      "      dtype='object')\n",
      "\n",
      "Remaining rows after cleanup: 3087\n"
     ]
    }
   ],
   "source": [
    "# Let's drop the 'status' column\n",
    "cleaned_movies_df = cleaned_movies_df.drop(columns=['status'])\n",
    "\n",
    "\n",
    "# Verify the results\n",
    "print(\"Columns after dropping 'status':\")\n",
    "print(cleaned_movies_df.columns)\n",
    "\n",
    "print(\"\\nRemaining rows after cleanup:\", cleaned_movies_df.shape[0])"
   ]
  },
  {
   "cell_type": "markdown",
   "metadata": {},
   "source": [
    "Let's move on to `release_date`\n",
    "This is another important feature to explore, as it can provide valuable patterns like seasonal trends, summer blockbustrs, certain days. Additionally, we can refer to this when checking the appearance of stars during a movie release on talk shows.\n",
    "\n",
    "Let's first look at the data, and come up with a plan."
   ]
  },
  {
   "cell_type": "code",
   "execution_count": 1401,
   "metadata": {},
   "outputs": [
    {
     "name": "stdout",
     "output_type": "stream",
     "text": [
      "First 5 rows of 'release_date':\n",
      "0    2009-12-10\n",
      "1    2007-05-19\n",
      "2    2015-10-26\n",
      "3    2012-07-16\n",
      "4    2012-03-07\n",
      "Name: release_date, dtype: object\n",
      "\n",
      "Missing values in 'release_date': 0\n",
      "\n",
      "Data type of 'release_date': object\n"
     ]
    }
   ],
   "source": [
    "# Inspect the first few rows and data type of 'release_date'\n",
    "print(\"First 5 rows of 'release_date':\")\n",
    "print(cleaned_movies_df['release_date'].head())\n",
    "\n",
    "# Check for missing or invalid values\n",
    "missing_dates = cleaned_movies_df['release_date'].isnull().sum()\n",
    "print(\"\\nMissing values in 'release_date':\", missing_dates)\n",
    "\n",
    "# Check the data type of 'release_date'\n",
    "print(\"\\nData type of 'release_date':\", cleaned_movies_df['release_date'].dtype)\n"
   ]
  },
  {
   "cell_type": "code",
   "execution_count": 1402,
   "metadata": {},
   "outputs": [
    {
     "name": "stdout",
     "output_type": "stream",
     "text": [
      "Oldest release date: 1916-09-04\n",
      "Movies released before 2010: 2180\n"
     ]
    }
   ],
   "source": [
    "# print oldest release date\n",
    "print(\"Oldest release date:\", cleaned_movies_df['release_date'].min())\n",
    "\n",
    "# how release date many before 2010 ?\n",
    "print(\"Movies released before 2010:\", (cleaned_movies_df['release_date'] < '2010').sum())\n",
    "\n",
    "# Between what years were most movies released ?\n",
    "release_years = cleaned_movies_df['release_date'].str[:4]\n",
    "release_year_counts = release_years.value_counts().sort_index()\n",
    "\n"
   ]
  },
  {
   "cell_type": "code",
   "execution_count": 1403,
   "metadata": {},
   "outputs": [
    {
     "name": "stdout",
     "output_type": "stream",
     "text": [
      "First 5 rows with new release date features:\n",
      "  release_date  release_year  release_month release_dayofweek release_season\n",
      "0   2009-12-10          2009             12          Thursday         Winter\n",
      "1   2007-05-19          2007              5          Saturday         Spring\n",
      "2   2015-10-26          2015             10            Monday           Fall\n",
      "3   2012-07-16          2012              7            Monday         Summer\n",
      "4   2012-03-07          2012              3         Wednesday         Spring\n"
     ]
    }
   ],
   "source": [
    "# Convert 'release_date' to datetime format\n",
    "cleaned_movies_df['release_date'] = pd.to_datetime(cleaned_movies_df['release_date'], errors='coerce')\n",
    "\n",
    "# Extract year, month, and day of the week\n",
    "cleaned_movies_df['release_year'] = cleaned_movies_df['release_date'].dt.year\n",
    "cleaned_movies_df['release_month'] = cleaned_movies_df['release_date'].dt.month\n",
    "cleaned_movies_df['release_dayofweek'] = cleaned_movies_df['release_date'].dt.day_name()\n",
    "\n",
    "# Add a column for seasons\n",
    "def assign_season(month):\n",
    "    if pd.isna(month):\n",
    "        return 'Unknown'\n",
    "    elif month in [12, 1, 2]:\n",
    "        return 'Winter'\n",
    "    elif month in [3, 4, 5]:\n",
    "        return 'Spring'\n",
    "    elif month in [6, 7, 8]:\n",
    "        return 'Summer'\n",
    "    elif month in [9, 10, 11]:\n",
    "        return 'Fall'\n",
    "\n",
    "cleaned_movies_df['release_season'] = cleaned_movies_df['release_month'].apply(assign_season)\n",
    "\n",
    "# Verify the new columns\n",
    "print(\"First 5 rows with new release date features:\")\n",
    "print(cleaned_movies_df[['release_date', 'release_year', 'release_month', 'release_dayofweek', 'release_season']].head())\n"
   ]
  },
  {
   "cell_type": "markdown",
   "metadata": {},
   "source": [
    "Do certain release seasons have an impact on revenue ?"
   ]
  },
  {
   "cell_type": "code",
   "execution_count": 1404,
   "metadata": {},
   "outputs": [
    {
     "name": "stdout",
     "output_type": "stream",
     "text": [
      "Average revenue by season:\n",
      "release_season\n",
      "Summer    1.507862e+08\n",
      "Spring    1.468658e+08\n",
      "Winter    1.084984e+08\n",
      "Fall      9.901546e+07\n",
      "Name: revenue, dtype: float64\n"
     ]
    },
    {
     "data": {
      "image/png": "[encoded data removed]",
      "text/plain": [
       "<Figure size 800x600 with 1 Axes>"
      ]
     },
     "metadata": {},
     "output_type": "display_data"
    }
   ],
   "source": [
    "# Group the data by release season and calculate the mean revenue\n",
    "seasonal_revenue = cleaned_movies_df.groupby('release_season')['revenue'].mean().sort_values(ascending=False)\n",
    "\n",
    "# Display the average revenue by season\n",
    "print(\"Average revenue by season:\")\n",
    "print(seasonal_revenue)\n",
    "\n",
    "# Plotting the results\n",
    "plt.figure(figsize=(8, 6))\n",
    "seasonal_revenue.plot(kind='bar')\n",
    "plt.title('Average Revenue by Season')\n",
    "plt.xlabel('Season')\n",
    "plt.ylabel('Average Revenue')\n",
    "plt.xticks(rotation=45)\n",
    "plt.grid(axis='y', linestyle='--', alpha=0.7)\n",
    "plt.tight_layout()\n",
    "plt.show()\n"
   ]
  },
  {
   "cell_type": "markdown",
   "metadata": {},
   "source": [
    "Observations:\n",
    "<br>\n",
    "This suggests that movies released in Summer and Spring generally perform better in terms of revenue. "
   ]
  },
  {
   "cell_type": "markdown",
   "metadata": {},
   "source": [
    "Analyze if these averages are driven by a few blockbusters or consistent seasonal performance."
   ]
  },
  {
   "cell_type": "code",
   "execution_count": 1405,
   "metadata": {},
   "outputs": [
    {
     "data": {
      "image/png": "[encoded data removed]",
      "text/plain": [
       "<Figure size 1200x600 with 1 Axes>"
      ]
     },
     "metadata": {},
     "output_type": "display_data"
    }
   ],
   "source": [
    "# Set plot size\n",
    "plt.figure(figsize=(12, 6))\n",
    "\n",
    "# Create a box plot for revenue by season\n",
    "sns.boxplot(data=cleaned_movies_df, x='release_season', y='revenue', showfliers=True)\n",
    "plt.title('Revenue Distribution by Season')\n",
    "plt.xlabel('Season')\n",
    "plt.ylabel('Revenue')\n",
    "\n",
    "# Show the plot\n",
    "plt.show()\n"
   ]
  },
  {
   "cell_type": "markdown",
   "metadata": {},
   "source": [
    "The median revenues seem fairly similar across all seasons, indicating that the central tendency does not vary significantly.<br>\n",
    "Lets remove the outliers and recalculate the average revenue for each season to see how much the averages are affected by blockbusters.\n"
   ]
  },
  {
   "cell_type": "code",
   "execution_count": 1406,
   "metadata": {},
   "outputs": [
    {
     "name": "stdout",
     "output_type": "stream",
     "text": [
      "release_season\n",
      "Fall      5.915807e+07\n",
      "Spring    8.161926e+07\n",
      "Summer    1.015239e+08\n",
      "Winter    7.833966e+07\n",
      "Name: revenue, dtype: float64\n"
     ]
    }
   ],
   "source": [
    "# Remove outliers using the IQR method\n",
    "Q1 = cleaned_movies_df.groupby('release_season')['revenue'].quantile(0.25)\n",
    "Q3 = cleaned_movies_df.groupby('release_season')['revenue'].quantile(0.75)\n",
    "IQR = Q3 - Q1\n",
    "\n",
    "def remove_outliers(row):\n",
    "    q1 = Q1[row['release_season']]\n",
    "    q3 = Q3[row['release_season']]\n",
    "    iqr = IQR[row['release_season']]\n",
    "    return (row['revenue'] >= q1 - 1.5 * iqr) and (row['revenue'] <= q3 + 1.5 * iqr)\n",
    "\n",
    "filtered_df = cleaned_movies_df[cleaned_movies_df.apply(remove_outliers, axis=1)]\n",
    "\n",
    "# Recalculate average revenue without outliers\n",
    "avg_revenue_no_outliers = filtered_df.groupby('release_season')['revenue'].mean()\n",
    "print(avg_revenue_no_outliers)\n"
   ]
  },
  {
   "cell_type": "code",
   "execution_count": 1407,
   "metadata": {},
   "outputs": [
    {
     "name": "stdout",
     "output_type": "stream",
     "text": [
      "Index(['budget', 'id', 'language', 'popularity', 'release_date', 'revenue',\n",
      "       'runtime', 'title', 'vote_average', 'movie_id', 'main_actor_names',\n",
      "       'main_actor_genders', 'directors', 'writers', 'producers', 'crew_size',\n",
      "       'vote_count', 'Action', 'Adventure', 'Animation', 'Comedy', 'Crime',\n",
      "       'Documentary', 'Drama', 'Family', 'Fantasy', 'Foreign', 'History',\n",
      "       'Horror', 'Music', 'Mystery', 'Romance', 'Science Fiction', 'Thriller',\n",
      "       'War', 'Western', 'Top_Companies', 'Other_Companies',\n",
      "       'num_production_countries', 'num_spoken_languages', 'release_year',\n",
      "       'release_month', 'release_dayofweek', 'release_season'],\n",
      "      dtype='object')\n"
     ]
    }
   ],
   "source": [
    "# Verify the changes\n",
    "print(cleaned_movies_df.columns)"
   ]
  },
  {
   "cell_type": "markdown",
   "metadata": {},
   "source": [
    "Overvations: <br>\n",
    "- Summer: Still leads in average revenue even without outliers, confirming that this season generally performs better, likely due to increased audience availability and the release of major blockbusters.\n",
    "- Spring and Winter: Show similar average revenue levels, though Spring performs slightly better.\n",
    "- Fall: Has the lowest average revenue"
   ]
  },
  {
   "cell_type": "markdown",
   "metadata": {},
   "source": [
    "Lets do One-Hot Encoding, and creat features like `season_summer`, `season_winter` with binary values."
   ]
  },
  {
   "cell_type": "code",
   "execution_count": 1408,
   "metadata": {},
   "outputs": [
    {
     "name": "stdout",
     "output_type": "stream",
     "text": [
      "Index(['budget', 'id', 'language', 'popularity', 'release_date', 'revenue',\n",
      "       'runtime', 'title', 'vote_average', 'movie_id', 'main_actor_names',\n",
      "       'main_actor_genders', 'directors', 'writers', 'producers', 'crew_size',\n",
      "       'vote_count', 'Action', 'Adventure', 'Animation', 'Comedy', 'Crime',\n",
      "       'Documentary', 'Drama', 'Family', 'Fantasy', 'Foreign', 'History',\n",
      "       'Horror', 'Music', 'Mystery', 'Romance', 'Science Fiction', 'Thriller',\n",
      "       'War', 'Western', 'Top_Companies', 'Other_Companies',\n",
      "       'num_production_countries', 'num_spoken_languages', 'release_year',\n",
      "       'release_month', 'release_dayofweek', 'release_season', 'season_Fall',\n",
      "       'season_Spring', 'season_Summer', 'season_Winter'],\n",
      "      dtype='object')\n"
     ]
    }
   ],
   "source": [
    "# One-hot encode the 'release_season' column\n",
    "season_encoded_df = pd.get_dummies(cleaned_movies_df['release_season'], prefix='season')\n",
    "\n",
    "# Concatenate the encoded columns with the original DataFrame\n",
    "cleaned_movies_df = pd.concat([cleaned_movies_df, season_encoded_df], axis=1)\n",
    "\n",
    "# Verify the changes\n",
    "print(cleaned_movies_df.columns)"
   ]
  },
  {
   "cell_type": "code",
   "execution_count": 1409,
   "metadata": {},
   "outputs": [
    {
     "name": "stdout",
     "output_type": "stream",
     "text": [
      "Index(['budget', 'id', 'language', 'popularity', 'revenue', 'runtime', 'title',\n",
      "       'vote_average', 'movie_id', 'main_actor_names', 'main_actor_genders',\n",
      "       'directors', 'writers', 'producers', 'crew_size', 'vote_count',\n",
      "       'Action', 'Adventure', 'Animation', 'Comedy', 'Crime', 'Documentary',\n",
      "       'Drama', 'Family', 'Fantasy', 'Foreign', 'History', 'Horror', 'Music',\n",
      "       'Mystery', 'Romance', 'Science Fiction', 'Thriller', 'War', 'Western',\n",
      "       'Top_Companies', 'Other_Companies', 'num_production_countries',\n",
      "       'num_spoken_languages', 'release_year', 'season_Fall', 'season_Spring',\n",
      "       'season_Summer', 'season_Winter'],\n",
      "      dtype='object')\n"
     ]
    }
   ],
   "source": [
    "# Drop other features related to release date\n",
    "cleaned_movies_df.drop(columns=['release_season'], inplace=True)\n",
    "\n",
    "cleaned_movies_df.drop(columns=['release_date'], inplace=True)\n",
    "\n",
    "cleaned_movies_df.drop(columns=['release_month'], inplace=True)\n",
    "\n",
    "cleaned_movies_df.drop(columns=['release_dayofweek'], inplace=True)\n",
    "\n",
    "# Verify the changes\n",
    "print(cleaned_movies_df.columns)\n"
   ]
  },
  {
   "cell_type": "markdown",
   "metadata": {},
   "source": [
    "Lets not drop `release_year` year incase we need to analyis trends over time.\n"
   ]
  },
  {
   "cell_type": "markdown",
   "metadata": {},
   "source": [
    "Notes for Ola\n",
    "Next:\n",
    "\n",
    "We still need to go through the following features:\n",
    "`main_actor_names`, `main_actor_genders`, `directors`, `writers`, `producers`, `crew_size`.\n",
    "<br>\n",
    "Some Analysis ideas:\n",
    "<br>\n",
    "1- Proportion of male and female actors in the cast. Does that have an impact on the revenue.<br>\n",
    "2- We have a feature called `cast_size`. Does having bigger cast size have an impact  on revnue (more resources, etcc)<br>\n",
    "3- Actor popularity score based on previous movie revenues impact revenue ?<br>\n",
    "4- we can drop `movie_id` and `id`at the end since it won't be relevant at the end<br>"
   ]
  },
  {
   "cell_type": "markdown",
   "metadata": {},
   "source": [
    "### 5.2 Correlation analysis"
   ]
  }
 ],
 "metadata": {
  "kernelspec": {
   "display_name": "Python 3",
   "language": "python",
   "name": "python3"
  },
  "language_info": {
   "codemirror_mode": {
    "name": "ipython",
    "version": 3
   },
   "file_extension": ".py",
   "mimetype": "text/x-python",
   "name": "python",
   "nbconvert_exporter": "python",
   "pygments_lexer": "ipython3",
   "version": "3.12.0"
  }
 },
 "nbformat": 4,
 "nbformat_minor": 2
}
