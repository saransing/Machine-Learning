{
 "cells": [
  {
   "cell_type": "markdown",
   "id": "5bc9be56",
   "metadata": {
    "id": "5bc9be56"
   },
   "source": [
    "## Sentiment Analysis"
   ]
  },
  {
   "cell_type": "markdown",
   "id": "818b3b52",
   "metadata": {
    "id": "818b3b52"
   },
   "source": [
    "In this exercise we use the IMDb-dataset, which we will use to perform a sentiment analysis. The code below assumes that the data is placed in the same folder as this notebook. We see that the reviews are loaded as a pandas dataframe, and print the beginning of the first few reviews."
   ]
  },
  {
   "cell_type": "code",
   "execution_count": 12,
   "id": "67da3bc0",
   "metadata": {
    "colab": {
     "base_uri": "https://localhost:8080/"
    },
    "id": "67da3bc0",
    "outputId": "e17f5c0b-990d-468b-d69a-1ffb7ecb3bda"
   },
   "outputs": [
    {
     "name": "stdout",
     "output_type": "stream",
     "text": [
      "<class 'pandas.core.frame.DataFrame'>\n",
      "                                                   0\n",
      "0  bromwell high is a cartoon comedy . it ran at ...\n",
      "1  story of a man who has unnatural feelings for ...\n",
      "2  homelessness  or houselessness as george carli...\n",
      "3  airport    starts as a brand new luxury    pla...\n",
      "4  brilliant over  acting by lesley ann warren . ...\n"
     ]
    }
   ],
   "source": [
    "import numpy as np\n",
    "import pandas as pd\n",
    "\n",
    "reviews = pd.read_csv('reviews.txt', header=None)\n",
    "labels = pd.read_csv('labels.txt', header=None)\n",
    "labels = (labels=='positive').astype(np.int_)\n",
    "\n",
    "print(type(reviews))\n",
    "print(reviews.head())"
   ]
  },
  {
   "cell_type": "code",
   "execution_count": null,
   "id": "gpdxMsMq_kmi",
   "metadata": {
    "id": "gpdxMsMq_kmi"
   },
   "outputs": [],
   "source": [
    "from google.colab import drive\n",
    "drive.mount('/content/drive')"
   ]
  },
  {
   "cell_type": "markdown",
   "id": "4982b946",
   "metadata": {
    "id": "4982b946"
   },
   "source": [
    "**(a)** Split the reviews and labels in test, train and validation sets. The train and validation sets will be used to train your model and tune hyperparameters, the test set will be saved for testing. Use the `CountVectorizer` from `sklearn.feature_extraction.text` to create a Bag-of-Words representation of the reviews. Only use the 10,000 most frequent words (use the `max_features`-parameter of `CountVectorizer`)."
   ]
  },
  {
   "cell_type": "code",
   "execution_count": 14,
   "id": "c4fc3dac",
   "metadata": {
    "colab": {
     "base_uri": "https://localhost:8080/"
    },
    "id": "c4fc3dac",
    "outputId": "206d7ad6-833c-4679-c645-7214f3357ad4"
   },
   "outputs": [
    {
     "name": "stdout",
     "output_type": "stream",
     "text": [
      "Training set: (18062,) (18062,)\n",
      "Validation set: (3188,) (3188,)\n",
      "Test set: (3750,) (3750,)\n"
     ]
    }
   ],
   "source": [
    "import pandas as pd\n",
    "from sklearn.model_selection import train_test_split\n",
    "\n",
    "reviews_series = reviews.squeeze()\n",
    "labels_series = labels.squeeze()\n",
    "\n",
    "# Split data into train-test and then train-validation sets\n",
    "X_train, X_test, y_train, y_test = train_test_split(reviews_series, labels_series, test_size=0.15, random_state=7)\n",
    "X_train, X_val, y_train, y_val = train_test_split(X_train, y_train, test_size=0.15, random_state=7)\n",
    "\n",
    "# Reset indices for cleanliness\n",
    "X_train.reset_index(drop=True, inplace=True)\n",
    "y_train.reset_index(drop=True, inplace=True)\n",
    "X_val.reset_index(drop=True, inplace=True)\n",
    "y_val.reset_index(drop=True, inplace=True)\n",
    "X_test.reset_index(drop=True, inplace=True)\n",
    "y_test.reset_index(drop=True, inplace=True)\n",
    "\n",
    "# Ensure labels are 1D\n",
    "y_train = y_train.squeeze()\n",
    "y_val = y_val.squeeze()\n",
    "y_test = y_test.squeeze()\n",
    "\n",
    "# Print dataset shapes\n",
    "print(\"Training set:\", X_train.shape, y_train.shape)\n",
    "print(\"Validation set:\", X_val.shape, y_val.shape)\n",
    "print(\"Test set:\", X_test.shape, y_test.shape)"
   ]
  },
  {
   "cell_type": "code",
   "execution_count": 20,
   "id": "cec5c45d",
   "metadata": {
    "colab": {
     "base_uri": "https://localhost:8080/"
    },
    "id": "cec5c45d",
    "outputId": "1c51b74e-4ebf-4cef-be76-935f418df291"
   },
   "outputs": [
    {
     "name": "stdout",
     "output_type": "stream",
     "text": [
      "Vocabulary size: 10000\n"
     ]
    }
   ],
   "source": [
    "# Bag-of-Words (BoW) Representation\n",
    "from sklearn.feature_extraction.text import CountVectorizer\n",
    "\n",
    "# Initialize CountVectorizer with a limit of 10,000 most frequent words\n",
    "bow = CountVectorizer(max_features=10000)\n",
    "\n",
    "# Fit on the training data\n",
    "X_train_bow = bow.fit_transform(X_train)\n",
    "X_val_bow = bow.transform(X_val)\n",
    "X_test_bow = bow.transform(X_test)\n",
    "\n",
    "# Convert sparse matrices to dense arrays\n",
    "X_train_bow = X_train_bow.toarray()\n",
    "X_val_bow = X_val_bow.toarray()\n",
    "X_test_bow = X_test_bow.toarray()\n",
    "\n",
    "# Get vocabulary\n",
    "vocab = bow.get_feature_names_out()\n",
    "print(\"Vocabulary size:\", len(vocab))"
   ]
  },
  {
   "cell_type": "markdown",
   "id": "ebf07ee9",
   "metadata": {
    "id": "ebf07ee9"
   },
   "source": [
    "**(b)** Explore the representation of the reviews. How is a single word represented? How about a whole review?"
   ]
  },
  {
   "cell_type": "code",
   "execution_count": 21,
   "id": "8117a60e",
   "metadata": {
    "colab": {
     "base_uri": "https://localhost:8080/"
    },
    "id": "8117a60e",
    "outputId": "9009838a-3126-49f5-a7e0-5c41e695da48"
   },
   "outputs": [
    {
     "name": "stdout",
     "output_type": "stream",
     "text": [
      "Raw text: scanners ii the new order is just as good as david cronenberg  s classic scanners  scanners was made in     and scanners ii in     so their  s an eleven year gap between the two movies . the film captures the style of scanners which is a good thing  it wouldn  t be scanners without a head explosion so scanners ii has a head explosion scene that  s just has gruesome as the first . scanners ii the new order has some other imaginative gory scenes that are done well . the plot to scanners ii the new order is a new take on the series since it has the scanners being used as a vigilante force for a police chief and a group of scientists until a young scanner named david kellum discovers he  s being used and decides to get revenge .  br    br   scanners ii the new order is a great sequel to david cronenberg  s sci  fi classic scanners and should be seen . check this out .       \n",
      "Word vector: [0 0 0 ... 0 0 0]  - length: 10000\n",
      "Word counts (sorted): {'the': 11, 'ii': 6, 'new': 5, 'and': 4, 'as': 4, 'has': 4, 'is': 4, 'order': 4, 'david': 3, 'to': 3, 'be': 2, 'being': 2, 'br': 2, 'classic': 2, 'explosion': 2, 'good': 2, 'head': 2, 'in': 2, 'it': 2, 'just': 2, 'of': 2, 'so': 2, 'that': 2, 'used': 2, 'an': 1, 'are': 1, 'between': 1, 'captures': 1, 'check': 1, 'chief': 1, 'decides': 1, 'discovers': 1, 'done': 1, 'eleven': 1, 'fi': 1, 'film': 1, 'first': 1, 'for': 1, 'force': 1, 'gap': 1, 'get': 1, 'gory': 1, 'great': 1, 'group': 1, 'gruesome': 1, 'he': 1, 'imaginative': 1, 'made': 1, 'movies': 1, 'named': 1, 'on': 1, 'other': 1, 'out': 1, 'plot': 1, 'police': 1, 'revenge': 1, 'scene': 1, 'scenes': 1, 'sci': 1, 'scientists': 1, 'seen': 1, 'sequel': 1, 'series': 1, 'should': 1, 'since': 1, 'some': 1, 'style': 1, 'take': 1, 'their': 1, 'thing': 1, 'this': 1, 'two': 1, 'until': 1, 'vigilante': 1, 'was': 1, 'well': 1, 'which': 1, 'without': 1, 'wouldn': 1, 'year': 1, 'young': 1}\n"
     ]
    }
   ],
   "source": [
    "# Let's check a single sample\n",
    "index_to_inspect = 87\n",
    "print(\"Raw text:\", X_train[index_to_inspect])  # Raw text\n",
    "print(\"Word vector:\", X_train_bow[index_to_inspect],\n",
    "      \" - length:\", len(X_train_bow[index_to_inspect]))  # Word vector\n",
    "\n",
    "# Match word vector to vocabulary and sort by count\n",
    "word_counts = {vocab[i]: c for i, c in enumerate(X_train_bow[index_to_inspect]) if c > 0}\n",
    "word_counts = dict(sorted(word_counts.items(), key=lambda x: x[1], reverse=True))\n",
    "\n",
    "# Display most important words for this text\n",
    "print(\"Word counts (sorted):\", word_counts)"
   ]
  },
  {
   "cell_type": "markdown",
   "id": "c2638fce",
   "metadata": {
    "id": "c2638fce"
   },
   "source": [
    "**(c)** Train a neural network with a single hidden layer on the dataset, tuning the relevant hyperparameters to optimize accuracy."
   ]
  },
  {
   "cell_type": "code",
   "execution_count": 30,
   "id": "c36faecd",
   "metadata": {
    "colab": {
     "base_uri": "https://localhost:8080/"
    },
    "id": "c36faecd",
    "outputId": "f1702d89-ee60-46ed-a7d3-09f4266769a1"
   },
   "outputs": [
    {
     "name": "stdout",
     "output_type": "stream",
     "text": [
      "Epoch 1/10\n",
      "\u001b[1m565/565\u001b[0m \u001b[32m━━━━━━━━━━━━━━━━━━━━\u001b[0m\u001b[37m\u001b[0m \u001b[1m16s\u001b[0m 27ms/step - accuracy: 0.8187 - loss: 0.4134 - val_accuracy: 0.8833 - val_loss: 0.3003\n",
      "Epoch 2/10\n",
      "\u001b[1m565/565\u001b[0m \u001b[32m━━━━━━━━━━━━━━━━━━━━\u001b[0m\u001b[37m\u001b[0m \u001b[1m22s\u001b[0m 30ms/step - accuracy: 0.9395 - loss: 0.1676 - val_accuracy: 0.8708 - val_loss: 0.3256\n",
      "Epoch 3/10\n",
      "\u001b[1m565/565\u001b[0m \u001b[32m━━━━━━━━━━━━━━━━━━━━\u001b[0m\u001b[37m\u001b[0m \u001b[1m15s\u001b[0m 21ms/step - accuracy: 0.9695 - loss: 0.0904 - val_accuracy: 0.8739 - val_loss: 0.3758\n",
      "Epoch 4/10\n",
      "\u001b[1m565/565\u001b[0m \u001b[32m━━━━━━━━━━━━━━━━━━━━\u001b[0m\u001b[37m\u001b[0m \u001b[1m21s\u001b[0m 21ms/step - accuracy: 0.9903 - loss: 0.0380 - val_accuracy: 0.8717 - val_loss: 0.4426\n",
      "Epoch 5/10\n",
      "\u001b[1m565/565\u001b[0m \u001b[32m━━━━━━━━━━━━━━━━━━━━\u001b[0m\u001b[37m\u001b[0m \u001b[1m11s\u001b[0m 20ms/step - accuracy: 0.9975 - loss: 0.0161 - val_accuracy: 0.8730 - val_loss: 0.5488\n",
      "Epoch 6/10\n",
      "\u001b[1m565/565\u001b[0m \u001b[32m━━━━━━━━━━━━━━━━━━━━\u001b[0m\u001b[37m\u001b[0m \u001b[1m11s\u001b[0m 20ms/step - accuracy: 0.9986 - loss: 0.0087 - val_accuracy: 0.8708 - val_loss: 0.6184\n",
      "Epoch 7/10\n",
      "\u001b[1m565/565\u001b[0m \u001b[32m━━━━━━━━━━━━━━━━━━━━\u001b[0m\u001b[37m\u001b[0m \u001b[1m21s\u001b[0m 21ms/step - accuracy: 0.9974 - loss: 0.0137 - val_accuracy: 0.8576 - val_loss: 0.6641\n",
      "Epoch 8/10\n",
      "\u001b[1m565/565\u001b[0m \u001b[32m━━━━━━━━━━━━━━━━━━━━\u001b[0m\u001b[37m\u001b[0m \u001b[1m20s\u001b[0m 20ms/step - accuracy: 0.9999 - loss: 0.0040 - val_accuracy: 0.8679 - val_loss: 0.6894\n",
      "Epoch 9/10\n",
      "\u001b[1m565/565\u001b[0m \u001b[32m━━━━━━━━━━━━━━━━━━━━\u001b[0m\u001b[37m\u001b[0m \u001b[1m12s\u001b[0m 21ms/step - accuracy: 0.9999 - loss: 9.0667e-04 - val_accuracy: 0.8708 - val_loss: 0.7457\n",
      "Epoch 10/10\n",
      "\u001b[1m565/565\u001b[0m \u001b[32m━━━━━━━━━━━━━━━━━━━━\u001b[0m\u001b[37m\u001b[0m \u001b[1m12s\u001b[0m 21ms/step - accuracy: 1.0000 - loss: 4.6514e-04 - val_accuracy: 0.8695 - val_loss: 0.7909\n",
      "Final Validation Accuracy: 86.95%\n"
     ]
    }
   ],
   "source": [
    "from tensorflow.keras.models import Sequential\n",
    "from tensorflow.keras.layers import Dense, Input\n",
    "\n",
    "# Define the neural network\n",
    "model = Sequential([\n",
    "    Input(shape=(10000,)),  # Input size matches the number of features (10,000 most frequent words)\n",
    "    Dense(128, activation='relu'),  # Hidden layer with 128 neurons\n",
    "    Dense(1, activation='sigmoid')  # Output layer for binary classification\n",
    "])\n",
    "\n",
    "# Compile the model\n",
    "model.compile(optimizer='adam', loss='binary_crossentropy', metrics=['accuracy'])\n",
    "\n",
    "# Train the model\n",
    "history = model.fit(\n",
    "    X_train_bow, y_train,\n",
    "    validation_data=(X_val_bow, y_val),\n",
    "    epochs=10, batch_size=32\n",
    ")\n",
    "\n",
    "final_val_accuracy = history.history['val_accuracy'][-1]  # Last epoch's validation accuracy\n",
    "print(f\"Final Validation Accuracy: {final_val_accuracy * 100:.2f}%\")\n",
    "\n"
   ]
  },
  {
   "cell_type": "markdown",
   "id": "1fd327a6",
   "metadata": {
    "id": "1fd327a6"
   },
   "source": [
    "**(d)** Test your sentiment-classifier on the test set."
   ]
  },
  {
   "cell_type": "code",
   "execution_count": 29,
   "id": "7RaCHWUuEiSk",
   "metadata": {
    "colab": {
     "base_uri": "https://localhost:8080/"
    },
    "id": "7RaCHWUuEiSk",
    "outputId": "0e130fca-edea-4db2-bc4c-a804351fd9b5"
   },
   "outputs": [
    {
     "name": "stdout",
     "output_type": "stream",
     "text": [
      "\u001b[1m118/118\u001b[0m \u001b[32m━━━━━━━━━━━━━━━━━━━━\u001b[0m\u001b[37m\u001b[0m \u001b[1m1s\u001b[0m 5ms/step - accuracy: 0.8815 - loss: 0.7549\n",
      "Test Accuracy: 88.19%\n"
     ]
    }
   ],
   "source": [
    "# Evaluate the model on the test set.\n",
    "test_loss, test_accuracy = model.evaluate(X_test_bow, y_test)\n",
    "print(f\"Test Accuracy: {test_accuracy * 100:.2f}%\")"
   ]
  },
  {
   "cell_type": "code",
   "execution_count": 28,
   "id": "QQAN_KUgGPY2",
   "metadata": {
    "colab": {
     "base_uri": "https://localhost:8080/",
     "height": 887
    },
    "id": "QQAN_KUgGPY2",
    "outputId": "de670dbf-359e-4414-9e74-2a89efe0069c"
   },
   "outputs": [
    {
     "data": {
      "image/png": "[encoded data removed]",
      "text/plain": [
       "<Figure size 640x480 with 1 Axes>"
      ]
     },
     "metadata": {},
     "output_type": "display_data"
    },
    {
     "data": {
      "image/png": "[encoded data removed]",
      "text/plain": [
       "<Figure size 640x480 with 1 Axes>"
      ]
     },
     "metadata": {},
     "output_type": "display_data"
    }
   ],
   "source": [
    "# Visualize the training and validation accuracy/loss over epochs.\n",
    "import matplotlib.pyplot as plt\n",
    "# Plot accuracy\n",
    "plt.plot(history.history['accuracy'], label='Training Accuracy')\n",
    "plt.plot(history.history['val_accuracy'], label='Validation Accuracy')\n",
    "plt.legend()\n",
    "plt.title('Accuracy Over Epochs')\n",
    "plt.show()\n",
    "\n",
    "# Plot loss\n",
    "plt.plot(history.history['loss'], label='Training Loss')\n",
    "plt.plot(history.history['val_loss'], label='Validation Loss')\n",
    "plt.legend()\n",
    "plt.title('Loss Over Epochs')\n",
    "plt.show()"
   ]
  },
  {
   "cell_type": "markdown",
   "id": "fd44ee62",
   "metadata": {
    "id": "fd44ee62"
   },
   "source": [
    "**(e)** Use the classifier to classify a few sentences you write yourselves.\n"
   ]
  },
  {
   "cell_type": "code",
   "execution_count": null,
   "id": "yuakIhWzI_2i",
   "metadata": {
    "colab": {
     "base_uri": "https://localhost:8080/"
    },
    "id": "yuakIhWzI_2i",
    "outputId": "6ffda99a-dec4-4def-ba72-03300e4a96f1"
   },
   "outputs": [
    {
     "name": "stdout",
     "output_type": "stream",
     "text": [
      "\u001b[1m1/1\u001b[0m \u001b[32m━━━━━━━━━━━━━━━━━━━━\u001b[0m\u001b[37m\u001b[0m \u001b[1m0s\u001b[0m 53ms/step\n",
      "Review: I love Aarhus, It is fantastic.\n",
      "Predicted Sentiment: Positive (Probability: 0.96)\n",
      "\n",
      "Review: I like studying at VIA, It's great.\n",
      "Predicted Sentiment: Positive (Probability: 0.96)\n",
      "\n"
     ]
    }
   ],
   "source": [
    "custom_sentences = [\n",
    "    \"I love Aarhus, It is fantastic.\",\n",
    "    \"I like studying at VIA, It's great.\"\n",
    "]\n",
    "\n",
    "# Transform sentences to Bag-of-Words representation\n",
    "custom_sentences_bow = bow.transform(custom_sentences).toarray()\n",
    "\n",
    "# Predict sentiment\n",
    "predictions = model.predict(custom_sentences_bow)\n",
    "\n",
    "# Display results\n",
    "for sentence, prediction in zip(custom_sentences, predictions):\n",
    "    sentiment = \"Positive\" if prediction[0] > 0.5 else \"Negative\"\n",
    "    print(f\"Review: {sentence}\")\n",
    "    print(f\"Predicted Sentiment: {sentiment} (Probability: {prediction[0]:.2f})\\n\")"
   ]
  }
 ],
 "metadata": {
  "colab": {
   "provenance": [],
   "toc_visible": true
  },
  "kernelspec": {
   "display_name": "Python 3",
   "language": "python",
   "name": "python3"
  },
  "language_info": {
   "codemirror_mode": {
    "name": "ipython",
    "version": 3
   },
   "file_extension": ".py",
   "mimetype": "text/x-python",
   "name": "python",
   "nbconvert_exporter": "python",
   "pygments_lexer": "ipython3",
   "version": "3.12.0"
  }
 },
 "nbformat": 4,
 "nbformat_minor": 5
}
